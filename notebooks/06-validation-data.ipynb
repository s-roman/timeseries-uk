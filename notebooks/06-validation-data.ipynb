{
 "cells": [
  {
   "attachments": {},
   "cell_type": "markdown",
   "id": "d2e73c2a",
   "metadata": {},
   "source": [
    "# **Working notebook: Validation Data EDA and Wrangling**\n",
    "\n",
    "The current notebook shows the work done to the validation data before uploading it to notebook `05-model-analysis`. "
   ]
  },
  {
   "cell_type": "code",
   "execution_count": 30,
   "id": "2f9da440",
   "metadata": {},
   "outputs": [],
   "source": [
    "import pandas as pd\n",
    "import numpy as np\n",
    "import plotly.graph_objects as go\n",
    "import matplotlib.pyplot as plt"
   ]
  },
  {
   "attachments": {},
   "cell_type": "markdown",
   "id": "84359f70",
   "metadata": {},
   "source": [
    "## **Energy Validation Data**"
   ]
  },
  {
   "cell_type": "code",
   "execution_count": 31,
   "id": "dfbd397c",
   "metadata": {},
   "outputs": [],
   "source": [
    "#Download CSV file, it was sourced from the ESO webpage\n",
    "df_validation = pd.read_csv('../data/demanddata.csv', index_col=0)"
   ]
  },
  {
   "cell_type": "code",
   "execution_count": 32,
   "id": "9099b38a",
   "metadata": {},
   "outputs": [
    {
     "data": {
      "text/html": [
       "<div>\n",
       "<style scoped>\n",
       "    .dataframe tbody tr th:only-of-type {\n",
       "        vertical-align: middle;\n",
       "    }\n",
       "\n",
       "    .dataframe tbody tr th {\n",
       "        vertical-align: top;\n",
       "    }\n",
       "\n",
       "    .dataframe thead th {\n",
       "        text-align: right;\n",
       "    }\n",
       "</style>\n",
       "<table border=\"1\" class=\"dataframe\">\n",
       "  <thead>\n",
       "    <tr style=\"text-align: right;\">\n",
       "      <th></th>\n",
       "      <th>SETTLEMENT_PERIOD</th>\n",
       "      <th>ND</th>\n",
       "      <th>TSD</th>\n",
       "      <th>ENGLAND_WALES_DEMAND</th>\n",
       "      <th>EMBEDDED_WIND_GENERATION</th>\n",
       "      <th>EMBEDDED_WIND_CAPACITY</th>\n",
       "      <th>EMBEDDED_SOLAR_GENERATION</th>\n",
       "      <th>EMBEDDED_SOLAR_CAPACITY</th>\n",
       "      <th>NON_BM_STOR</th>\n",
       "      <th>PUMP_STORAGE_PUMPING</th>\n",
       "      <th>IFA_FLOW</th>\n",
       "      <th>IFA2_FLOW</th>\n",
       "      <th>BRITNED_FLOW</th>\n",
       "      <th>MOYLE_FLOW</th>\n",
       "      <th>EAST_WEST_FLOW</th>\n",
       "      <th>NEMO_FLOW</th>\n",
       "      <th>NSL_FLOW</th>\n",
       "      <th>ELECLINK_FLOW</th>\n",
       "    </tr>\n",
       "    <tr>\n",
       "      <th>SETTLEMENT_DATE</th>\n",
       "      <th></th>\n",
       "      <th></th>\n",
       "      <th></th>\n",
       "      <th></th>\n",
       "      <th></th>\n",
       "      <th></th>\n",
       "      <th></th>\n",
       "      <th></th>\n",
       "      <th></th>\n",
       "      <th></th>\n",
       "      <th></th>\n",
       "      <th></th>\n",
       "      <th></th>\n",
       "      <th></th>\n",
       "      <th></th>\n",
       "      <th></th>\n",
       "      <th></th>\n",
       "      <th></th>\n",
       "    </tr>\n",
       "  </thead>\n",
       "  <tbody>\n",
       "    <tr>\n",
       "      <th>2023-01-01</th>\n",
       "      <td>1</td>\n",
       "      <td>21043</td>\n",
       "      <td>24680</td>\n",
       "      <td>18995</td>\n",
       "      <td>2815</td>\n",
       "      <td>6545</td>\n",
       "      <td>0</td>\n",
       "      <td>13080</td>\n",
       "      <td>0</td>\n",
       "      <td>1161</td>\n",
       "      <td>609</td>\n",
       "      <td>903</td>\n",
       "      <td>-896</td>\n",
       "      <td>-451</td>\n",
       "      <td>-529</td>\n",
       "      <td>253</td>\n",
       "      <td>235</td>\n",
       "      <td>998</td>\n",
       "    </tr>\n",
       "    <tr>\n",
       "      <th>2023-01-01</th>\n",
       "      <td>2</td>\n",
       "      <td>21756</td>\n",
       "      <td>25289</td>\n",
       "      <td>19730</td>\n",
       "      <td>2793</td>\n",
       "      <td>6545</td>\n",
       "      <td>0</td>\n",
       "      <td>13080</td>\n",
       "      <td>0</td>\n",
       "      <td>1056</td>\n",
       "      <td>596</td>\n",
       "      <td>904</td>\n",
       "      <td>-897</td>\n",
       "      <td>-451</td>\n",
       "      <td>-529</td>\n",
       "      <td>252</td>\n",
       "      <td>157</td>\n",
       "      <td>998</td>\n",
       "    </tr>\n",
       "    <tr>\n",
       "      <th>2023-01-01</th>\n",
       "      <td>3</td>\n",
       "      <td>21348</td>\n",
       "      <td>25269</td>\n",
       "      <td>19327</td>\n",
       "      <td>2773</td>\n",
       "      <td>6545</td>\n",
       "      <td>0</td>\n",
       "      <td>13080</td>\n",
       "      <td>0</td>\n",
       "      <td>1212</td>\n",
       "      <td>516</td>\n",
       "      <td>983</td>\n",
       "      <td>-910</td>\n",
       "      <td>-451</td>\n",
       "      <td>-529</td>\n",
       "      <td>253</td>\n",
       "      <td>-219</td>\n",
       "      <td>999</td>\n",
       "    </tr>\n",
       "    <tr>\n",
       "      <th>2023-01-01</th>\n",
       "      <td>4</td>\n",
       "      <td>20586</td>\n",
       "      <td>24574</td>\n",
       "      <td>18589</td>\n",
       "      <td>2753</td>\n",
       "      <td>6545</td>\n",
       "      <td>0</td>\n",
       "      <td>13080</td>\n",
       "      <td>0</td>\n",
       "      <td>1237</td>\n",
       "      <td>510</td>\n",
       "      <td>989</td>\n",
       "      <td>-911</td>\n",
       "      <td>-413</td>\n",
       "      <td>-529</td>\n",
       "      <td>254</td>\n",
       "      <td>-298</td>\n",
       "      <td>999</td>\n",
       "    </tr>\n",
       "    <tr>\n",
       "      <th>2023-01-01</th>\n",
       "      <td>5</td>\n",
       "      <td>19781</td>\n",
       "      <td>24135</td>\n",
       "      <td>17806</td>\n",
       "      <td>2712</td>\n",
       "      <td>6545</td>\n",
       "      <td>0</td>\n",
       "      <td>13080</td>\n",
       "      <td>0</td>\n",
       "      <td>1233</td>\n",
       "      <td>600</td>\n",
       "      <td>903</td>\n",
       "      <td>-912</td>\n",
       "      <td>-401</td>\n",
       "      <td>-529</td>\n",
       "      <td>253</td>\n",
       "      <td>-679</td>\n",
       "      <td>998</td>\n",
       "    </tr>\n",
       "  </tbody>\n",
       "</table>\n",
       "</div>"
      ],
      "text/plain": [
       "                 SETTLEMENT_PERIOD     ND    TSD  ENGLAND_WALES_DEMAND  \\\n",
       "SETTLEMENT_DATE                                                          \n",
       "2023-01-01                       1  21043  24680                 18995   \n",
       "2023-01-01                       2  21756  25289                 19730   \n",
       "2023-01-01                       3  21348  25269                 19327   \n",
       "2023-01-01                       4  20586  24574                 18589   \n",
       "2023-01-01                       5  19781  24135                 17806   \n",
       "\n",
       "                 EMBEDDED_WIND_GENERATION  EMBEDDED_WIND_CAPACITY  \\\n",
       "SETTLEMENT_DATE                                                     \n",
       "2023-01-01                           2815                    6545   \n",
       "2023-01-01                           2793                    6545   \n",
       "2023-01-01                           2773                    6545   \n",
       "2023-01-01                           2753                    6545   \n",
       "2023-01-01                           2712                    6545   \n",
       "\n",
       "                 EMBEDDED_SOLAR_GENERATION  EMBEDDED_SOLAR_CAPACITY  \\\n",
       "SETTLEMENT_DATE                                                       \n",
       "2023-01-01                               0                    13080   \n",
       "2023-01-01                               0                    13080   \n",
       "2023-01-01                               0                    13080   \n",
       "2023-01-01                               0                    13080   \n",
       "2023-01-01                               0                    13080   \n",
       "\n",
       "                 NON_BM_STOR  PUMP_STORAGE_PUMPING  IFA_FLOW  IFA2_FLOW  \\\n",
       "SETTLEMENT_DATE                                                           \n",
       "2023-01-01                 0                  1161       609        903   \n",
       "2023-01-01                 0                  1056       596        904   \n",
       "2023-01-01                 0                  1212       516        983   \n",
       "2023-01-01                 0                  1237       510        989   \n",
       "2023-01-01                 0                  1233       600        903   \n",
       "\n",
       "                 BRITNED_FLOW  MOYLE_FLOW  EAST_WEST_FLOW  NEMO_FLOW  \\\n",
       "SETTLEMENT_DATE                                                        \n",
       "2023-01-01               -896        -451            -529        253   \n",
       "2023-01-01               -897        -451            -529        252   \n",
       "2023-01-01               -910        -451            -529        253   \n",
       "2023-01-01               -911        -413            -529        254   \n",
       "2023-01-01               -912        -401            -529        253   \n",
       "\n",
       "                 NSL_FLOW  ELECLINK_FLOW  \n",
       "SETTLEMENT_DATE                           \n",
       "2023-01-01            235            998  \n",
       "2023-01-01            157            998  \n",
       "2023-01-01           -219            999  \n",
       "2023-01-01           -298            999  \n",
       "2023-01-01           -679            998  "
      ]
     },
     "execution_count": 32,
     "metadata": {},
     "output_type": "execute_result"
    }
   ],
   "source": [
    "#Check load\n",
    "df_validation.head()"
   ]
  },
  {
   "cell_type": "code",
   "execution_count": 33,
   "id": "c0d1cece",
   "metadata": {},
   "outputs": [
    {
     "name": "stdout",
     "output_type": "stream",
     "text": [
      "<class 'pandas.core.frame.DataFrame'>\n",
      "Index: 6958 entries, 2023-01-01 to 2023-05-25\n",
      "Data columns (total 18 columns):\n",
      " #   Column                     Non-Null Count  Dtype\n",
      "---  ------                     --------------  -----\n",
      " 0   SETTLEMENT_PERIOD          6958 non-null   int64\n",
      " 1   ND                         6958 non-null   int64\n",
      " 2   TSD                        6958 non-null   int64\n",
      " 3   ENGLAND_WALES_DEMAND       6958 non-null   int64\n",
      " 4   EMBEDDED_WIND_GENERATION   6958 non-null   int64\n",
      " 5   EMBEDDED_WIND_CAPACITY     6958 non-null   int64\n",
      " 6   EMBEDDED_SOLAR_GENERATION  6958 non-null   int64\n",
      " 7   EMBEDDED_SOLAR_CAPACITY    6958 non-null   int64\n",
      " 8   NON_BM_STOR                6958 non-null   int64\n",
      " 9   PUMP_STORAGE_PUMPING       6958 non-null   int64\n",
      " 10  IFA_FLOW                   6958 non-null   int64\n",
      " 11  IFA2_FLOW                  6958 non-null   int64\n",
      " 12  BRITNED_FLOW               6958 non-null   int64\n",
      " 13  MOYLE_FLOW                 6958 non-null   int64\n",
      " 14  EAST_WEST_FLOW             6958 non-null   int64\n",
      " 15  NEMO_FLOW                  6958 non-null   int64\n",
      " 16  NSL_FLOW                   6958 non-null   int64\n",
      " 17  ELECLINK_FLOW              6958 non-null   int64\n",
      "dtypes: int64(18)\n",
      "memory usage: 1.0+ MB\n"
     ]
    }
   ],
   "source": [
    "df_validation.info()"
   ]
  },
  {
   "cell_type": "code",
   "execution_count": 34,
   "id": "58ccbc94",
   "metadata": {},
   "outputs": [],
   "source": [
    "#Make the index datetime\n",
    "\n",
    "df_validation = df_validation.set_index(pd.to_datetime(df_validation.index))"
   ]
  },
  {
   "cell_type": "code",
   "execution_count": 35,
   "id": "2d8aa589",
   "metadata": {},
   "outputs": [
    {
     "name": "stdout",
     "output_type": "stream",
     "text": [
      "Index data type: <class 'pandas.core.indexes.datetimes.DatetimeIndex'>\n",
      "Index in increasing order: True\n",
      "Index with unique values: False\n"
     ]
    }
   ],
   "source": [
    "#Check that everything is ok with the index\n",
    "print(f\"Index data type: {type(df_validation.index)}\")\n",
    "print(f\"Index in increasing order: {df_validation.index.is_monotonic_increasing}\")\n",
    "print(f\"Index with unique values: {df_validation.index.is_unique}\")"
   ]
  },
  {
   "cell_type": "code",
   "execution_count": 36,
   "id": "a1351d8a",
   "metadata": {},
   "outputs": [
    {
     "data": {
      "text/plain": [
       "[<matplotlib.lines.Line2D at 0x1a6f3e5ee50>]"
      ]
     },
     "execution_count": 36,
     "metadata": {},
     "output_type": "execute_result"
    },
    {
     "data": {
      "image/png": "[encoded data removed]",
      "text/plain": [
       "<Figure size 2000x500 with 1 Axes>"
      ]
     },
     "metadata": {},
     "output_type": "display_data"
    }
   ],
   "source": [
    "#Plot target variable\n",
    "plt.figure(figsize=(20,5))\n",
    "plt.plot(df_validation['ND'])\n",
    "\n",
    "#the plot does not show a continous line, this is because of the granularity of the index the next codeblock will fix it"
   ]
  },
  {
   "cell_type": "code",
   "execution_count": 37,
   "id": "f2dea8a0",
   "metadata": {},
   "outputs": [
    {
     "data": {
      "text/html": [
       "<div>\n",
       "<style scoped>\n",
       "    .dataframe tbody tr th:only-of-type {\n",
       "        vertical-align: middle;\n",
       "    }\n",
       "\n",
       "    .dataframe tbody tr th {\n",
       "        vertical-align: top;\n",
       "    }\n",
       "\n",
       "    .dataframe thead th {\n",
       "        text-align: right;\n",
       "    }\n",
       "</style>\n",
       "<table border=\"1\" class=\"dataframe\">\n",
       "  <thead>\n",
       "    <tr style=\"text-align: right;\">\n",
       "      <th></th>\n",
       "      <th>ND</th>\n",
       "      <th>TSD</th>\n",
       "      <th>ENGLAND_WALES_DEMAND</th>\n",
       "      <th>EMBEDDED_WIND_GENERATION</th>\n",
       "      <th>EMBEDDED_WIND_CAPACITY</th>\n",
       "      <th>EMBEDDED_SOLAR_GENERATION</th>\n",
       "      <th>EMBEDDED_SOLAR_CAPACITY</th>\n",
       "      <th>NON_BM_STOR</th>\n",
       "      <th>PUMP_STORAGE_PUMPING</th>\n",
       "      <th>IFA_FLOW</th>\n",
       "      <th>IFA2_FLOW</th>\n",
       "      <th>BRITNED_FLOW</th>\n",
       "      <th>MOYLE_FLOW</th>\n",
       "      <th>EAST_WEST_FLOW</th>\n",
       "      <th>NEMO_FLOW</th>\n",
       "      <th>NSL_FLOW</th>\n",
       "      <th>ELECLINK_FLOW</th>\n",
       "    </tr>\n",
       "    <tr>\n",
       "      <th>new_index</th>\n",
       "      <th></th>\n",
       "      <th></th>\n",
       "      <th></th>\n",
       "      <th></th>\n",
       "      <th></th>\n",
       "      <th></th>\n",
       "      <th></th>\n",
       "      <th></th>\n",
       "      <th></th>\n",
       "      <th></th>\n",
       "      <th></th>\n",
       "      <th></th>\n",
       "      <th></th>\n",
       "      <th></th>\n",
       "      <th></th>\n",
       "      <th></th>\n",
       "      <th></th>\n",
       "    </tr>\n",
       "  </thead>\n",
       "  <tbody>\n",
       "    <tr>\n",
       "      <th>2023-01-01 00:00:00</th>\n",
       "      <td>21043</td>\n",
       "      <td>24680</td>\n",
       "      <td>18995</td>\n",
       "      <td>2815</td>\n",
       "      <td>6545</td>\n",
       "      <td>0</td>\n",
       "      <td>13080</td>\n",
       "      <td>0</td>\n",
       "      <td>1161</td>\n",
       "      <td>609</td>\n",
       "      <td>903</td>\n",
       "      <td>-896</td>\n",
       "      <td>-451</td>\n",
       "      <td>-529</td>\n",
       "      <td>253</td>\n",
       "      <td>235</td>\n",
       "      <td>998</td>\n",
       "    </tr>\n",
       "    <tr>\n",
       "      <th>2023-01-01 00:30:00</th>\n",
       "      <td>21756</td>\n",
       "      <td>25289</td>\n",
       "      <td>19730</td>\n",
       "      <td>2793</td>\n",
       "      <td>6545</td>\n",
       "      <td>0</td>\n",
       "      <td>13080</td>\n",
       "      <td>0</td>\n",
       "      <td>1056</td>\n",
       "      <td>596</td>\n",
       "      <td>904</td>\n",
       "      <td>-897</td>\n",
       "      <td>-451</td>\n",
       "      <td>-529</td>\n",
       "      <td>252</td>\n",
       "      <td>157</td>\n",
       "      <td>998</td>\n",
       "    </tr>\n",
       "    <tr>\n",
       "      <th>2023-01-01 01:00:00</th>\n",
       "      <td>21348</td>\n",
       "      <td>25269</td>\n",
       "      <td>19327</td>\n",
       "      <td>2773</td>\n",
       "      <td>6545</td>\n",
       "      <td>0</td>\n",
       "      <td>13080</td>\n",
       "      <td>0</td>\n",
       "      <td>1212</td>\n",
       "      <td>516</td>\n",
       "      <td>983</td>\n",
       "      <td>-910</td>\n",
       "      <td>-451</td>\n",
       "      <td>-529</td>\n",
       "      <td>253</td>\n",
       "      <td>-219</td>\n",
       "      <td>999</td>\n",
       "    </tr>\n",
       "    <tr>\n",
       "      <th>2023-01-01 01:30:00</th>\n",
       "      <td>20586</td>\n",
       "      <td>24574</td>\n",
       "      <td>18589</td>\n",
       "      <td>2753</td>\n",
       "      <td>6545</td>\n",
       "      <td>0</td>\n",
       "      <td>13080</td>\n",
       "      <td>0</td>\n",
       "      <td>1237</td>\n",
       "      <td>510</td>\n",
       "      <td>989</td>\n",
       "      <td>-911</td>\n",
       "      <td>-413</td>\n",
       "      <td>-529</td>\n",
       "      <td>254</td>\n",
       "      <td>-298</td>\n",
       "      <td>999</td>\n",
       "    </tr>\n",
       "    <tr>\n",
       "      <th>2023-01-01 02:00:00</th>\n",
       "      <td>19781</td>\n",
       "      <td>24135</td>\n",
       "      <td>17806</td>\n",
       "      <td>2712</td>\n",
       "      <td>6545</td>\n",
       "      <td>0</td>\n",
       "      <td>13080</td>\n",
       "      <td>0</td>\n",
       "      <td>1233</td>\n",
       "      <td>600</td>\n",
       "      <td>903</td>\n",
       "      <td>-912</td>\n",
       "      <td>-401</td>\n",
       "      <td>-529</td>\n",
       "      <td>253</td>\n",
       "      <td>-679</td>\n",
       "      <td>998</td>\n",
       "    </tr>\n",
       "  </tbody>\n",
       "</table>\n",
       "</div>"
      ],
      "text/plain": [
       "                        ND    TSD  ENGLAND_WALES_DEMAND  \\\n",
       "new_index                                                 \n",
       "2023-01-01 00:00:00  21043  24680                 18995   \n",
       "2023-01-01 00:30:00  21756  25289                 19730   \n",
       "2023-01-01 01:00:00  21348  25269                 19327   \n",
       "2023-01-01 01:30:00  20586  24574                 18589   \n",
       "2023-01-01 02:00:00  19781  24135                 17806   \n",
       "\n",
       "                     EMBEDDED_WIND_GENERATION  EMBEDDED_WIND_CAPACITY  \\\n",
       "new_index                                                               \n",
       "2023-01-01 00:00:00                      2815                    6545   \n",
       "2023-01-01 00:30:00                      2793                    6545   \n",
       "2023-01-01 01:00:00                      2773                    6545   \n",
       "2023-01-01 01:30:00                      2753                    6545   \n",
       "2023-01-01 02:00:00                      2712                    6545   \n",
       "\n",
       "                     EMBEDDED_SOLAR_GENERATION  EMBEDDED_SOLAR_CAPACITY  \\\n",
       "new_index                                                                 \n",
       "2023-01-01 00:00:00                          0                    13080   \n",
       "2023-01-01 00:30:00                          0                    13080   \n",
       "2023-01-01 01:00:00                          0                    13080   \n",
       "2023-01-01 01:30:00                          0                    13080   \n",
       "2023-01-01 02:00:00                          0                    13080   \n",
       "\n",
       "                     NON_BM_STOR  PUMP_STORAGE_PUMPING  IFA_FLOW  IFA2_FLOW  \\\n",
       "new_index                                                                     \n",
       "2023-01-01 00:00:00            0                  1161       609        903   \n",
       "2023-01-01 00:30:00            0                  1056       596        904   \n",
       "2023-01-01 01:00:00            0                  1212       516        983   \n",
       "2023-01-01 01:30:00            0                  1237       510        989   \n",
       "2023-01-01 02:00:00            0                  1233       600        903   \n",
       "\n",
       "                     BRITNED_FLOW  MOYLE_FLOW  EAST_WEST_FLOW  NEMO_FLOW  \\\n",
       "new_index                                                                  \n",
       "2023-01-01 00:00:00          -896        -451            -529        253   \n",
       "2023-01-01 00:30:00          -897        -451            -529        252   \n",
       "2023-01-01 01:00:00          -910        -451            -529        253   \n",
       "2023-01-01 01:30:00          -911        -413            -529        254   \n",
       "2023-01-01 02:00:00          -912        -401            -529        253   \n",
       "\n",
       "                     NSL_FLOW  ELECLINK_FLOW  \n",
       "new_index                                     \n",
       "2023-01-01 00:00:00       235            998  \n",
       "2023-01-01 00:30:00       157            998  \n",
       "2023-01-01 01:00:00      -219            999  \n",
       "2023-01-01 01:30:00      -298            999  \n",
       "2023-01-01 02:00:00      -679            998  "
      ]
     },
     "execution_count": 37,
     "metadata": {},
     "output_type": "execute_result"
    }
   ],
   "source": [
    "# Create a new column for hours based on the settlement period\n",
    "df_validation['hours'] = (df_validation['SETTLEMENT_PERIOD'] - 1) * 0.5\n",
    "\n",
    "# Create a new column for the datetime index with added hours\n",
    "df_validation['new_index'] = df_validation.index.floor('D') + pd.to_timedelta(df_validation['hours'], unit='H')\n",
    "\n",
    "# Set the new column as the index\n",
    "df_validation.set_index('new_index', inplace=True)\n",
    "\n",
    "# Drop the unnecessary columns\n",
    "df_validation.drop(columns=['SETTLEMENT_PERIOD', 'hours'], inplace=True)\n",
    "\n",
    "# Verify the updated DataFrame\n",
    "df_validation.head()\n"
   ]
  },
  {
   "cell_type": "code",
   "execution_count": 38,
   "id": "ce01cf6a",
   "metadata": {},
   "outputs": [
    {
     "data": {
      "text/plain": [
       "DatetimeIndex(['2023-01-01 00:00:00', '2023-01-01 00:30:00',\n",
       "               '2023-01-01 01:00:00', '2023-01-01 01:30:00',\n",
       "               '2023-01-01 02:00:00', '2023-01-01 02:30:00',\n",
       "               '2023-01-01 03:00:00', '2023-01-01 03:30:00',\n",
       "               '2023-01-01 04:00:00', '2023-01-01 04:30:00',\n",
       "               ...\n",
       "               '2023-05-25 19:00:00', '2023-05-25 19:30:00',\n",
       "               '2023-05-25 20:00:00', '2023-05-25 20:30:00',\n",
       "               '2023-05-25 21:00:00', '2023-05-25 21:30:00',\n",
       "               '2023-05-25 22:00:00', '2023-05-25 22:30:00',\n",
       "               '2023-05-25 23:00:00', '2023-05-25 23:30:00'],\n",
       "              dtype='datetime64[ns]', name='new_index', length=6958, freq=None)"
      ]
     },
     "execution_count": 38,
     "metadata": {},
     "output_type": "execute_result"
    }
   ],
   "source": [
    "df_validation.index"
   ]
  },
  {
   "cell_type": "code",
   "execution_count": 39,
   "id": "c6d7c027",
   "metadata": {},
   "outputs": [],
   "source": [
    "#Resample df\n",
    "df_validation_monthly = df_validation.resample(\"MS\").sum()\n",
    "\n",
    "df_validation_daily = df_validation.resample(\"D\").sum()"
   ]
  },
  {
   "cell_type": "code",
   "execution_count": 40,
   "id": "1b2504c0",
   "metadata": {},
   "outputs": [
    {
     "data": {
      "application/vnd.plotly.v1+json": {
       "config": {
        "plotlyServerURL": "https://plot.ly"
       },
       "data": [
        {
         "mode": "lines",
         "name": "ND",
         "type": "scatter",
         "x": [
          "2023-01-01T00:00:00",
          "2023-02-01T00:00:00",
          "2023-03-01T00:00:00",
          "2023-04-01T00:00:00",
          "2023-05-01T00:00:00"
         ],
         "y": [
          45692038,
          39747240,
          43182167,
          36750722,
          28149577
         ]
        }
       ],
       "layout": {
        "template": {
         "data": {
          "bar": [
           {
            "error_x": {
             "color": "#2a3f5f"
            },
            "error_y": {
             "color": "#2a3f5f"
            },
            "marker": {
             "line": {
              "color": "#E5ECF6",
              "width": 0.5
             }
            },
            "type": "bar"
           }
          ],
          "barpolar": [
           {
            "marker": {
             "line": {
              "color": "#E5ECF6",
              "width": 0.5
             }
            },
            "type": "barpolar"
           }
          ],
          "carpet": [
           {
            "aaxis": {
             "endlinecolor": "#2a3f5f",
             "gridcolor": "white",
             "linecolor": "white",
             "minorgridcolor": "white",
             "startlinecolor": "#2a3f5f"
            },
            "baxis": {
             "endlinecolor": "#2a3f5f",
             "gridcolor": "white",
             "linecolor": "white",
             "minorgridcolor": "white",
             "startlinecolor": "#2a3f5f"
            },
            "type": "carpet"
           }
          ],
          "choropleth": [
           {
            "colorbar": {
             "outlinewidth": 0,
             "ticks": ""
            },
            "type": "choropleth"
           }
          ],
          "contour": [
           {
            "colorbar": {
             "outlinewidth": 0,
             "ticks": ""
            },
            "colorscale": [
             [
              0,
              "#0d0887"
             ],
             [
              0.1111111111111111,
              "#46039f"
             ],
             [
              0.2222222222222222,
              "#7201a8"
             ],
             [
              0.3333333333333333,
              "#9c179e"
             ],
             [
              0.4444444444444444,
              "#bd3786"
             ],
             [
              0.5555555555555556,
              "#d8576b"
             ],
             [
              0.6666666666666666,
              "#ed7953"
             ],
             [
              0.7777777777777778,
              "#fb9f3a"
             ],
             [
              0.8888888888888888,
              "#fdca26"
             ],
             [
              1,
              "#f0f921"
             ]
            ],
            "type": "contour"
           }
          ],
          "contourcarpet": [
           {
            "colorbar": {
             "outlinewidth": 0,
             "ticks": ""
            },
            "type": "contourcarpet"
           }
          ],
          "heatmap": [
           {
            "colorbar": {
             "outlinewidth": 0,
             "ticks": ""
            },
            "colorscale": [
             [
              0,
              "#0d0887"
             ],
             [
              0.1111111111111111,
              "#46039f"
             ],
             [
              0.2222222222222222,
              "#7201a8"
             ],
             [
              0.3333333333333333,
              "#9c179e"
             ],
             [
              0.4444444444444444,
              "#bd3786"
             ],
             [
              0.5555555555555556,
              "#d8576b"
             ],
             [
              0.6666666666666666,
              "#ed7953"
             ],
             [
              0.7777777777777778,
              "#fb9f3a"
             ],
             [
              0.8888888888888888,
              "#fdca26"
             ],
             [
              1,
              "#f0f921"
             ]
            ],
            "type": "heatmap"
           }
          ],
          "heatmapgl": [
           {
            "colorbar": {
             "outlinewidth": 0,
             "ticks": ""
            },
            "colorscale": [
             [
              0,
              "#0d0887"
             ],
             [
              0.1111111111111111,
              "#46039f"
             ],
             [
              0.2222222222222222,
              "#7201a8"
             ],
             [
              0.3333333333333333,
              "#9c179e"
             ],
             [
              0.4444444444444444,
              "#bd3786"
             ],
             [
              0.5555555555555556,
              "#d8576b"
             ],
             [
              0.6666666666666666,
              "#ed7953"
             ],
             [
              0.7777777777777778,
              "#fb9f3a"
             ],
             [
              0.8888888888888888,
              "#fdca26"
             ],
             [
              1,
              "#f0f921"
             ]
            ],
            "type": "heatmapgl"
           }
          ],
          "histogram": [
           {
            "marker": {
             "colorbar": {
              "outlinewidth": 0,
              "ticks": ""
             }
            },
            "type": "histogram"
           }
          ],
          "histogram2d": [
           {
            "colorbar": {
             "outlinewidth": 0,
             "ticks": ""
            },
            "colorscale": [
             [
              0,
              "#0d0887"
             ],
             [
              0.1111111111111111,
              "#46039f"
             ],
             [
              0.2222222222222222,
              "#7201a8"
             ],
             [
              0.3333333333333333,
              "#9c179e"
             ],
             [
              0.4444444444444444,
              "#bd3786"
             ],
             [
              0.5555555555555556,
              "#d8576b"
             ],
             [
              0.6666666666666666,
              "#ed7953"
             ],
             [
              0.7777777777777778,
              "#fb9f3a"
             ],
             [
              0.8888888888888888,
              "#fdca26"
             ],
             [
              1,
              "#f0f921"
             ]
            ],
            "type": "histogram2d"
           }
          ],
          "histogram2dcontour": [
           {
            "colorbar": {
             "outlinewidth": 0,
             "ticks": ""
            },
            "colorscale": [
             [
              0,
              "#0d0887"
             ],
             [
              0.1111111111111111,
              "#46039f"
             ],
             [
              0.2222222222222222,
              "#7201a8"
             ],
             [
              0.3333333333333333,
              "#9c179e"
             ],
             [
              0.4444444444444444,
              "#bd3786"
             ],
             [
              0.5555555555555556,
              "#d8576b"
             ],
             [
              0.6666666666666666,
              "#ed7953"
             ],
             [
              0.7777777777777778,
              "#fb9f3a"
             ],
             [
              0.8888888888888888,
              "#fdca26"
             ],
             [
              1,
              "#f0f921"
             ]
            ],
            "type": "histogram2dcontour"
           }
          ],
          "mesh3d": [
           {
            "colorbar": {
             "outlinewidth": 0,
             "ticks": ""
            },
            "type": "mesh3d"
           }
          ],
          "parcoords": [
           {
            "line": {
             "colorbar": {
              "outlinewidth": 0,
              "ticks": ""
             }
            },
            "type": "parcoords"
           }
          ],
          "pie": [
           {
            "automargin": true,
            "type": "pie"
           }
          ],
          "scatter": [
           {
            "marker": {
             "colorbar": {
              "outlinewidth": 0,
              "ticks": ""
             }
            },
            "type": "scatter"
           }
          ],
          "scatter3d": [
           {
            "line": {
             "colorbar": {
              "outlinewidth": 0,
              "ticks": ""
             }
            },
            "marker": {
             "colorbar": {
              "outlinewidth": 0,
              "ticks": ""
             }
            },
            "type": "scatter3d"
           }
          ],
          "scattercarpet": [
           {
            "marker": {
             "colorbar": {
              "outlinewidth": 0,
              "ticks": ""
             }
            },
            "type": "scattercarpet"
           }
          ],
          "scattergeo": [
           {
            "marker": {
             "colorbar": {
              "outlinewidth": 0,
              "ticks": ""
             }
            },
            "type": "scattergeo"
           }
          ],
          "scattergl": [
           {
            "marker": {
             "colorbar": {
              "outlinewidth": 0,
              "ticks": ""
             }
            },
            "type": "scattergl"
           }
          ],
          "scattermapbox": [
           {
            "marker": {
             "colorbar": {
              "outlinewidth": 0,
              "ticks": ""
             }
            },
            "type": "scattermapbox"
           }
          ],
          "scatterpolar": [
           {
            "marker": {
             "colorbar": {
              "outlinewidth": 0,
              "ticks": ""
             }
            },
            "type": "scatterpolar"
           }
          ],
          "scatterpolargl": [
           {
            "marker": {
             "colorbar": {
              "outlinewidth": 0,
              "ticks": ""
             }
            },
            "type": "scatterpolargl"
           }
          ],
          "scatterternary": [
           {
            "marker": {
             "colorbar": {
              "outlinewidth": 0,
              "ticks": ""
             }
            },
            "type": "scatterternary"
           }
          ],
          "surface": [
           {
            "colorbar": {
             "outlinewidth": 0,
             "ticks": ""
            },
            "colorscale": [
             [
              0,
              "#0d0887"
             ],
             [
              0.1111111111111111,
              "#46039f"
             ],
             [
              0.2222222222222222,
              "#7201a8"
             ],
             [
              0.3333333333333333,
              "#9c179e"
             ],
             [
              0.4444444444444444,
              "#bd3786"
             ],
             [
              0.5555555555555556,
              "#d8576b"
             ],
             [
              0.6666666666666666,
              "#ed7953"
             ],
             [
              0.7777777777777778,
              "#fb9f3a"
             ],
             [
              0.8888888888888888,
              "#fdca26"
             ],
             [
              1,
              "#f0f921"
             ]
            ],
            "type": "surface"
           }
          ],
          "table": [
           {
            "cells": {
             "fill": {
              "color": "#EBF0F8"
             },
             "line": {
              "color": "white"
             }
            },
            "header": {
             "fill": {
              "color": "#C8D4E3"
             },
             "line": {
              "color": "white"
             }
            },
            "type": "table"
           }
          ]
         },
         "layout": {
          "annotationdefaults": {
           "arrowcolor": "#2a3f5f",
           "arrowhead": 0,
           "arrowwidth": 1
          },
          "coloraxis": {
           "colorbar": {
            "outlinewidth": 0,
            "ticks": ""
           }
          },
          "colorscale": {
           "diverging": [
            [
             0,
             "#8e0152"
            ],
            [
             0.1,
             "#c51b7d"
            ],
            [
             0.2,
             "#de77ae"
            ],
            [
             0.3,
             "#f1b6da"
            ],
            [
             0.4,
             "#fde0ef"
            ],
            [
             0.5,
             "#f7f7f7"
            ],
            [
             0.6,
             "#e6f5d0"
            ],
            [
             0.7,
             "#b8e186"
            ],
            [
             0.8,
             "#7fbc41"
            ],
            [
             0.9,
             "#4d9221"
            ],
            [
             1,
             "#276419"
            ]
           ],
           "sequential": [
            [
             0,
             "#0d0887"
            ],
            [
             0.1111111111111111,
             "#46039f"
            ],
            [
             0.2222222222222222,
             "#7201a8"
            ],
            [
             0.3333333333333333,
             "#9c179e"
            ],
            [
             0.4444444444444444,
             "#bd3786"
            ],
            [
             0.5555555555555556,
             "#d8576b"
            ],
            [
             0.6666666666666666,
             "#ed7953"
            ],
            [
             0.7777777777777778,
             "#fb9f3a"
            ],
            [
             0.8888888888888888,
             "#fdca26"
            ],
            [
             1,
             "#f0f921"
            ]
           ],
           "sequentialminus": [
            [
             0,
             "#0d0887"
            ],
            [
             0.1111111111111111,
             "#46039f"
            ],
            [
             0.2222222222222222,
             "#7201a8"
            ],
            [
             0.3333333333333333,
             "#9c179e"
            ],
            [
             0.4444444444444444,
             "#bd3786"
            ],
            [
             0.5555555555555556,
             "#d8576b"
            ],
            [
             0.6666666666666666,
             "#ed7953"
            ],
            [
             0.7777777777777778,
             "#fb9f3a"
            ],
            [
             0.8888888888888888,
             "#fdca26"
            ],
            [
             1,
             "#f0f921"
            ]
           ]
          },
          "colorway": [
           "#636efa",
           "#EF553B",
           "#00cc96",
           "#ab63fa",
           "#FFA15A",
           "#19d3f3",
           "#FF6692",
           "#B6E880",
           "#FF97FF",
           "#FECB52"
          ],
          "font": {
           "color": "#2a3f5f"
          },
          "geo": {
           "bgcolor": "white",
           "lakecolor": "white",
           "landcolor": "#E5ECF6",
           "showlakes": true,
           "showland": true,
           "subunitcolor": "white"
          },
          "hoverlabel": {
           "align": "left"
          },
          "hovermode": "closest",
          "mapbox": {
           "style": "light"
          },
          "paper_bgcolor": "white",
          "plot_bgcolor": "#E5ECF6",
          "polar": {
           "angularaxis": {
            "gridcolor": "white",
            "linecolor": "white",
            "ticks": ""
           },
           "bgcolor": "#E5ECF6",
           "radialaxis": {
            "gridcolor": "white",
            "linecolor": "white",
            "ticks": ""
           }
          },
          "scene": {
           "xaxis": {
            "backgroundcolor": "#E5ECF6",
            "gridcolor": "white",
            "gridwidth": 2,
            "linecolor": "white",
            "showbackground": true,
            "ticks": "",
            "zerolinecolor": "white"
           },
           "yaxis": {
            "backgroundcolor": "#E5ECF6",
            "gridcolor": "white",
            "gridwidth": 2,
            "linecolor": "white",
            "showbackground": true,
            "ticks": "",
            "zerolinecolor": "white"
           },
           "zaxis": {
            "backgroundcolor": "#E5ECF6",
            "gridcolor": "white",
            "gridwidth": 2,
            "linecolor": "white",
            "showbackground": true,
            "ticks": "",
            "zerolinecolor": "white"
           }
          },
          "shapedefaults": {
           "line": {
            "color": "#2a3f5f"
           }
          },
          "ternary": {
           "aaxis": {
            "gridcolor": "white",
            "linecolor": "white",
            "ticks": ""
           },
           "baxis": {
            "gridcolor": "white",
            "linecolor": "white",
            "ticks": ""
           },
           "bgcolor": "#E5ECF6",
           "caxis": {
            "gridcolor": "white",
            "linecolor": "white",
            "ticks": ""
           }
          },
          "title": {
           "x": 0.05
          },
          "xaxis": {
           "automargin": true,
           "gridcolor": "white",
           "linecolor": "white",
           "ticks": "",
           "title": {
            "standoff": 15
           },
           "zerolinecolor": "white",
           "zerolinewidth": 2
          },
          "yaxis": {
           "automargin": true,
           "gridcolor": "white",
           "linecolor": "white",
           "ticks": "",
           "title": {
            "standoff": 15
           },
           "zerolinecolor": "white",
           "zerolinewidth": 2
          }
         }
        },
        "title": {
         "text": "ND Plot"
        },
        "xaxis": {
         "title": {
          "text": "Date"
         }
        },
        "yaxis": {
         "title": {
          "text": "ND"
         }
        }
       }
      }
     },
     "metadata": {},
     "output_type": "display_data"
    }
   ],
   "source": [
    "fig = go.Figure()\n",
    "fig.add_trace(go.Scatter(x=df_validation_monthly.index, y=df_validation_monthly['ND'], mode='lines', name='ND'))\n",
    "fig.update_layout(xaxis_title='Date', yaxis_title='ND', title='ND Plot')\n",
    "fig.show()"
   ]
  },
  {
   "cell_type": "code",
   "execution_count": 41,
   "id": "c681be4b",
   "metadata": {},
   "outputs": [
    {
     "data": {
      "application/vnd.plotly.v1+json": {
       "config": {
        "plotlyServerURL": "https://plot.ly"
       },
       "data": [
        {
         "mode": "lines",
         "name": "ND",
         "type": "scatter",
         "x": [
          "2023-01-01T00:00:00",
          "2023-01-02T00:00:00",
          "2023-01-03T00:00:00",
          "2023-01-04T00:00:00",
          "2023-01-05T00:00:00",
          "2023-01-06T00:00:00",
          "2023-01-07T00:00:00",
          "2023-01-08T00:00:00",
          "2023-01-09T00:00:00",
          "2023-01-10T00:00:00",
          "2023-01-11T00:00:00",
          "2023-01-12T00:00:00",
          "2023-01-13T00:00:00",
          "2023-01-14T00:00:00",
          "2023-01-15T00:00:00",
          "2023-01-16T00:00:00",
          "2023-01-17T00:00:00",
          "2023-01-18T00:00:00",
          "2023-01-19T00:00:00",
          "2023-01-20T00:00:00",
          "2023-01-21T00:00:00",
          "2023-01-22T00:00:00",
          "2023-01-23T00:00:00",
          "2023-01-24T00:00:00",
          "2023-01-25T00:00:00",
          "2023-01-26T00:00:00",
          "2023-01-27T00:00:00",
          "2023-01-28T00:00:00",
          "2023-01-29T00:00:00",
          "2023-01-30T00:00:00",
          "2023-01-31T00:00:00",
          "2023-02-01T00:00:00",
          "2023-02-02T00:00:00",
          "2023-02-03T00:00:00",
          "2023-02-04T00:00:00",
          "2023-02-05T00:00:00",
          "2023-02-06T00:00:00",
          "2023-02-07T00:00:00",
          "2023-02-08T00:00:00",
          "2023-02-09T00:00:00",
          "2023-02-10T00:00:00",
          "2023-02-11T00:00:00",
          "2023-02-12T00:00:00",
          "2023-02-13T00:00:00",
          "2023-02-14T00:00:00",
          "2023-02-15T00:00:00",
          "2023-02-16T00:00:00",
          "2023-02-17T00:00:00",
          "2023-02-18T00:00:00",
          "2023-02-19T00:00:00",
          "2023-02-20T00:00:00",
          "2023-02-21T00:00:00",
          "2023-02-22T00:00:00",
          "2023-02-23T00:00:00",
          "2023-02-24T00:00:00",
          "2023-02-25T00:00:00",
          "2023-02-26T00:00:00",
          "2023-02-27T00:00:00",
          "2023-02-28T00:00:00",
          "2023-03-01T00:00:00",
          "2023-03-02T00:00:00",
          "2023-03-03T00:00:00",
          "2023-03-04T00:00:00",
          "2023-03-05T00:00:00",
          "2023-03-06T00:00:00",
          "2023-03-07T00:00:00",
          "2023-03-08T00:00:00",
          "2023-03-09T00:00:00",
          "2023-03-10T00:00:00",
          "2023-03-11T00:00:00",
          "2023-03-12T00:00:00",
          "2023-03-13T00:00:00",
          "2023-03-14T00:00:00",
          "2023-03-15T00:00:00",
          "2023-03-16T00:00:00",
          "2023-03-17T00:00:00",
          "2023-03-18T00:00:00",
          "2023-03-19T00:00:00",
          "2023-03-20T00:00:00",
          "2023-03-21T00:00:00",
          "2023-03-22T00:00:00",
          "2023-03-23T00:00:00",
          "2023-03-24T00:00:00",
          "2023-03-25T00:00:00",
          "2023-03-26T00:00:00",
          "2023-03-27T00:00:00",
          "2023-03-28T00:00:00",
          "2023-03-29T00:00:00",
          "2023-03-30T00:00:00",
          "2023-03-31T00:00:00",
          "2023-04-01T00:00:00",
          "2023-04-02T00:00:00",
          "2023-04-03T00:00:00",
          "2023-04-04T00:00:00",
          "2023-04-05T00:00:00",
          "2023-04-06T00:00:00",
          "2023-04-07T00:00:00",
          "2023-04-08T00:00:00",
          "2023-04-09T00:00:00",
          "2023-04-10T00:00:00",
          "2023-04-11T00:00:00",
          "2023-04-12T00:00:00",
          "2023-04-13T00:00:00",
          "2023-04-14T00:00:00",
          "2023-04-15T00:00:00",
          "2023-04-16T00:00:00",
          "2023-04-17T00:00:00",
          "2023-04-18T00:00:00",
          "2023-04-19T00:00:00",
          "2023-04-20T00:00:00",
          "2023-04-21T00:00:00",
          "2023-04-22T00:00:00",
          "2023-04-23T00:00:00",
          "2023-04-24T00:00:00",
          "2023-04-25T00:00:00",
          "2023-04-26T00:00:00",
          "2023-04-27T00:00:00",
          "2023-04-28T00:00:00",
          "2023-04-29T00:00:00",
          "2023-04-30T00:00:00",
          "2023-05-01T00:00:00",
          "2023-05-02T00:00:00",
          "2023-05-03T00:00:00",
          "2023-05-04T00:00:00",
          "2023-05-05T00:00:00",
          "2023-05-06T00:00:00",
          "2023-05-07T00:00:00",
          "2023-05-08T00:00:00",
          "2023-05-09T00:00:00",
          "2023-05-10T00:00:00",
          "2023-05-11T00:00:00",
          "2023-05-12T00:00:00",
          "2023-05-13T00:00:00",
          "2023-05-14T00:00:00",
          "2023-05-15T00:00:00",
          "2023-05-16T00:00:00",
          "2023-05-17T00:00:00",
          "2023-05-18T00:00:00",
          "2023-05-19T00:00:00",
          "2023-05-20T00:00:00",
          "2023-05-21T00:00:00",
          "2023-05-22T00:00:00",
          "2023-05-23T00:00:00",
          "2023-05-24T00:00:00",
          "2023-05-25T00:00:00"
         ],
         "y": [
          1161119,
          1296265,
          1423023,
          1342423,
          1410840,
          1359174,
          1213485,
          1278215,
          1459349,
          1494907,
          1432785,
          1444009,
          1403758,
          1282043,
          1331270,
          1616262,
          1701233,
          1664889,
          1671798,
          1642101,
          1509062,
          1503754,
          1681873,
          1685973,
          1670019,
          1638874,
          1637925,
          1503365,
          1331716,
          1467125,
          1433404,
          1445172,
          1429024,
          1415264,
          1337848,
          1345985,
          1529202,
          1574149,
          1525482,
          1512964,
          1490040,
          1350899,
          1350192,
          1460795,
          1489025,
          1440525,
          1457980,
          1314321,
          1214618,
          1163191,
          1326233,
          1445953,
          1457538,
          1461456,
          1447165,
          1338875,
          1329709,
          1542448,
          1551187,
          1534444,
          1526780,
          1562749,
          1425857,
          1412928,
          1545240,
          1560280,
          1654428,
          1632729,
          1547783,
          1411885,
          1240672,
          1323043,
          1429217,
          1541078,
          1410991,
          1370178,
          1241074,
          1197202,
          1412490,
          1305095,
          1224836,
          1268276,
          1225599,
          1158740,
          1199375,
          1377431,
          1446431,
          1399090,
          1275136,
          1321110,
          1232537,
          1180339,
          1285710,
          1277006,
          1381867,
          1263607,
          1121741,
          1071984,
          1028065,
          1040750,
          1207935,
          1258167,
          1237945,
          1370954,
          1182723,
          1179306,
          1308943,
          1240428,
          1212124,
          1160817,
          1277007,
          1168804,
          1164198,
          1334735,
          1309786,
          1368606,
          1368723,
          1300759,
          1117850,
          1097306,
          1099918,
          1247869,
          1158178,
          1150210,
          1195953,
          1133693,
          1027613,
          1102388,
          1225227,
          1199794,
          1213629,
          1188994,
          1054825,
          1013809,
          1098216,
          1159885,
          1201150,
          1166082,
          1180048,
          956743,
          945080,
          1087213,
          1131633,
          1079720,
          1131707
         ]
        }
       ],
       "layout": {
        "template": {
         "data": {
          "bar": [
           {
            "error_x": {
             "color": "#2a3f5f"
            },
            "error_y": {
             "color": "#2a3f5f"
            },
            "marker": {
             "line": {
              "color": "#E5ECF6",
              "width": 0.5
             }
            },
            "type": "bar"
           }
          ],
          "barpolar": [
           {
            "marker": {
             "line": {
              "color": "#E5ECF6",
              "width": 0.5
             }
            },
            "type": "barpolar"
           }
          ],
          "carpet": [
           {
            "aaxis": {
             "endlinecolor": "#2a3f5f",
             "gridcolor": "white",
             "linecolor": "white",
             "minorgridcolor": "white",
             "startlinecolor": "#2a3f5f"
            },
            "baxis": {
             "endlinecolor": "#2a3f5f",
             "gridcolor": "white",
             "linecolor": "white",
             "minorgridcolor": "white",
             "startlinecolor": "#2a3f5f"
            },
            "type": "carpet"
           }
          ],
          "choropleth": [
           {
            "colorbar": {
             "outlinewidth": 0,
             "ticks": ""
            },
            "type": "choropleth"
           }
          ],
          "contour": [
           {
            "colorbar": {
             "outlinewidth": 0,
             "ticks": ""
            },
            "colorscale": [
             [
              0,
              "#0d0887"
             ],
             [
              0.1111111111111111,
              "#46039f"
             ],
             [
              0.2222222222222222,
              "#7201a8"
             ],
             [
              0.3333333333333333,
              "#9c179e"
             ],
             [
              0.4444444444444444,
              "#bd3786"
             ],
             [
              0.5555555555555556,
              "#d8576b"
             ],
             [
              0.6666666666666666,
              "#ed7953"
             ],
             [
              0.7777777777777778,
              "#fb9f3a"
             ],
             [
              0.8888888888888888,
              "#fdca26"
             ],
             [
              1,
              "#f0f921"
             ]
            ],
            "type": "contour"
           }
          ],
          "contourcarpet": [
           {
            "colorbar": {
             "outlinewidth": 0,
             "ticks": ""
            },
            "type": "contourcarpet"
           }
          ],
          "heatmap": [
           {
            "colorbar": {
             "outlinewidth": 0,
             "ticks": ""
            },
            "colorscale": [
             [
              0,
              "#0d0887"
             ],
             [
              0.1111111111111111,
              "#46039f"
             ],
             [
              0.2222222222222222,
              "#7201a8"
             ],
             [
              0.3333333333333333,
              "#9c179e"
             ],
             [
              0.4444444444444444,
              "#bd3786"
             ],
             [
              0.5555555555555556,
              "#d8576b"
             ],
             [
              0.6666666666666666,
              "#ed7953"
             ],
             [
              0.7777777777777778,
              "#fb9f3a"
             ],
             [
              0.8888888888888888,
              "#fdca26"
             ],
             [
              1,
              "#f0f921"
             ]
            ],
            "type": "heatmap"
           }
          ],
          "heatmapgl": [
           {
            "colorbar": {
             "outlinewidth": 0,
             "ticks": ""
            },
            "colorscale": [
             [
              0,
              "#0d0887"
             ],
             [
              0.1111111111111111,
              "#46039f"
             ],
             [
              0.2222222222222222,
              "#7201a8"
             ],
             [
              0.3333333333333333,
              "#9c179e"
             ],
             [
              0.4444444444444444,
              "#bd3786"
             ],
             [
              0.5555555555555556,
              "#d8576b"
             ],
             [
              0.6666666666666666,
              "#ed7953"
             ],
             [
              0.7777777777777778,
              "#fb9f3a"
             ],
             [
              0.8888888888888888,
              "#fdca26"
             ],
             [
              1,
              "#f0f921"
             ]
            ],
            "type": "heatmapgl"
           }
          ],
          "histogram": [
           {
            "marker": {
             "colorbar": {
              "outlinewidth": 0,
              "ticks": ""
             }
            },
            "type": "histogram"
           }
          ],
          "histogram2d": [
           {
            "colorbar": {
             "outlinewidth": 0,
             "ticks": ""
            },
            "colorscale": [
             [
              0,
              "#0d0887"
             ],
             [
              0.1111111111111111,
              "#46039f"
             ],
             [
              0.2222222222222222,
              "#7201a8"
             ],
             [
              0.3333333333333333,
              "#9c179e"
             ],
             [
              0.4444444444444444,
              "#bd3786"
             ],
             [
              0.5555555555555556,
              "#d8576b"
             ],
             [
              0.6666666666666666,
              "#ed7953"
             ],
             [
              0.7777777777777778,
              "#fb9f3a"
             ],
             [
              0.8888888888888888,
              "#fdca26"
             ],
             [
              1,
              "#f0f921"
             ]
            ],
            "type": "histogram2d"
           }
          ],
          "histogram2dcontour": [
           {
            "colorbar": {
             "outlinewidth": 0,
             "ticks": ""
            },
            "colorscale": [
             [
              0,
              "#0d0887"
             ],
             [
              0.1111111111111111,
              "#46039f"
             ],
             [
              0.2222222222222222,
              "#7201a8"
             ],
             [
              0.3333333333333333,
              "#9c179e"
             ],
             [
              0.4444444444444444,
              "#bd3786"
             ],
             [
              0.5555555555555556,
              "#d8576b"
             ],
             [
              0.6666666666666666,
              "#ed7953"
             ],
             [
              0.7777777777777778,
              "#fb9f3a"
             ],
             [
              0.8888888888888888,
              "#fdca26"
             ],
             [
              1,
              "#f0f921"
             ]
            ],
            "type": "histogram2dcontour"
           }
          ],
          "mesh3d": [
           {
            "colorbar": {
             "outlinewidth": 0,
             "ticks": ""
            },
            "type": "mesh3d"
           }
          ],
          "parcoords": [
           {
            "line": {
             "colorbar": {
              "outlinewidth": 0,
              "ticks": ""
             }
            },
            "type": "parcoords"
           }
          ],
          "pie": [
           {
            "automargin": true,
            "type": "pie"
           }
          ],
          "scatter": [
           {
            "marker": {
             "colorbar": {
              "outlinewidth": 0,
              "ticks": ""
             }
            },
            "type": "scatter"
           }
          ],
          "scatter3d": [
           {
            "line": {
             "colorbar": {
              "outlinewidth": 0,
              "ticks": ""
             }
            },
            "marker": {
             "colorbar": {
              "outlinewidth": 0,
              "ticks": ""
             }
            },
            "type": "scatter3d"
           }
          ],
          "scattercarpet": [
           {
            "marker": {
             "colorbar": {
              "outlinewidth": 0,
              "ticks": ""
             }
            },
            "type": "scattercarpet"
           }
          ],
          "scattergeo": [
           {
            "marker": {
             "colorbar": {
              "outlinewidth": 0,
              "ticks": ""
             }
            },
            "type": "scattergeo"
           }
          ],
          "scattergl": [
           {
            "marker": {
             "colorbar": {
              "outlinewidth": 0,
              "ticks": ""
             }
            },
            "type": "scattergl"
           }
          ],
          "scattermapbox": [
           {
            "marker": {
             "colorbar": {
              "outlinewidth": 0,
              "ticks": ""
             }
            },
            "type": "scattermapbox"
           }
          ],
          "scatterpolar": [
           {
            "marker": {
             "colorbar": {
              "outlinewidth": 0,
              "ticks": ""
             }
            },
            "type": "scatterpolar"
           }
          ],
          "scatterpolargl": [
           {
            "marker": {
             "colorbar": {
              "outlinewidth": 0,
              "ticks": ""
             }
            },
            "type": "scatterpolargl"
           }
          ],
          "scatterternary": [
           {
            "marker": {
             "colorbar": {
              "outlinewidth": 0,
              "ticks": ""
             }
            },
            "type": "scatterternary"
           }
          ],
          "surface": [
           {
            "colorbar": {
             "outlinewidth": 0,
             "ticks": ""
            },
            "colorscale": [
             [
              0,
              "#0d0887"
             ],
             [
              0.1111111111111111,
              "#46039f"
             ],
             [
              0.2222222222222222,
              "#7201a8"
             ],
             [
              0.3333333333333333,
              "#9c179e"
             ],
             [
              0.4444444444444444,
              "#bd3786"
             ],
             [
              0.5555555555555556,
              "#d8576b"
             ],
             [
              0.6666666666666666,
              "#ed7953"
             ],
             [
              0.7777777777777778,
              "#fb9f3a"
             ],
             [
              0.8888888888888888,
              "#fdca26"
             ],
             [
              1,
              "#f0f921"
             ]
            ],
            "type": "surface"
           }
          ],
          "table": [
           {
            "cells": {
             "fill": {
              "color": "#EBF0F8"
             },
             "line": {
              "color": "white"
             }
            },
            "header": {
             "fill": {
              "color": "#C8D4E3"
             },
             "line": {
              "color": "white"
             }
            },
            "type": "table"
           }
          ]
         },
         "layout": {
          "annotationdefaults": {
           "arrowcolor": "#2a3f5f",
           "arrowhead": 0,
           "arrowwidth": 1
          },
          "coloraxis": {
           "colorbar": {
            "outlinewidth": 0,
            "ticks": ""
           }
          },
          "colorscale": {
           "diverging": [
            [
             0,
             "#8e0152"
            ],
            [
             0.1,
             "#c51b7d"
            ],
            [
             0.2,
             "#de77ae"
            ],
            [
             0.3,
             "#f1b6da"
            ],
            [
             0.4,
             "#fde0ef"
            ],
            [
             0.5,
             "#f7f7f7"
            ],
            [
             0.6,
             "#e6f5d0"
            ],
            [
             0.7,
             "#b8e186"
            ],
            [
             0.8,
             "#7fbc41"
            ],
            [
             0.9,
             "#4d9221"
            ],
            [
             1,
             "#276419"
            ]
           ],
           "sequential": [
            [
             0,
             "#0d0887"
            ],
            [
             0.1111111111111111,
             "#46039f"
            ],
            [
             0.2222222222222222,
             "#7201a8"
            ],
            [
             0.3333333333333333,
             "#9c179e"
            ],
            [
             0.4444444444444444,
             "#bd3786"
            ],
            [
             0.5555555555555556,
             "#d8576b"
            ],
            [
             0.6666666666666666,
             "#ed7953"
            ],
            [
             0.7777777777777778,
             "#fb9f3a"
            ],
            [
             0.8888888888888888,
             "#fdca26"
            ],
            [
             1,
             "#f0f921"
            ]
           ],
           "sequentialminus": [
            [
             0,
             "#0d0887"
            ],
            [
             0.1111111111111111,
             "#46039f"
            ],
            [
             0.2222222222222222,
             "#7201a8"
            ],
            [
             0.3333333333333333,
             "#9c179e"
            ],
            [
             0.4444444444444444,
             "#bd3786"
            ],
            [
             0.5555555555555556,
             "#d8576b"
            ],
            [
             0.6666666666666666,
             "#ed7953"
            ],
            [
             0.7777777777777778,
             "#fb9f3a"
            ],
            [
             0.8888888888888888,
             "#fdca26"
            ],
            [
             1,
             "#f0f921"
            ]
           ]
          },
          "colorway": [
           "#636efa",
           "#EF553B",
           "#00cc96",
           "#ab63fa",
           "#FFA15A",
           "#19d3f3",
           "#FF6692",
           "#B6E880",
           "#FF97FF",
           "#FECB52"
          ],
          "font": {
           "color": "#2a3f5f"
          },
          "geo": {
           "bgcolor": "white",
           "lakecolor": "white",
           "landcolor": "#E5ECF6",
           "showlakes": true,
           "showland": true,
           "subunitcolor": "white"
          },
          "hoverlabel": {
           "align": "left"
          },
          "hovermode": "closest",
          "mapbox": {
           "style": "light"
          },
          "paper_bgcolor": "white",
          "plot_bgcolor": "#E5ECF6",
          "polar": {
           "angularaxis": {
            "gridcolor": "white",
            "linecolor": "white",
            "ticks": ""
           },
           "bgcolor": "#E5ECF6",
           "radialaxis": {
            "gridcolor": "white",
            "linecolor": "white",
            "ticks": ""
           }
          },
          "scene": {
           "xaxis": {
            "backgroundcolor": "#E5ECF6",
            "gridcolor": "white",
            "gridwidth": 2,
            "linecolor": "white",
            "showbackground": true,
            "ticks": "",
            "zerolinecolor": "white"
           },
           "yaxis": {
            "backgroundcolor": "#E5ECF6",
            "gridcolor": "white",
            "gridwidth": 2,
            "linecolor": "white",
            "showbackground": true,
            "ticks": "",
            "zerolinecolor": "white"
           },
           "zaxis": {
            "backgroundcolor": "#E5ECF6",
            "gridcolor": "white",
            "gridwidth": 2,
            "linecolor": "white",
            "showbackground": true,
            "ticks": "",
            "zerolinecolor": "white"
           }
          },
          "shapedefaults": {
           "line": {
            "color": "#2a3f5f"
           }
          },
          "ternary": {
           "aaxis": {
            "gridcolor": "white",
            "linecolor": "white",
            "ticks": ""
           },
           "baxis": {
            "gridcolor": "white",
            "linecolor": "white",
            "ticks": ""
           },
           "bgcolor": "#E5ECF6",
           "caxis": {
            "gridcolor": "white",
            "linecolor": "white",
            "ticks": ""
           }
          },
          "title": {
           "x": 0.05
          },
          "xaxis": {
           "automargin": true,
           "gridcolor": "white",
           "linecolor": "white",
           "ticks": "",
           "title": {
            "standoff": 15
           },
           "zerolinecolor": "white",
           "zerolinewidth": 2
          },
          "yaxis": {
           "automargin": true,
           "gridcolor": "white",
           "linecolor": "white",
           "ticks": "",
           "title": {
            "standoff": 15
           },
           "zerolinecolor": "white",
           "zerolinewidth": 2
          }
         }
        },
        "title": {
         "text": "ND Plot"
        },
        "xaxis": {
         "title": {
          "text": "Date"
         }
        },
        "yaxis": {
         "title": {
          "text": "ND"
         }
        }
       }
      }
     },
     "metadata": {},
     "output_type": "display_data"
    }
   ],
   "source": [
    "fig = go.Figure()\n",
    "fig.add_trace(go.Scatter(x=df_validation_daily.index, y=df_validation_daily['ND'], mode='lines', name='ND'))\n",
    "fig.update_layout(xaxis_title='Date', yaxis_title='ND', title='ND Plot')\n",
    "fig.show()"
   ]
  },
  {
   "cell_type": "code",
   "execution_count": 42,
   "id": "53850d08",
   "metadata": {},
   "outputs": [],
   "source": [
    "df_validation_monthly['import_export'] = df_validation_monthly['IFA_FLOW'] + df_validation_monthly['IFA2_FLOW'] + df_validation_monthly['BRITNED_FLOW'] + df_validation_monthly['MOYLE_FLOW'] + df_validation_monthly['EAST_WEST_FLOW'] + df_validation_monthly['NEMO_FLOW'] "
   ]
  },
  {
   "cell_type": "code",
   "execution_count": 43,
   "id": "afead4d4",
   "metadata": {},
   "outputs": [
    {
     "data": {
      "text/plain": [
       "Index(['ND', 'TSD', 'ENGLAND_WALES_DEMAND', 'EMBEDDED_WIND_GENERATION',\n",
       "       'EMBEDDED_WIND_CAPACITY', 'EMBEDDED_SOLAR_GENERATION',\n",
       "       'EMBEDDED_SOLAR_CAPACITY', 'NON_BM_STOR', 'PUMP_STORAGE_PUMPING',\n",
       "       'IFA_FLOW', 'IFA2_FLOW', 'BRITNED_FLOW', 'MOYLE_FLOW', 'EAST_WEST_FLOW',\n",
       "       'NEMO_FLOW', 'NSL_FLOW', 'ELECLINK_FLOW', 'import_export'],\n",
       "      dtype='object')"
      ]
     },
     "execution_count": 43,
     "metadata": {},
     "output_type": "execute_result"
    }
   ],
   "source": [
    "df_validation_monthly.columns"
   ]
  },
  {
   "cell_type": "code",
   "execution_count": 44,
   "id": "4cb2d742",
   "metadata": {},
   "outputs": [],
   "source": [
    "df_validation_monthly.drop(columns=['IFA_FLOW', 'IFA2_FLOW', 'BRITNED_FLOW','MOYLE_FLOW', 'EAST_WEST_FLOW', 'NEMO_FLOW'], inplace=True)"
   ]
  },
  {
   "cell_type": "code",
   "execution_count": 45,
   "id": "f0aae8b4",
   "metadata": {},
   "outputs": [],
   "source": [
    "df_validation.to_csv('../data/validation_data.csv', index=True)\n",
    "df_validation_daily.to_csv('../data/daily_validation_data.csv', index=True)\n",
    "df_validation_monthly.to_csv('../data/monthly_validation_data.csv', index=True)"
   ]
  },
  {
   "attachments": {},
   "cell_type": "markdown",
   "id": "5e3cca5c",
   "metadata": {},
   "source": [
    "## **Temperature Data**"
   ]
  },
  {
   "cell_type": "code",
   "execution_count": 46,
   "id": "42f19348",
   "metadata": {},
   "outputs": [
    {
     "name": "stderr",
     "output_type": "stream",
     "text": [
      "C:\\Users\\simon\\AppData\\Local\\Temp\\ipykernel_16792\\59849141.py:1: ParserWarning:\n",
      "\n",
      "Falling back to the 'python' engine because the 'c' engine does not support regex separators (separators > 1 char and different from '\\s+' are interpreted as regex); you can avoid this warning by specifying engine='python'.\n",
      "\n"
     ]
    }
   ],
   "source": [
    "temp= pd.read_csv('../data/UK.txt', skiprows=5, sep = '   ')"
   ]
  },
  {
   "cell_type": "code",
   "execution_count": 47,
   "id": "42b16dbe",
   "metadata": {},
   "outputs": [
    {
     "data": {
      "text/html": [
       "<div>\n",
       "<style scoped>\n",
       "    .dataframe tbody tr th:only-of-type {\n",
       "        vertical-align: middle;\n",
       "    }\n",
       "\n",
       "    .dataframe tbody tr th {\n",
       "        vertical-align: top;\n",
       "    }\n",
       "\n",
       "    .dataframe thead th {\n",
       "        text-align: right;\n",
       "    }\n",
       "</style>\n",
       "<table border=\"1\" class=\"dataframe\">\n",
       "  <thead>\n",
       "    <tr style=\"text-align: right;\">\n",
       "      <th></th>\n",
       "      <th>year</th>\n",
       "      <th>jan</th>\n",
       "      <th>feb</th>\n",
       "      <th>mar</th>\n",
       "      <th>apr</th>\n",
       "      <th>may</th>\n",
       "      <th>jun</th>\n",
       "      <th>jul</th>\n",
       "      <th>aug</th>\n",
       "      <th>sep</th>\n",
       "      <th>oct</th>\n",
       "      <th>nov</th>\n",
       "      <th>dec</th>\n",
       "      <th>win</th>\n",
       "      <th>spr</th>\n",
       "      <th>sum</th>\n",
       "      <th>aut</th>\n",
       "      <th>ann</th>\n",
       "    </tr>\n",
       "  </thead>\n",
       "  <tbody>\n",
       "    <tr>\n",
       "      <th>0</th>\n",
       "      <td>1884</td>\n",
       "      <td>7.3</td>\n",
       "      <td>6.8</td>\n",
       "      <td>8.5</td>\n",
       "      <td>10.1</td>\n",
       "      <td>14.5</td>\n",
       "      <td>17.1</td>\n",
       "      <td>18.8</td>\n",
       "      <td>20.2</td>\n",
       "      <td>17.0</td>\n",
       "      <td>11.8</td>\n",
       "      <td>7.5</td>\n",
       "      <td>5.8</td>\n",
       "      <td>---</td>\n",
       "      <td>11.02</td>\n",
       "      <td>18.73</td>\n",
       "      <td>12.10</td>\n",
       "      <td>12.14</td>\n",
       "    </tr>\n",
       "    <tr>\n",
       "      <th>1</th>\n",
       "      <td>1885</td>\n",
       "      <td>4.3</td>\n",
       "      <td>7.3</td>\n",
       "      <td>7.2</td>\n",
       "      <td>10.8</td>\n",
       "      <td>11.8</td>\n",
       "      <td>17.0</td>\n",
       "      <td>19.4</td>\n",
       "      <td>16.8</td>\n",
       "      <td>15.0</td>\n",
       "      <td>9.3</td>\n",
       "      <td>7.5</td>\n",
       "      <td>5.9</td>\n",
       "      <td>5.75</td>\n",
       "      <td>9.91</td>\n",
       "      <td>17.76</td>\n",
       "      <td>10.58</td>\n",
       "      <td>11.04</td>\n",
       "    </tr>\n",
       "    <tr>\n",
       "      <th>2</th>\n",
       "      <td>1886</td>\n",
       "      <td>3.7</td>\n",
       "      <td>3.4</td>\n",
       "      <td>6.1</td>\n",
       "      <td>10.5</td>\n",
       "      <td>13.1</td>\n",
       "      <td>16.4</td>\n",
       "      <td>18.7</td>\n",
       "      <td>18.5</td>\n",
       "      <td>16.0</td>\n",
       "      <td>12.9</td>\n",
       "      <td>8.6</td>\n",
       "      <td>4.1</td>\n",
       "      <td>4.36</td>\n",
       "      <td>9.88</td>\n",
       "      <td>17.87</td>\n",
       "      <td>12.51</td>\n",
       "      <td>11.04</td>\n",
       "    </tr>\n",
       "    <tr>\n",
       "      <th>3</th>\n",
       "      <td>1887</td>\n",
       "      <td>4.8</td>\n",
       "      <td>6.9</td>\n",
       "      <td>6.7</td>\n",
       "      <td>9.9</td>\n",
       "      <td>13.0</td>\n",
       "      <td>19.8</td>\n",
       "      <td>20.7</td>\n",
       "      <td>19.1</td>\n",
       "      <td>14.5</td>\n",
       "      <td>10.0</td>\n",
       "      <td>6.6</td>\n",
       "      <td>4.9</td>\n",
       "      <td>5.23</td>\n",
       "      <td>9.88</td>\n",
       "      <td>19.87</td>\n",
       "      <td>10.37</td>\n",
       "      <td>11.44</td>\n",
       "    </tr>\n",
       "    <tr>\n",
       "      <th>4</th>\n",
       "      <td>1888</td>\n",
       "      <td>5.5</td>\n",
       "      <td>3.7</td>\n",
       "      <td>5.2</td>\n",
       "      <td>9.0</td>\n",
       "      <td>14.1</td>\n",
       "      <td>16.3</td>\n",
       "      <td>16.0</td>\n",
       "      <td>16.9</td>\n",
       "      <td>15.4</td>\n",
       "      <td>11.4</td>\n",
       "      <td>8.9</td>\n",
       "      <td>7.1</td>\n",
       "      <td>4.74</td>\n",
       "      <td>9.41</td>\n",
       "      <td>16.38</td>\n",
       "      <td>11.91</td>\n",
       "      <td>10.81</td>\n",
       "    </tr>\n",
       "  </tbody>\n",
       "</table>\n",
       "</div>"
      ],
      "text/plain": [
       "   year   jan   feb   mar   apr   may   jun   jul   aug   sep   oct   nov  \\\n",
       "0  1884   7.3   6.8   8.5  10.1  14.5  17.1  18.8  20.2  17.0  11.8   7.5   \n",
       "1  1885   4.3   7.3   7.2  10.8  11.8  17.0  19.4  16.8  15.0   9.3   7.5   \n",
       "2  1886   3.7   3.4   6.1  10.5  13.1  16.4  18.7  18.5  16.0  12.9   8.6   \n",
       "3  1887   4.8   6.9   6.7   9.9  13.0  19.8  20.7  19.1  14.5  10.0   6.6   \n",
       "4  1888   5.5   3.7   5.2   9.0  14.1  16.3  16.0  16.9  15.4  11.4   8.9   \n",
       "\n",
       "    dec    win    spr    sum    aut    ann  \n",
       "0   5.8    ---  11.02  18.73  12.10  12.14  \n",
       "1   5.9   5.75   9.91  17.76  10.58  11.04  \n",
       "2   4.1   4.36   9.88  17.87  12.51  11.04  \n",
       "3   4.9   5.23   9.88  19.87  10.37  11.44  \n",
       "4   7.1   4.74   9.41  16.38  11.91  10.81  "
      ]
     },
     "execution_count": 47,
     "metadata": {},
     "output_type": "execute_result"
    }
   ],
   "source": [
    "temp.head(5)"
   ]
  },
  {
   "cell_type": "code",
   "execution_count": 48,
   "id": "ba789e8e",
   "metadata": {},
   "outputs": [
    {
     "data": {
      "text/plain": [
       "Index(['year', ' jan', ' feb', ' mar', ' apr', ' may', ' jun', ' jul', ' aug',\n",
       "       ' sep', ' oct', ' nov', ' dec', '  win', '  spr', '  sum', '  aut',\n",
       "       '  ann'],\n",
       "      dtype='object')"
      ]
     },
     "execution_count": 48,
     "metadata": {},
     "output_type": "execute_result"
    }
   ],
   "source": [
    "temp.columns"
   ]
  },
  {
   "cell_type": "code",
   "execution_count": 49,
   "id": "5ec717fe",
   "metadata": {},
   "outputs": [],
   "source": [
    "#drop season and annual columns\n",
    "temp.drop(columns=['  win', '  spr', '  sum', '  aut', '  ann'], inplace=True)"
   ]
  },
  {
   "cell_type": "code",
   "execution_count": 50,
   "id": "8c1df641",
   "metadata": {},
   "outputs": [],
   "source": [
    "#Remove spaces in columns names \n",
    "\n",
    "temp.columns = temp.columns.str.replace(' ', '')"
   ]
  },
  {
   "cell_type": "code",
   "execution_count": 51,
   "id": "0618406d",
   "metadata": {},
   "outputs": [],
   "source": [
    "#Limit df to necessary values\n",
    "temp2 = temp[temp['year'] >= 2009]\n",
    "temp = temp[temp['year'] >= 2009]"
   ]
  },
  {
   "cell_type": "code",
   "execution_count": 52,
   "id": "984a512f",
   "metadata": {},
   "outputs": [
    {
     "name": "stdout",
     "output_type": "stream",
     "text": [
      "            temperature\n",
      "date                   \n",
      "2009-01-01          5.7\n",
      "2009-02-01          6.4\n",
      "2009-03-01          9.9\n",
      "2009-04-01         13.3\n",
      "2009-05-01         15.3\n",
      "...                 ...\n",
      "2023-08-01          NaN\n",
      "2023-09-01          NaN\n",
      "2023-10-01          NaN\n",
      "2023-11-01          NaN\n",
      "2023-12-01          NaN\n",
      "\n",
      "[180 rows x 1 columns]\n"
     ]
    }
   ],
   "source": [
    "# Reshape temp df using melt()\n",
    "melted_df = temp.melt(id_vars='year', var_name='month', value_name='temperature')\n",
    "\n",
    "# Combine year and month  into a single index\n",
    "melted_df['date'] = pd.to_datetime(melted_df['year'].astype(str) + '-' + melted_df['month'], format='%Y-%b')\n",
    "melted_df.set_index('date', inplace=True)\n",
    "\n",
    "melted_df.drop(['year', 'month'], axis=1, inplace=True)\n",
    "\n",
    "melted_df.sort_index(inplace=True)\n",
    "\n",
    "print(melted_df)"
   ]
  },
  {
   "cell_type": "code",
   "execution_count": 53,
   "id": "21407ed5",
   "metadata": {},
   "outputs": [
    {
     "name": "stdout",
     "output_type": "stream",
     "text": [
      "            temperature\n",
      "date                   \n",
      "2009-01-01          5.7\n",
      "2009-02-01          6.4\n",
      "2009-03-01          9.9\n",
      "2009-04-01         13.3\n",
      "2009-05-01         15.3\n",
      "...                 ...\n",
      "2023-01-01          7.3\n",
      "2023-02-01          9.0\n",
      "2023-03-01          8.9\n",
      "2023-04-01         11.9\n",
      "2023-05-01         16.2\n",
      "\n",
      "[173 rows x 1 columns]\n"
     ]
    }
   ],
   "source": [
    "#Repeat procces for melted_df2\n",
    "melted_df2 = temp2.melt(id_vars='year', var_name='month', value_name='temperature')\n",
    "melted_df2['date'] = pd.to_datetime(melted_df2['year'].astype(str) + '-' + melted_df2['month'], format='%Y-%b')\n",
    "melted_df2.set_index('date', inplace=True)\n",
    "melted_df2.drop(['year', 'month'], axis=1, inplace=True)\n",
    "melted_df2.sort_index(inplace=True)\n",
    "melted_df2.dropna(inplace=True)\n",
    "print(melted_df2)\n"
   ]
  },
  {
   "cell_type": "code",
   "execution_count": 54,
   "id": "3c401edc",
   "metadata": {},
   "outputs": [
    {
     "data": {
      "text/plain": [
       "DatetimeIndex(['2009-01-01', '2009-02-01', '2009-03-01', '2009-04-01',\n",
       "               '2009-05-01', '2009-06-01', '2009-07-01', '2009-08-01',\n",
       "               '2009-09-01', '2009-10-01',\n",
       "               ...\n",
       "               '2023-03-01', '2023-04-01', '2023-05-01', '2023-06-01',\n",
       "               '2023-07-01', '2023-08-01', '2023-09-01', '2023-10-01',\n",
       "               '2023-11-01', '2023-12-01'],\n",
       "              dtype='datetime64[ns]', name='date', length=180, freq=None)"
      ]
     },
     "execution_count": 54,
     "metadata": {},
     "output_type": "execute_result"
    }
   ],
   "source": [
    "melted_df.index"
   ]
  },
  {
   "cell_type": "code",
   "execution_count": 55,
   "id": "1a528104",
   "metadata": {},
   "outputs": [
    {
     "data": {
      "text/plain": [
       "(173, 1)"
      ]
     },
     "execution_count": 55,
     "metadata": {},
     "output_type": "execute_result"
    }
   ],
   "source": [
    "melted_df.dropna(inplace=True)\n",
    "melted_df.shape"
   ]
  },
  {
   "cell_type": "code",
   "execution_count": 56,
   "id": "9184a6d9",
   "metadata": {},
   "outputs": [],
   "source": [
    "#Save data\n",
    "melted_df.to_csv('../data/temperature_data.csv', index=True)\n",
    "melted_df2.to_csv('../data/val_temperature_data.csv', index=True)"
   ]
  }
 ],
 "metadata": {
  "kernelspec": {
   "display_name": "sro_capstone",
   "language": "python",
   "name": "python3"
  },
  "language_info": {
   "codemirror_mode": {
    "name": "ipython",
    "version": 3
   },
   "file_extension": ".py",
   "mimetype": "text/x-python",
   "name": "python",
   "nbconvert_exporter": "python",
   "pygments_lexer": "ipython3",
   "version": "3.8.16"
  }
 },
 "nbformat": 4,
 "nbformat_minor": 5
}
