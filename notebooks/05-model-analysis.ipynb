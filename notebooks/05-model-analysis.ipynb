{
 "cells": [
  {
   "attachments": {},
   "cell_type": "markdown",
   "metadata": {},
   "source": [
    "# **Model analysis**\n",
    "This notebook aims to analyze and present the significant results from the tested models. Our main focus will be on visualizations and error metrics. Additionally, we will evaluate the performance of our models using unseen data from the current year (January to May).\n",
    "\n",
    "SARIMAX demonstrated superior performance among the models tested compared to the baseline models. Therefore, we will primarily emphasize the SARIMAX model, which significantly outperformed the others.\n",
    "\n",
    "### **Table of contents**\n",
    "\n",
    "1. Import libraries and data load\n",
    "2. MAPE and MAE Results \n",
    "    - Next steps \n",
    "3. SARIMAX Results \n",
    "4. Model Validation \n",
    "    - SARIMAX Reconstruction\n",
    "5. Results Plots"
   ]
  },
  {
   "attachments": {},
   "cell_type": "markdown",
   "metadata": {},
   "source": [
    "### **1. Import libraries and data load**"
   ]
  },
  {
   "cell_type": "code",
   "execution_count": 384,
   "metadata": {},
   "outputs": [],
   "source": [
    "#Import all relevant libraries\n",
    "import pandas as pd\n",
    "import numpy as np\n",
    "\n",
    "import joblib\n",
    "import matplotlib.pyplot as plt\n",
    "import seaborn as sns\n",
    "import plotly.express as px\n",
    "import plotly.graph_objs as go\n",
    "import matplotlib.dates as mdates\n",
    "from scipy import stats\n",
    "from statsmodels.api import tsa\n",
    "import statsmodels.api as sm"
   ]
  },
  {
   "cell_type": "code",
   "execution_count": 385,
   "metadata": {},
   "outputs": [],
   "source": [
    "import warnings\n",
    "warnings.filterwarnings(\"ignore\")"
   ]
  },
  {
   "cell_type": "code",
   "execution_count": 386,
   "metadata": {},
   "outputs": [
    {
     "name": "stdout",
     "output_type": "stream",
     "text": [
      "Index data type of df is: <class 'pandas.core.indexes.datetimes.DatetimeIndex'>\n",
      "Index data type of df_monthly is: <class 'pandas.core.indexes.datetimes.DatetimeIndex'>\n"
     ]
    }
   ],
   "source": [
    "df = pd.read_csv('../data/historic_demand_2009_2023_modeling.csv', index_col=0)\n",
    "df_monthly = pd.read_csv('../data/monthly_historic_demand_2009_2023_results.csv', index_col=0)\n",
    "results = pd.read_csv('../data/results.csv', index_col=0)\n",
    "\n",
    "df = df.set_index(pd.to_datetime(df.index))\n",
    "df_monthly = df_monthly.set_index(pd.to_datetime(df_monthly.index))\n",
    "\n",
    "print(f\"Index data type of df is: {type(df.index)}\")\n",
    "print(f\"Index data type of df_monthly is: {type(df_monthly.index)}\")"
   ]
  },
  {
   "cell_type": "code",
   "execution_count": 387,
   "metadata": {},
   "outputs": [
    {
     "data": {
      "text/html": [
       "<div>\n",
       "<style scoped>\n",
       "    .dataframe tbody tr th:only-of-type {\n",
       "        vertical-align: middle;\n",
       "    }\n",
       "\n",
       "    .dataframe tbody tr th {\n",
       "        vertical-align: top;\n",
       "    }\n",
       "\n",
       "    .dataframe thead th {\n",
       "        text-align: right;\n",
       "    }\n",
       "</style>\n",
       "<table border=\"1\" class=\"dataframe\">\n",
       "  <thead>\n",
       "    <tr style=\"text-align: right;\">\n",
       "      <th></th>\n",
       "      <th>model</th>\n",
       "      <th>Train_MAPE</th>\n",
       "      <th>Test_MAPE</th>\n",
       "      <th>Train_MAE</th>\n",
       "      <th>Test_MAE</th>\n",
       "    </tr>\n",
       "  </thead>\n",
       "  <tbody>\n",
       "    <tr>\n",
       "      <th>0</th>\n",
       "      <td>Simple_Mean</td>\n",
       "      <td>3.957661</td>\n",
       "      <td>5.488195</td>\n",
       "      <td>1.867551e+06</td>\n",
       "      <td>2.126467e+06</td>\n",
       "    </tr>\n",
       "    <tr>\n",
       "      <th>1</th>\n",
       "      <td>Rolling_AVG</td>\n",
       "      <td>5.310872</td>\n",
       "      <td>5.135859</td>\n",
       "      <td>2.520438e+06</td>\n",
       "      <td>2.122838e+06</td>\n",
       "    </tr>\n",
       "    <tr>\n",
       "      <th>2</th>\n",
       "      <td>ARIMA(4,0,2)</td>\n",
       "      <td>12.243213</td>\n",
       "      <td>5.152527</td>\n",
       "      <td>6.198869e+06</td>\n",
       "      <td>1.990700e+06</td>\n",
       "    </tr>\n",
       "    <tr>\n",
       "      <th>3</th>\n",
       "      <td>SARIMA(3,1,2)x(0,1,3,12)</td>\n",
       "      <td>4.567475</td>\n",
       "      <td>7.047027</td>\n",
       "      <td>2.184182e+06</td>\n",
       "      <td>2.740520e+06</td>\n",
       "    </tr>\n",
       "    <tr>\n",
       "      <th>4</th>\n",
       "      <td>SARIMAX(3,1,2)x(0,1,3,12)</td>\n",
       "      <td>3.431899</td>\n",
       "      <td>3.730760</td>\n",
       "      <td>1.608049e+06</td>\n",
       "      <td>1.417350e+06</td>\n",
       "    </tr>\n",
       "  </tbody>\n",
       "</table>\n",
       "</div>"
      ],
      "text/plain": [
       "                       model  Train_MAPE  Test_MAPE     Train_MAE  \\\n",
       "0                Simple_Mean    3.957661   5.488195  1.867551e+06   \n",
       "1                Rolling_AVG    5.310872   5.135859  2.520438e+06   \n",
       "2               ARIMA(4,0,2)   12.243213   5.152527  6.198869e+06   \n",
       "3   SARIMA(3,1,2)x(0,1,3,12)    4.567475   7.047027  2.184182e+06   \n",
       "4  SARIMAX(3,1,2)x(0,1,3,12)    3.431899   3.730760  1.608049e+06   \n",
       "\n",
       "       Test_MAE  \n",
       "0  2.126467e+06  \n",
       "1  2.122838e+06  \n",
       "2  1.990700e+06  \n",
       "3  2.740520e+06  \n",
       "4  1.417350e+06  "
      ]
     },
     "execution_count": 387,
     "metadata": {},
     "output_type": "execute_result"
    }
   ],
   "source": [
    "#Check results table\n",
    "results"
   ]
  },
  {
   "cell_type": "code",
   "execution_count": 388,
   "metadata": {},
   "outputs": [
    {
     "name": "stdout",
     "output_type": "stream",
     "text": [
      "\n",
      "## Table\n",
      "|    | model                     |   Train_MAPE |   Test_MAPE |   Train_MAE |    Test_MAE |\n",
      "|---:|:--------------------------|-------------:|------------:|------------:|------------:|\n",
      "|  0 | Simple_Mean               |      3.95766 |     5.4882  | 1.86755e+06 | 2.12647e+06 |\n",
      "|  1 | Rolling_AVG               |      5.31087 |     5.13586 | 2.52044e+06 | 2.12284e+06 |\n",
      "|  2 | ARIMA(4,0,2)              |     12.2432  |     5.15253 | 6.19887e+06 | 1.9907e+06  |\n",
      "|  3 | SARIMA(3,1,2)x(0,1,3,12)  |      4.56748 |     7.04703 | 2.18418e+06 | 2.74052e+06 |\n",
      "|  4 | SARIMAX(3,1,2)x(0,1,3,12) |      3.4319  |     3.73076 | 1.60805e+06 | 1.41735e+06 |\n",
      "\n"
     ]
    }
   ],
   "source": [
    "#Print result table to include in markdown\n",
    "markdown_table = results.to_markdown()\n",
    "\n",
    "markdown_cell = f\"\"\"\n",
    "## Table\n",
    "{markdown_table}\n",
    "\"\"\"\n",
    "print(markdown_cell)"
   ]
  },
  {
   "cell_type": "code",
   "execution_count": 389,
   "metadata": {},
   "outputs": [],
   "source": [
    "#Load models \n",
    "arima_model_fit = joblib.load('../model/monthly_arima.pkl')\n",
    "sarima_model_fit = joblib.load('../model/monthly_sarima.pkl')\n",
    "sarimax_model_fit = joblib.load('../model/monthly_sarimax.pkl')"
   ]
  },
  {
   "cell_type": "code",
   "execution_count": 390,
   "metadata": {},
   "outputs": [],
   "source": [
    "#Error metrics functions  \n",
    "def mean_absolute_percentage_error(true_values, predicted_values):\n",
    "    error = true_values - predicted_values\n",
    "    absolute_percentage_error = np.abs(error/true_values)\n",
    "    mape = absolute_percentage_error.mean() * 100\n",
    "    \n",
    "    return mape\n",
    "\n",
    "def mean_absolute_error(true_values, predicted_values):\n",
    "    error = np.abs(true_values - predicted_values)\n",
    "    mae = error.mean()\n",
    "\n",
    "    return mae"
   ]
  },
  {
   "attachments": {},
   "cell_type": "markdown",
   "metadata": {},
   "source": [
    "### **2. MAPE and MAE Results**\n",
    "\n",
    "The table below presents the results of the modeling process, which yielded relatively modest outcomes. Among the models tested, only SARIMAX demonstrated a significant improvement over the baseline models. While a monthly prediction error of 3.73% may appear acceptable, considering that our \"dumb\" model achieved a 5.13% error, there is room for further improvement in the model's performance.\n",
    "\n",
    "| Model                     |   Train_MAPE |   Test_MAPE |   Train_MAE |   Test_MAE |\n",
    "|:--------------------------|-------------:|------------:|------------:|-----------:|\n",
    "| Simple_Mean (baseline)    |     3.95%    |    5.48%    | 1,867,551   | 2,126,466  |\n",
    "| Rolling_AVG (baseline)    |     5.31%    |    5.13%    | 2,520,044   | 2,122,838  |\n",
    "| ARIMA(4,0,2)              |     12.24%   |    5.15%    | 6,198,868   | 1,990,700  |\n",
    "| SARIMA(3,1,2)x(0,1,3,12)  |     4.56%    |    7.04%    | 2,184,182   | 2,740,519  |\n",
    "| SARIMAX(3,1,2)x(0,1,3,12) |     3.43%    |    3.73%    | 1,608,039   | 1,417,534  |\n",
    "\n",
    "#### **Next steps**\n",
    "\n",
    "To enhance the performance of our model, we will pursue the following strategies:\n",
    "1.\tRefine the SARIMA model, which is expected to perform better than the ARIMA model due to its ability to capture the seasonal behavior of energy consumption. By optimizing the SARIMA parameters and fine-tuning the model, we aim to improve its predictive accuracy.\n",
    "2.\tExpand the exogenous variables incorporated in the SARIMAX model. By including additional relevant factors, such as weather data or economic indicators, we can enhance the model's ability to capture the influences on energy consumption and potentially improve its forecasting performance.\n",
    "3.\tExplore the application of machine learning algorithms. In addition to statistical models, we will test and compare the performance of machine learning approaches to time series forecasting. By leveraging the capabilities of machine learning algorithms, we can assess whether they offer any advantages over the statistical models in terms of accuracy and predictive power.\n",
    "\n",
    "  "
   ]
  },
  {
   "attachments": {},
   "cell_type": "markdown",
   "metadata": {},
   "source": [
    "### **3. SARIMAX Resulst**\n",
    "\n",
    "Having that the SARIMAX was our best perfoming model we can check its diagnostics to check its performance. "
   ]
  },
  {
   "cell_type": "code",
   "execution_count": 391,
   "metadata": {},
   "outputs": [
    {
     "data": {
      "text/html": [
       "<table class=\"simpletable\">\n",
       "<caption>SARIMAX Results</caption>\n",
       "<tr>\n",
       "  <th>Dep. Variable:</th>                     <td>nd</td>                   <th>  No. Observations:  </th>    <td>134</td>   \n",
       "</tr>\n",
       "<tr>\n",
       "  <th>Model:</th>           <td>SARIMAX(3, 1, 2)x(0, 1, [1, 2, 3], 12)</td> <th>  Log Likelihood     </th> <td>-1923.246</td>\n",
       "</tr>\n",
       "<tr>\n",
       "  <th>Date:</th>                       <td>Sun, 25 Jun 2023</td>            <th>  AIC                </th> <td>3868.492</td> \n",
       "</tr>\n",
       "<tr>\n",
       "  <th>Time:</th>                           <td>13:49:37</td>                <th>  BIC                </th> <td>3899.246</td> \n",
       "</tr>\n",
       "<tr>\n",
       "  <th>Sample:</th>                        <td>01-01-2009</td>               <th>  HQIC               </th> <td>3880.983</td> \n",
       "</tr>\n",
       "<tr>\n",
       "  <th></th>                              <td>- 02-01-2020</td>              <th>                     </th>     <td> </td>    \n",
       "</tr>\n",
       "<tr>\n",
       "  <th>Covariance Type:</th>                   <td>opg</td>                  <th>                     </th>     <td> </td>    \n",
       "</tr>\n",
       "</table>\n",
       "<table class=\"simpletable\">\n",
       "<tr>\n",
       "        <td></td>           <th>coef</th>     <th>std err</th>      <th>z</th>      <th>P>|z|</th>  <th>[0.025</th>    <th>0.975]</th>  \n",
       "</tr>\n",
       "<tr>\n",
       "  <th>temp</th>          <td>-7.227e+05</td> <td>  4.5e-08</td> <td>-1.61e+13</td> <td> 0.000</td> <td>-7.23e+05</td> <td>-7.23e+05</td>\n",
       "</tr>\n",
       "<tr>\n",
       "  <th>import_export</th> <td>   -0.2812</td> <td>    0.181</td> <td>   -1.550</td> <td> 0.121</td> <td>   -0.637</td> <td>    0.074</td>\n",
       "</tr>\n",
       "<tr>\n",
       "  <th>ar.L1</th>         <td>   -1.5715</td> <td>    0.032</td> <td>  -49.551</td> <td> 0.000</td> <td>   -1.634</td> <td>   -1.509</td>\n",
       "</tr>\n",
       "<tr>\n",
       "  <th>ar.L2</th>         <td>   -1.0557</td> <td>    0.040</td> <td>  -26.545</td> <td> 0.000</td> <td>   -1.134</td> <td>   -0.978</td>\n",
       "</tr>\n",
       "<tr>\n",
       "  <th>ar.L3</th>         <td>   -0.0862</td> <td>    0.028</td> <td>   -3.124</td> <td> 0.002</td> <td>   -0.140</td> <td>   -0.032</td>\n",
       "</tr>\n",
       "<tr>\n",
       "  <th>ma.L1</th>         <td>    1.5312</td> <td>    0.020</td> <td>   78.038</td> <td> 0.000</td> <td>    1.493</td> <td>    1.570</td>\n",
       "</tr>\n",
       "<tr>\n",
       "  <th>ma.L2</th>         <td>    0.9678</td> <td>    0.017</td> <td>   55.922</td> <td> 0.000</td> <td>    0.934</td> <td>    1.002</td>\n",
       "</tr>\n",
       "<tr>\n",
       "  <th>ma.S.L12</th>      <td>   -0.1595</td> <td>    0.051</td> <td>   -3.104</td> <td> 0.002</td> <td>   -0.260</td> <td>   -0.059</td>\n",
       "</tr>\n",
       "<tr>\n",
       "  <th>ma.S.L24</th>      <td>   -0.1773</td> <td>    0.036</td> <td>   -4.878</td> <td> 0.000</td> <td>   -0.249</td> <td>   -0.106</td>\n",
       "</tr>\n",
       "<tr>\n",
       "  <th>ma.S.L36</th>      <td>   -0.0631</td> <td>    0.018</td> <td>   -3.517</td> <td> 0.000</td> <td>   -0.098</td> <td>   -0.028</td>\n",
       "</tr>\n",
       "<tr>\n",
       "  <th>sigma2</th>        <td> 3.226e+12</td> <td> 3.69e-14</td> <td> 8.74e+25</td> <td> 0.000</td> <td> 3.23e+12</td> <td> 3.23e+12</td>\n",
       "</tr>\n",
       "</table>\n",
       "<table class=\"simpletable\">\n",
       "<tr>\n",
       "  <th>Ljung-Box (L1) (Q):</th>     <td>6.73</td> <th>  Jarque-Bera (JB):  </th> <td>27.87</td>\n",
       "</tr>\n",
       "<tr>\n",
       "  <th>Prob(Q):</th>                <td>0.01</td> <th>  Prob(JB):          </th> <td>0.00</td> \n",
       "</tr>\n",
       "<tr>\n",
       "  <th>Heteroskedasticity (H):</th> <td>0.28</td> <th>  Skew:              </th> <td>0.54</td> \n",
       "</tr>\n",
       "<tr>\n",
       "  <th>Prob(H) (two-sided):</th>    <td>0.00</td> <th>  Kurtosis:          </th> <td>5.09</td> \n",
       "</tr>\n",
       "</table><br/><br/>Warnings:<br/>[1] Covariance matrix calculated using the outer product of gradients (complex-step).<br/>[2] Covariance matrix is singular or near-singular, with condition number 2.38e+41. Standard errors may be unstable."
      ],
      "text/plain": [
       "<class 'statsmodels.iolib.summary.Summary'>\n",
       "\"\"\"\n",
       "                                         SARIMAX Results                                          \n",
       "==================================================================================================\n",
       "Dep. Variable:                                         nd   No. Observations:                  134\n",
       "Model:             SARIMAX(3, 1, 2)x(0, 1, [1, 2, 3], 12)   Log Likelihood               -1923.246\n",
       "Date:                                    Sun, 25 Jun 2023   AIC                           3868.492\n",
       "Time:                                            13:49:37   BIC                           3899.246\n",
       "Sample:                                        01-01-2009   HQIC                          3880.983\n",
       "                                             - 02-01-2020                                         \n",
       "Covariance Type:                                      opg                                         \n",
       "=================================================================================\n",
       "                    coef    std err          z      P>|z|      [0.025      0.975]\n",
       "---------------------------------------------------------------------------------\n",
       "temp          -7.227e+05    4.5e-08  -1.61e+13      0.000   -7.23e+05   -7.23e+05\n",
       "import_export    -0.2812      0.181     -1.550      0.121      -0.637       0.074\n",
       "ar.L1            -1.5715      0.032    -49.551      0.000      -1.634      -1.509\n",
       "ar.L2            -1.0557      0.040    -26.545      0.000      -1.134      -0.978\n",
       "ar.L3            -0.0862      0.028     -3.124      0.002      -0.140      -0.032\n",
       "ma.L1             1.5312      0.020     78.038      0.000       1.493       1.570\n",
       "ma.L2             0.9678      0.017     55.922      0.000       0.934       1.002\n",
       "ma.S.L12         -0.1595      0.051     -3.104      0.002      -0.260      -0.059\n",
       "ma.S.L24         -0.1773      0.036     -4.878      0.000      -0.249      -0.106\n",
       "ma.S.L36         -0.0631      0.018     -3.517      0.000      -0.098      -0.028\n",
       "sigma2         3.226e+12   3.69e-14   8.74e+25      0.000    3.23e+12    3.23e+12\n",
       "===================================================================================\n",
       "Ljung-Box (L1) (Q):                   6.73   Jarque-Bera (JB):                27.87\n",
       "Prob(Q):                              0.01   Prob(JB):                         0.00\n",
       "Heteroskedasticity (H):               0.28   Skew:                             0.54\n",
       "Prob(H) (two-sided):                  0.00   Kurtosis:                         5.09\n",
       "===================================================================================\n",
       "\n",
       "Warnings:\n",
       "[1] Covariance matrix calculated using the outer product of gradients (complex-step).\n",
       "[2] Covariance matrix is singular or near-singular, with condition number 2.38e+41. Standard errors may be unstable.\n",
       "\"\"\""
      ]
     },
     "execution_count": 391,
     "metadata": {},
     "output_type": "execute_result"
    }
   ],
   "source": [
    "sarimax_model_fit.summary()"
   ]
  },
  {
   "cell_type": "code",
   "execution_count": 392,
   "metadata": {},
   "outputs": [
    {
     "data": {
      "image/png": "[encoded data removed]",
      "text/plain": [
       "<Figure size 1500x1000 with 4 Axes>"
      ]
     },
     "metadata": {},
     "output_type": "display_data"
    }
   ],
   "source": [
    "sarimax_model_fit.plot_diagnostics(figsize=(15,10))\n",
    "plt.show()"
   ]
  },
  {
   "attachments": {},
   "cell_type": "markdown",
   "metadata": {},
   "source": [
    "From the plots above, we can draw the following conclusions regarding our SARIMAX model (3, 1, 2)x(0, 1, 3, 12):\n",
    "\n",
    "1. The standardized residuals do not exhibit any discernible pattern, seasonality, or trend, which is a positive indication. This suggests that the model has adequately captured the underlying patterns in the data.\n",
    "\n",
    "2. The kernel density estimation (KDE) curve in the histogram of the residuals appears to resemble a normal distribution. This indicates that the residuals follow a roughly Gaussian distribution, supporting the assumption of normality in our model.\n",
    "\n",
    "3. The Normal Q-Q plot reveals that most of the residuals align closely with the theoretical quantiles of a normal distribution. However, it is worth noting that at the right end of the x-axis, the residuals deviate from the line. This suggests that the residuals may exhibit some departure from a strictly normal distribution in the tail regions.\n",
    "\n",
    "4. The correlogram (ACF function) illustrates that there might still be some residual autocorrelation present. This indicates that there is room for improvement in the model, as residual autocorrelation suggests that additional patterns or dependencies in the data are not adequately captured.\n",
    "\n",
    "Overall, while the SARIMAX model shows promising results with regard to residual patterns and normality assumptions, there is still potential for refinement to further enhance its performance and address any remaining residual autocorrelation.\n"
   ]
  },
  {
   "attachments": {},
   "cell_type": "markdown",
   "metadata": {},
   "source": [
    "Another usefull way to analyze results is to check the p values, which from the list below we can see that all the p-values haver low values except for the `import_export` column. This issue needs to be addressed in subsequents runs of the model. "
   ]
  },
  {
   "cell_type": "code",
   "execution_count": 393,
   "metadata": {},
   "outputs": [
    {
     "data": {
      "text/plain": [
       "temp              0.000000e+00\n",
       "import_export     1.211397e-01\n",
       "ar.L1             0.000000e+00\n",
       "ar.L2            2.959173e-155\n",
       "ar.L3             1.782855e-03\n",
       "ma.L1             0.000000e+00\n",
       "ma.L2             0.000000e+00\n",
       "ma.S.L12          1.907190e-03\n",
       "ma.S.L24          1.069049e-06\n",
       "ma.S.L36          4.367206e-04\n",
       "sigma2            0.000000e+00\n",
       "dtype: float64"
      ]
     },
     "execution_count": 393,
     "metadata": {},
     "output_type": "execute_result"
    }
   ],
   "source": [
    "sarimax_model_fit.pvalues"
   ]
  },
  {
   "attachments": {},
   "cell_type": "markdown",
   "metadata": {},
   "source": [
    "### **4. Model Validation**\n",
    "\n",
    "To further evaluate the model results we are going to constrast them to new data of the current year, particularly from January to May 2023. The results of this unseen data could tell us more on how our models perform in further forecasting.\n",
    "\n",
    "The data to be load as `validation` is contains the same columns as `df_monthly`."
   ]
  },
  {
   "cell_type": "code",
   "execution_count": 394,
   "metadata": {},
   "outputs": [],
   "source": [
    "#Load Validtion data\n",
    "validation = pd.read_csv('../data/validation_data.csv', index_col=0)\n",
    "validation_monthly = pd.read_csv('../data/monthly_validation_data.csv', index_col=0)\n",
    "validation_exog = pd.read_csv('../data/validation_exog.csv', index_col=0)\n",
    "\n",
    "#Change datetime index\n",
    "validation_monthly = validation_monthly.set_index(pd.to_datetime(validation_monthly.index))"
   ]
  },
  {
   "cell_type": "code",
   "execution_count": 395,
   "metadata": {},
   "outputs": [
    {
     "data": {
      "text/html": [
       "<div>\n",
       "<style scoped>\n",
       "    .dataframe tbody tr th:only-of-type {\n",
       "        vertical-align: middle;\n",
       "    }\n",
       "\n",
       "    .dataframe tbody tr th {\n",
       "        vertical-align: top;\n",
       "    }\n",
       "\n",
       "    .dataframe thead th {\n",
       "        text-align: right;\n",
       "    }\n",
       "</style>\n",
       "<table border=\"1\" class=\"dataframe\">\n",
       "  <thead>\n",
       "    <tr style=\"text-align: right;\">\n",
       "      <th></th>\n",
       "      <th>ND</th>\n",
       "      <th>TSD</th>\n",
       "      <th>ENGLAND_WALES_DEMAND</th>\n",
       "      <th>EMBEDDED_WIND_GENERATION</th>\n",
       "      <th>EMBEDDED_WIND_CAPACITY</th>\n",
       "      <th>EMBEDDED_SOLAR_GENERATION</th>\n",
       "      <th>EMBEDDED_SOLAR_CAPACITY</th>\n",
       "      <th>NON_BM_STOR</th>\n",
       "      <th>PUMP_STORAGE_PUMPING</th>\n",
       "      <th>NSL_FLOW</th>\n",
       "      <th>ELECLINK_FLOW</th>\n",
       "      <th>import_export</th>\n",
       "    </tr>\n",
       "    <tr>\n",
       "      <th>new_index</th>\n",
       "      <th></th>\n",
       "      <th></th>\n",
       "      <th></th>\n",
       "      <th></th>\n",
       "      <th></th>\n",
       "      <th></th>\n",
       "      <th></th>\n",
       "      <th></th>\n",
       "      <th></th>\n",
       "      <th></th>\n",
       "      <th></th>\n",
       "      <th></th>\n",
       "    </tr>\n",
       "  </thead>\n",
       "  <tbody>\n",
       "    <tr>\n",
       "      <th>2023-01-01</th>\n",
       "      <td>45692038</td>\n",
       "      <td>48800077</td>\n",
       "      <td>42209946</td>\n",
       "      <td>3534958</td>\n",
       "      <td>9738960</td>\n",
       "      <td>774066</td>\n",
       "      <td>19463040</td>\n",
       "      <td>0</td>\n",
       "      <td>474373</td>\n",
       "      <td>1268879</td>\n",
       "      <td>510339</td>\n",
       "      <td>2171162</td>\n",
       "    </tr>\n",
       "    <tr>\n",
       "      <th>2023-02-01</th>\n",
       "      <td>39747240</td>\n",
       "      <td>41907790</td>\n",
       "      <td>36587998</td>\n",
       "      <td>2625784</td>\n",
       "      <td>8796480</td>\n",
       "      <td>1121712</td>\n",
       "      <td>17579520</td>\n",
       "      <td>0</td>\n",
       "      <td>293849</td>\n",
       "      <td>1563005</td>\n",
       "      <td>405086</td>\n",
       "      <td>2859913</td>\n",
       "    </tr>\n",
       "    <tr>\n",
       "      <th>2023-03-01</th>\n",
       "      <td>43182167</td>\n",
       "      <td>45713237</td>\n",
       "      <td>39338437</td>\n",
       "      <td>2672593</td>\n",
       "      <td>9725870</td>\n",
       "      <td>1527176</td>\n",
       "      <td>19436880</td>\n",
       "      <td>0</td>\n",
       "      <td>384186</td>\n",
       "      <td>1568087</td>\n",
       "      <td>761920</td>\n",
       "      <td>3409343</td>\n",
       "    </tr>\n",
       "    <tr>\n",
       "      <th>2023-04-01</th>\n",
       "      <td>36750722</td>\n",
       "      <td>38827776</td>\n",
       "      <td>33519472</td>\n",
       "      <td>2170031</td>\n",
       "      <td>9424800</td>\n",
       "      <td>2650403</td>\n",
       "      <td>18835200</td>\n",
       "      <td>0</td>\n",
       "      <td>219144</td>\n",
       "      <td>1404302</td>\n",
       "      <td>548901</td>\n",
       "      <td>2581531</td>\n",
       "    </tr>\n",
       "    <tr>\n",
       "      <th>2023-05-01</th>\n",
       "      <td>28149577</td>\n",
       "      <td>29821140</td>\n",
       "      <td>25497528</td>\n",
       "      <td>1319003</td>\n",
       "      <td>7850976</td>\n",
       "      <td>2724811</td>\n",
       "      <td>15696432</td>\n",
       "      <td>0</td>\n",
       "      <td>134418</td>\n",
       "      <td>1368662</td>\n",
       "      <td>877621</td>\n",
       "      <td>2850247</td>\n",
       "    </tr>\n",
       "  </tbody>\n",
       "</table>\n",
       "</div>"
      ],
      "text/plain": [
       "                  ND       TSD  ENGLAND_WALES_DEMAND  \\\n",
       "new_index                                              \n",
       "2023-01-01  45692038  48800077              42209946   \n",
       "2023-02-01  39747240  41907790              36587998   \n",
       "2023-03-01  43182167  45713237              39338437   \n",
       "2023-04-01  36750722  38827776              33519472   \n",
       "2023-05-01  28149577  29821140              25497528   \n",
       "\n",
       "            EMBEDDED_WIND_GENERATION  EMBEDDED_WIND_CAPACITY  \\\n",
       "new_index                                                      \n",
       "2023-01-01                   3534958                 9738960   \n",
       "2023-02-01                   2625784                 8796480   \n",
       "2023-03-01                   2672593                 9725870   \n",
       "2023-04-01                   2170031                 9424800   \n",
       "2023-05-01                   1319003                 7850976   \n",
       "\n",
       "            EMBEDDED_SOLAR_GENERATION  EMBEDDED_SOLAR_CAPACITY  NON_BM_STOR  \\\n",
       "new_index                                                                     \n",
       "2023-01-01                     774066                 19463040            0   \n",
       "2023-02-01                    1121712                 17579520            0   \n",
       "2023-03-01                    1527176                 19436880            0   \n",
       "2023-04-01                    2650403                 18835200            0   \n",
       "2023-05-01                    2724811                 15696432            0   \n",
       "\n",
       "            PUMP_STORAGE_PUMPING  NSL_FLOW  ELECLINK_FLOW  import_export  \n",
       "new_index                                                                 \n",
       "2023-01-01                474373   1268879         510339        2171162  \n",
       "2023-02-01                293849   1563005         405086        2859913  \n",
       "2023-03-01                384186   1568087         761920        3409343  \n",
       "2023-04-01                219144   1404302         548901        2581531  \n",
       "2023-05-01                134418   1368662         877621        2850247  "
      ]
     },
     "execution_count": 395,
     "metadata": {},
     "output_type": "execute_result"
    }
   ],
   "source": [
    "#Check load\n",
    "validation_monthly"
   ]
  },
  {
   "cell_type": "code",
   "execution_count": 396,
   "metadata": {},
   "outputs": [
    {
     "data": {
      "image/png": "[encoded data removed]",
      "text/plain": [
       "<Figure size 1000x500 with 1 Axes>"
      ]
     },
     "metadata": {},
     "output_type": "display_data"
    }
   ],
   "source": [
    "#Plot prediction and new data limited from January 2022\n",
    "plt.figure(figsize=(10,5))\n",
    "plt.plot(df_monthly['nd'], label='Original data',linestyle='--')\n",
    "plt.plot(validation_monthly['ND'], label='Actual')\n",
    "plt.plot(df_monthly['SARIMAX_predict'], label='SARIMAX')\n",
    "plt.plot(df_monthly['ARIMA_predict'], label='ARIMA')\n",
    "plt.plot(df_monthly['SARIMA_predict2'], label='SARIMA')\n",
    "\n",
    "plt.xlim(pd.to_datetime('2022-01-01'), validation_monthly.index.max())\n",
    "\n",
    "plt.title('ND SARIMAX Predictions')\n",
    "plt.xlabel('Date')\n",
    "plt.ylabel('ND')\n",
    "plt.legend(bbox_to_anchor=(1.05, 1), loc='upper left')\n",
    "sns.despine()\n",
    "plt.show()"
   ]
  },
  {
   "attachments": {},
   "cell_type": "markdown",
   "metadata": {},
   "source": [
    "Now that we have the validation data we are going to update the temperature exogenous variable for the SARIMAX model"
   ]
  },
  {
   "cell_type": "code",
   "execution_count": 397,
   "metadata": {},
   "outputs": [
    {
     "data": {
      "text/html": [
       "<div>\n",
       "<style scoped>\n",
       "    .dataframe tbody tr th:only-of-type {\n",
       "        vertical-align: middle;\n",
       "    }\n",
       "\n",
       "    .dataframe tbody tr th {\n",
       "        vertical-align: top;\n",
       "    }\n",
       "\n",
       "    .dataframe thead th {\n",
       "        text-align: right;\n",
       "    }\n",
       "</style>\n",
       "<table border=\"1\" class=\"dataframe\">\n",
       "  <thead>\n",
       "    <tr style=\"text-align: right;\">\n",
       "      <th></th>\n",
       "      <th>temperature</th>\n",
       "    </tr>\n",
       "    <tr>\n",
       "      <th>date</th>\n",
       "      <th></th>\n",
       "    </tr>\n",
       "  </thead>\n",
       "  <tbody>\n",
       "    <tr>\n",
       "      <th>2009-01-01</th>\n",
       "      <td>5.7</td>\n",
       "    </tr>\n",
       "    <tr>\n",
       "      <th>2009-02-01</th>\n",
       "      <td>6.4</td>\n",
       "    </tr>\n",
       "    <tr>\n",
       "      <th>2009-03-01</th>\n",
       "      <td>9.9</td>\n",
       "    </tr>\n",
       "    <tr>\n",
       "      <th>2009-04-01</th>\n",
       "      <td>13.3</td>\n",
       "    </tr>\n",
       "    <tr>\n",
       "      <th>2009-05-01</th>\n",
       "      <td>15.3</td>\n",
       "    </tr>\n",
       "    <tr>\n",
       "      <th>...</th>\n",
       "      <td>...</td>\n",
       "    </tr>\n",
       "    <tr>\n",
       "      <th>2023-01-01</th>\n",
       "      <td>7.3</td>\n",
       "    </tr>\n",
       "    <tr>\n",
       "      <th>2023-02-01</th>\n",
       "      <td>9.0</td>\n",
       "    </tr>\n",
       "    <tr>\n",
       "      <th>2023-03-01</th>\n",
       "      <td>8.9</td>\n",
       "    </tr>\n",
       "    <tr>\n",
       "      <th>2023-04-01</th>\n",
       "      <td>11.9</td>\n",
       "    </tr>\n",
       "    <tr>\n",
       "      <th>2023-05-01</th>\n",
       "      <td>16.2</td>\n",
       "    </tr>\n",
       "  </tbody>\n",
       "</table>\n",
       "<p>173 rows × 1 columns</p>\n",
       "</div>"
      ],
      "text/plain": [
       "            temperature\n",
       "date                   \n",
       "2009-01-01          5.7\n",
       "2009-02-01          6.4\n",
       "2009-03-01          9.9\n",
       "2009-04-01         13.3\n",
       "2009-05-01         15.3\n",
       "...                 ...\n",
       "2023-01-01          7.3\n",
       "2023-02-01          9.0\n",
       "2023-03-01          8.9\n",
       "2023-04-01         11.9\n",
       "2023-05-01         16.2\n",
       "\n",
       "[173 rows x 1 columns]"
      ]
     },
     "execution_count": 397,
     "metadata": {},
     "output_type": "execute_result"
    }
   ],
   "source": [
    "#Determine exogenous variables\n",
    "temp = pd.read_csv('../data/val_temperature_data.csv', index_col=0)\n",
    "temp"
   ]
  },
  {
   "cell_type": "code",
   "execution_count": 398,
   "metadata": {},
   "outputs": [],
   "source": [
    "#Set index to datetime\n",
    "temp = temp.set_index(pd.to_datetime(temp.index))\n",
    "temp.asfreq('MS')\n",
    "validation_monthly['temp'] = temp"
   ]
  },
  {
   "cell_type": "code",
   "execution_count": 399,
   "metadata": {},
   "outputs": [],
   "source": [
    "exog_variables = validation_monthly[['import_export', 'temp']]  "
   ]
  },
  {
   "cell_type": "code",
   "execution_count": 400,
   "metadata": {},
   "outputs": [
    {
     "data": {
      "text/html": [
       "<div>\n",
       "<style scoped>\n",
       "    .dataframe tbody tr th:only-of-type {\n",
       "        vertical-align: middle;\n",
       "    }\n",
       "\n",
       "    .dataframe tbody tr th {\n",
       "        vertical-align: top;\n",
       "    }\n",
       "\n",
       "    .dataframe thead th {\n",
       "        text-align: right;\n",
       "    }\n",
       "</style>\n",
       "<table border=\"1\" class=\"dataframe\">\n",
       "  <thead>\n",
       "    <tr style=\"text-align: right;\">\n",
       "      <th></th>\n",
       "      <th>import_export</th>\n",
       "      <th>temp</th>\n",
       "    </tr>\n",
       "  </thead>\n",
       "  <tbody>\n",
       "    <tr>\n",
       "      <th>2020-03-01</th>\n",
       "      <td>4697670</td>\n",
       "      <td>9.3</td>\n",
       "    </tr>\n",
       "    <tr>\n",
       "      <th>2020-04-01</th>\n",
       "      <td>3485297</td>\n",
       "      <td>14.2</td>\n",
       "    </tr>\n",
       "    <tr>\n",
       "      <th>2020-05-01</th>\n",
       "      <td>3704969</td>\n",
       "      <td>16.7</td>\n",
       "    </tr>\n",
       "    <tr>\n",
       "      <th>2020-06-01</th>\n",
       "      <td>1980425</td>\n",
       "      <td>18.3</td>\n",
       "    </tr>\n",
       "    <tr>\n",
       "      <th>2020-07-01</th>\n",
       "      <td>569521</td>\n",
       "      <td>18.3</td>\n",
       "    </tr>\n",
       "    <tr>\n",
       "      <th>2020-08-01</th>\n",
       "      <td>2781127</td>\n",
       "      <td>19.9</td>\n",
       "    </tr>\n",
       "    <tr>\n",
       "      <th>2020-09-01</th>\n",
       "      <td>1667037</td>\n",
       "      <td>17.1</td>\n",
       "    </tr>\n",
       "    <tr>\n",
       "      <th>2020-10-01</th>\n",
       "      <td>3734544</td>\n",
       "      <td>12.4</td>\n",
       "    </tr>\n",
       "    <tr>\n",
       "      <th>2020-11-01</th>\n",
       "      <td>3841295</td>\n",
       "      <td>10.7</td>\n",
       "    </tr>\n",
       "    <tr>\n",
       "      <th>2020-12-01</th>\n",
       "      <td>3251016</td>\n",
       "      <td>6.8</td>\n",
       "    </tr>\n",
       "    <tr>\n",
       "      <th>2021-01-01</th>\n",
       "      <td>4020098</td>\n",
       "      <td>4.9</td>\n",
       "    </tr>\n",
       "    <tr>\n",
       "      <th>2021-02-01</th>\n",
       "      <td>4651818</td>\n",
       "      <td>7.0</td>\n",
       "    </tr>\n",
       "    <tr>\n",
       "      <th>2021-03-01</th>\n",
       "      <td>4242729</td>\n",
       "      <td>9.8</td>\n",
       "    </tr>\n",
       "    <tr>\n",
       "      <th>2021-04-01</th>\n",
       "      <td>3043913</td>\n",
       "      <td>10.9</td>\n",
       "    </tr>\n",
       "    <tr>\n",
       "      <th>2021-05-01</th>\n",
       "      <td>4123177</td>\n",
       "      <td>13.4</td>\n",
       "    </tr>\n",
       "    <tr>\n",
       "      <th>2021-06-01</th>\n",
       "      <td>5022938</td>\n",
       "      <td>18.7</td>\n",
       "    </tr>\n",
       "    <tr>\n",
       "      <th>2021-07-01</th>\n",
       "      <td>5420763</td>\n",
       "      <td>21.1</td>\n",
       "    </tr>\n",
       "    <tr>\n",
       "      <th>2021-08-01</th>\n",
       "      <td>5829233</td>\n",
       "      <td>18.9</td>\n",
       "    </tr>\n",
       "    <tr>\n",
       "      <th>2021-09-01</th>\n",
       "      <td>4006440</td>\n",
       "      <td>18.6</td>\n",
       "    </tr>\n",
       "    <tr>\n",
       "      <th>2021-10-01</th>\n",
       "      <td>2806354</td>\n",
       "      <td>14.0</td>\n",
       "    </tr>\n",
       "    <tr>\n",
       "      <th>2021-11-01</th>\n",
       "      <td>1381551</td>\n",
       "      <td>9.9</td>\n",
       "    </tr>\n",
       "    <tr>\n",
       "      <th>2021-12-01</th>\n",
       "      <td>2312352</td>\n",
       "      <td>7.8</td>\n",
       "    </tr>\n",
       "    <tr>\n",
       "      <th>2022-01-01</th>\n",
       "      <td>2193362</td>\n",
       "      <td>7.7</td>\n",
       "    </tr>\n",
       "    <tr>\n",
       "      <th>2022-02-01</th>\n",
       "      <td>2720628</td>\n",
       "      <td>8.7</td>\n",
       "    </tr>\n",
       "    <tr>\n",
       "      <th>2022-03-01</th>\n",
       "      <td>2051879</td>\n",
       "      <td>11.1</td>\n",
       "    </tr>\n",
       "    <tr>\n",
       "      <th>2022-04-01</th>\n",
       "      <td>-565062</td>\n",
       "      <td>12.6</td>\n",
       "    </tr>\n",
       "    <tr>\n",
       "      <th>2022-05-01</th>\n",
       "      <td>-3169840</td>\n",
       "      <td>15.9</td>\n",
       "    </tr>\n",
       "    <tr>\n",
       "      <th>2022-06-01</th>\n",
       "      <td>-2787313</td>\n",
       "      <td>18.6</td>\n",
       "    </tr>\n",
       "    <tr>\n",
       "      <th>2022-07-01</th>\n",
       "      <td>-2580435</td>\n",
       "      <td>21.3</td>\n",
       "    </tr>\n",
       "    <tr>\n",
       "      <th>2022-08-01</th>\n",
       "      <td>-1134582</td>\n",
       "      <td>21.7</td>\n",
       "    </tr>\n",
       "    <tr>\n",
       "      <th>2022-09-01</th>\n",
       "      <td>-2189176</td>\n",
       "      <td>17.4</td>\n",
       "    </tr>\n",
       "    <tr>\n",
       "      <th>2022-10-01</th>\n",
       "      <td>-2006241</td>\n",
       "      <td>14.9</td>\n",
       "    </tr>\n",
       "    <tr>\n",
       "      <th>2022-11-01</th>\n",
       "      <td>-1952016</td>\n",
       "      <td>10.9</td>\n",
       "    </tr>\n",
       "    <tr>\n",
       "      <th>2022-12-01</th>\n",
       "      <td>1647075</td>\n",
       "      <td>5.9</td>\n",
       "    </tr>\n",
       "    <tr>\n",
       "      <th>2023-01-01</th>\n",
       "      <td>2171162</td>\n",
       "      <td>7.3</td>\n",
       "    </tr>\n",
       "    <tr>\n",
       "      <th>2023-01-01 00:00:00</th>\n",
       "      <td>2171162</td>\n",
       "      <td>7.3</td>\n",
       "    </tr>\n",
       "    <tr>\n",
       "      <th>2023-02-01 00:00:00</th>\n",
       "      <td>2859913</td>\n",
       "      <td>9.0</td>\n",
       "    </tr>\n",
       "    <tr>\n",
       "      <th>2023-03-01 00:00:00</th>\n",
       "      <td>3409343</td>\n",
       "      <td>8.9</td>\n",
       "    </tr>\n",
       "    <tr>\n",
       "      <th>2023-04-01 00:00:00</th>\n",
       "      <td>2581531</td>\n",
       "      <td>11.9</td>\n",
       "    </tr>\n",
       "    <tr>\n",
       "      <th>2023-05-01 00:00:00</th>\n",
       "      <td>2850247</td>\n",
       "      <td>16.2</td>\n",
       "    </tr>\n",
       "  </tbody>\n",
       "</table>\n",
       "</div>"
      ],
      "text/plain": [
       "                     import_export  temp\n",
       "2020-03-01                 4697670   9.3\n",
       "2020-04-01                 3485297  14.2\n",
       "2020-05-01                 3704969  16.7\n",
       "2020-06-01                 1980425  18.3\n",
       "2020-07-01                  569521  18.3\n",
       "2020-08-01                 2781127  19.9\n",
       "2020-09-01                 1667037  17.1\n",
       "2020-10-01                 3734544  12.4\n",
       "2020-11-01                 3841295  10.7\n",
       "2020-12-01                 3251016   6.8\n",
       "2021-01-01                 4020098   4.9\n",
       "2021-02-01                 4651818   7.0\n",
       "2021-03-01                 4242729   9.8\n",
       "2021-04-01                 3043913  10.9\n",
       "2021-05-01                 4123177  13.4\n",
       "2021-06-01                 5022938  18.7\n",
       "2021-07-01                 5420763  21.1\n",
       "2021-08-01                 5829233  18.9\n",
       "2021-09-01                 4006440  18.6\n",
       "2021-10-01                 2806354  14.0\n",
       "2021-11-01                 1381551   9.9\n",
       "2021-12-01                 2312352   7.8\n",
       "2022-01-01                 2193362   7.7\n",
       "2022-02-01                 2720628   8.7\n",
       "2022-03-01                 2051879  11.1\n",
       "2022-04-01                 -565062  12.6\n",
       "2022-05-01                -3169840  15.9\n",
       "2022-06-01                -2787313  18.6\n",
       "2022-07-01                -2580435  21.3\n",
       "2022-08-01                -1134582  21.7\n",
       "2022-09-01                -2189176  17.4\n",
       "2022-10-01                -2006241  14.9\n",
       "2022-11-01                -1952016  10.9\n",
       "2022-12-01                 1647075   5.9\n",
       "2023-01-01                 2171162   7.3\n",
       "2023-01-01 00:00:00        2171162   7.3\n",
       "2023-02-01 00:00:00        2859913   9.0\n",
       "2023-03-01 00:00:00        3409343   8.9\n",
       "2023-04-01 00:00:00        2581531  11.9\n",
       "2023-05-01 00:00:00        2850247  16.2"
      ]
     },
     "execution_count": 400,
     "metadata": {},
     "output_type": "execute_result"
    }
   ],
   "source": [
    "validation_exog = pd.concat([validation_exog, exog_variables], axis=0)\n",
    "\n",
    "validation_exog"
   ]
  },
  {
   "cell_type": "code",
   "execution_count": 401,
   "metadata": {},
   "outputs": [],
   "source": [
    "validation_exog = validation_exog.set_index(pd.to_datetime(validation_exog.index))\n",
    "#January first value row is duplicated\n",
    "validation_exog.drop_duplicates(keep='first', inplace=True)"
   ]
  },
  {
   "cell_type": "code",
   "execution_count": 402,
   "metadata": {},
   "outputs": [
    {
     "data": {
      "text/html": [
       "<div>\n",
       "<style scoped>\n",
       "    .dataframe tbody tr th:only-of-type {\n",
       "        vertical-align: middle;\n",
       "    }\n",
       "\n",
       "    .dataframe tbody tr th {\n",
       "        vertical-align: top;\n",
       "    }\n",
       "\n",
       "    .dataframe thead th {\n",
       "        text-align: right;\n",
       "    }\n",
       "</style>\n",
       "<table border=\"1\" class=\"dataframe\">\n",
       "  <thead>\n",
       "    <tr style=\"text-align: right;\">\n",
       "      <th></th>\n",
       "      <th>import_export</th>\n",
       "      <th>temp</th>\n",
       "    </tr>\n",
       "  </thead>\n",
       "  <tbody>\n",
       "    <tr>\n",
       "      <th>2022-08-01</th>\n",
       "      <td>-1134582</td>\n",
       "      <td>21.7</td>\n",
       "    </tr>\n",
       "    <tr>\n",
       "      <th>2022-09-01</th>\n",
       "      <td>-2189176</td>\n",
       "      <td>17.4</td>\n",
       "    </tr>\n",
       "    <tr>\n",
       "      <th>2022-10-01</th>\n",
       "      <td>-2006241</td>\n",
       "      <td>14.9</td>\n",
       "    </tr>\n",
       "    <tr>\n",
       "      <th>2022-11-01</th>\n",
       "      <td>-1952016</td>\n",
       "      <td>10.9</td>\n",
       "    </tr>\n",
       "    <tr>\n",
       "      <th>2022-12-01</th>\n",
       "      <td>1647075</td>\n",
       "      <td>5.9</td>\n",
       "    </tr>\n",
       "    <tr>\n",
       "      <th>2023-01-01</th>\n",
       "      <td>2171162</td>\n",
       "      <td>7.3</td>\n",
       "    </tr>\n",
       "    <tr>\n",
       "      <th>2023-02-01</th>\n",
       "      <td>2859913</td>\n",
       "      <td>9.0</td>\n",
       "    </tr>\n",
       "    <tr>\n",
       "      <th>2023-03-01</th>\n",
       "      <td>3409343</td>\n",
       "      <td>8.9</td>\n",
       "    </tr>\n",
       "    <tr>\n",
       "      <th>2023-04-01</th>\n",
       "      <td>2581531</td>\n",
       "      <td>11.9</td>\n",
       "    </tr>\n",
       "    <tr>\n",
       "      <th>2023-05-01</th>\n",
       "      <td>2850247</td>\n",
       "      <td>16.2</td>\n",
       "    </tr>\n",
       "  </tbody>\n",
       "</table>\n",
       "</div>"
      ],
      "text/plain": [
       "            import_export  temp\n",
       "2022-08-01       -1134582  21.7\n",
       "2022-09-01       -2189176  17.4\n",
       "2022-10-01       -2006241  14.9\n",
       "2022-11-01       -1952016  10.9\n",
       "2022-12-01        1647075   5.9\n",
       "2023-01-01        2171162   7.3\n",
       "2023-02-01        2859913   9.0\n",
       "2023-03-01        3409343   8.9\n",
       "2023-04-01        2581531  11.9\n",
       "2023-05-01        2850247  16.2"
      ]
     },
     "execution_count": 402,
     "metadata": {},
     "output_type": "execute_result"
    }
   ],
   "source": [
    "validation_exog.tail(10)"
   ]
  },
  {
   "cell_type": "code",
   "execution_count": 403,
   "metadata": {},
   "outputs": [
    {
     "name": "stdout",
     "output_type": "stream",
     "text": [
      "2023-01-01 00:00:00\n",
      "2023-05-01 00:00:00\n"
     ]
    }
   ],
   "source": [
    "#Check boundaries\n",
    "print(validation_monthly.index.min())\n",
    "print(validation_monthly.index.max())"
   ]
  },
  {
   "cell_type": "code",
   "execution_count": 404,
   "metadata": {},
   "outputs": [],
   "source": [
    "#Make predictions for the validation set\n",
    "arima_validation = arima_model_fit.predict(start=validation_monthly.index[0], end=validation_monthly.index[-1])\n",
    "sarima_validation = sarima_model_fit.predict(start=validation_monthly.index[0], end=validation_monthly.index[-1])\n",
    "sarimax_validation = sarimax_model_fit.predict(start=validation_monthly.index[0], end=validation_monthly.index[-1], exog=validation_exog, disp=-1)"
   ]
  },
  {
   "attachments": {},
   "cell_type": "markdown",
   "metadata": {},
   "source": [
    "Since the ARIMA model predicts using the differenced data we need to reconctruct the forecast. This implies gathering the values from January to May 2022 from the original DataFrame, the next codeblock does some data wrangling to perform the reconstruction. "
   ]
  },
  {
   "cell_type": "code",
   "execution_count": 405,
   "metadata": {},
   "outputs": [
    {
     "data": {
      "text/plain": [
       "DatetimeIndex(['2023-01-01', '2023-02-01', '2023-03-01', '2023-04-01',\n",
       "               '2023-05-01'],\n",
       "              dtype='datetime64[ns]', name='settlement_date', freq='MS')"
      ]
     },
     "execution_count": 405,
     "metadata": {},
     "output_type": "execute_result"
    }
   ],
   "source": [
    "#Select original df months to reconstruct\n",
    "reconstruct_dates = ['2022-01-01', '2022-02-01', '2022-03-01', '2022-04-01', '2022-05-01']\n",
    "#Include data from original df\n",
    "reconstruct_values = df_monthly.loc[reconstruct_dates, 'nd']\n",
    "#Make index datetime\n",
    "reconstruct_values.index = pd.to_datetime(reconstruct_values.index).strftime(\"2023-%m-%d\")\n",
    "#Homogenize index \n",
    "reconstruct_values = reconstruct_values.to_frame().set_index(pd.to_datetime(reconstruct_values.index))\n",
    "#Set index frequency\n",
    "reconstruct_values = reconstruct_values.asfreq('MS')\n",
    "#Check index\n",
    "reconstruct_values.index"
   ]
  },
  {
   "cell_type": "code",
   "execution_count": 406,
   "metadata": {},
   "outputs": [
    {
     "data": {
      "text/html": [
       "<div>\n",
       "<style scoped>\n",
       "    .dataframe tbody tr th:only-of-type {\n",
       "        vertical-align: middle;\n",
       "    }\n",
       "\n",
       "    .dataframe tbody tr th {\n",
       "        vertical-align: top;\n",
       "    }\n",
       "\n",
       "    .dataframe thead th {\n",
       "        text-align: right;\n",
       "    }\n",
       "</style>\n",
       "<table border=\"1\" class=\"dataframe\">\n",
       "  <thead>\n",
       "    <tr style=\"text-align: right;\">\n",
       "      <th></th>\n",
       "      <th>nd</th>\n",
       "    </tr>\n",
       "    <tr>\n",
       "      <th>settlement_date</th>\n",
       "      <th></th>\n",
       "    </tr>\n",
       "  </thead>\n",
       "  <tbody>\n",
       "    <tr>\n",
       "      <th>2023-01-01</th>\n",
       "      <td>48750749</td>\n",
       "    </tr>\n",
       "    <tr>\n",
       "      <th>2023-02-01</th>\n",
       "      <td>40887505</td>\n",
       "    </tr>\n",
       "    <tr>\n",
       "      <th>2023-03-01</th>\n",
       "      <td>43485339</td>\n",
       "    </tr>\n",
       "    <tr>\n",
       "      <th>2023-04-01</th>\n",
       "      <td>37399615</td>\n",
       "    </tr>\n",
       "    <tr>\n",
       "      <th>2023-05-01</th>\n",
       "      <td>35482844</td>\n",
       "    </tr>\n",
       "  </tbody>\n",
       "</table>\n",
       "</div>"
      ],
      "text/plain": [
       "                       nd\n",
       "settlement_date          \n",
       "2023-01-01       48750749\n",
       "2023-02-01       40887505\n",
       "2023-03-01       43485339\n",
       "2023-04-01       37399615\n",
       "2023-05-01       35482844"
      ]
     },
     "execution_count": 406,
     "metadata": {},
     "output_type": "execute_result"
    }
   ],
   "source": [
    "#Check reconstructed values\n",
    "reconstruct_values"
   ]
  },
  {
   "cell_type": "code",
   "execution_count": 407,
   "metadata": {},
   "outputs": [
    {
     "data": {
      "text/plain": [
       "2023-01-01    4.831321e+07\n",
       "2023-02-01    3.985419e+07\n",
       "2023-03-01    4.179291e+07\n",
       "2023-04-01    3.660460e+07\n",
       "2023-05-01    3.489634e+07\n",
       "Freq: MS, dtype: float64"
      ]
     },
     "execution_count": 407,
     "metadata": {},
     "output_type": "execute_result"
    }
   ],
   "source": [
    "#Recontruct sarima validation by adding reconstruct values to the ARIMA prediction\n",
    "arima_validation = arima_validation + reconstruct_values.iloc[:, 0]\n",
    "\n",
    "#Check df\n",
    "arima_validation"
   ]
  },
  {
   "cell_type": "code",
   "execution_count": 408,
   "metadata": {},
   "outputs": [
    {
     "data": {
      "image/png": "[encoded data removed]",
      "text/plain": [
       "<Figure size 1000x500 with 1 Axes>"
      ]
     },
     "metadata": {},
     "output_type": "display_data"
    }
   ],
   "source": [
    "#Plot validation predictions\n",
    "plt.figure(figsize=(10, 5))\n",
    "plt.plot(arima_validation, label='ARIMA')\n",
    "plt.plot(sarima_validation, label='SARIMA')\n",
    "plt.plot(sarimax_validation, label='SARIMAX')\n",
    "plt.plot(validation_monthly['ND'], label='Actual', linestyle='--')\n",
    "\n",
    "plt.legend(loc='center left', bbox_to_anchor=(1, 0.5))\n",
    "\n",
    "plt.title('ND Validation')\n",
    "plt.xlabel('Date')\n",
    "plt.ylabel('ND')\n",
    "sns.despine()\n",
    "\n",
    "date_formatter = mdates.DateFormatter('%d-%b')\n",
    "plt.gca().xaxis.set_major_formatter(date_formatter)\n",
    "\n",
    "plt.show()"
   ]
  },
  {
   "attachments": {},
   "cell_type": "markdown",
   "metadata": {},
   "source": [
    "Something if off with the SARIMAX predictions, probably it is related to the pickle file. Tried a bunch of solutions and opted to rerun the SARIMAX model in the current folder. "
   ]
  },
  {
   "attachments": {},
   "cell_type": "markdown",
   "metadata": {},
   "source": [
    "## **Sarimax reconstruction**"
   ]
  },
  {
   "cell_type": "code",
   "execution_count": 409,
   "metadata": {},
   "outputs": [],
   "source": [
    "#Set parameters\n",
    "p, d, q = 3, 1, 2\n",
    "P, D, Q, s = 0, 1, 3, 12"
   ]
  },
  {
   "cell_type": "code",
   "execution_count": 410,
   "metadata": {},
   "outputs": [],
   "source": [
    "#Create train for fitting\n",
    "train_2 = df_monthly.loc[df_monthly.index <= \"2020-02-28\", 'nd']\n",
    "train_2.index = pd.to_datetime(train_2.index)\n",
    "train_2 = train_2.asfreq('MS')\n",
    "train_2 = train_2.reindex(pd.date_range(start=train_2.index.min(), end=train_2.index.max(), freq='MS', normalize=True))"
   ]
  },
  {
   "cell_type": "code",
   "execution_count": 411,
   "metadata": {},
   "outputs": [],
   "source": [
    "#Make sure all indexes match \n",
    "df_monthly = df_monthly.asfreq('MS')\n",
    "validation.index = pd.to_datetime(validation.index)\n",
    "validation = validation.asfreq('MS')\n",
    "exog_variables = exog_variables.asfreq('MS')\n",
    "validation_exog.index = pd.to_datetime(validation_exog.index)\n",
    "validation_exog = validation_exog.asfreq('MS')"
   ]
  },
  {
   "cell_type": "code",
   "execution_count": 412,
   "metadata": {},
   "outputs": [
    {
     "name": "stdout",
     "output_type": "stream",
     "text": [
      "                                         SARIMAX Results                                          \n",
      "==================================================================================================\n",
      "Dep. Variable:                                         nd   No. Observations:                  134\n",
      "Model:             SARIMAX(3, 1, 2)x(0, 1, [1, 2, 3], 12)   Log Likelihood               -1923.246\n",
      "Date:                                    Sun, 25 Jun 2023   AIC                           3868.492\n",
      "Time:                                            13:51:07   BIC                           3899.246\n",
      "Sample:                                        01-01-2009   HQIC                          3880.982\n",
      "                                             - 02-01-2020                                         \n",
      "Covariance Type:                                      opg                                         \n",
      "=================================================================================\n",
      "                    coef    std err          z      P>|z|      [0.025      0.975]\n",
      "---------------------------------------------------------------------------------\n",
      "import_export    -0.2812      0.181     -1.550      0.121      -0.637       0.074\n",
      "temp          -7.227e+05   4.51e-08   -1.6e+13      0.000   -7.23e+05   -7.23e+05\n",
      "ar.L1            -1.5715      0.032    -49.539      0.000      -1.634      -1.509\n",
      "ar.L2            -1.0556      0.040    -26.531      0.000      -1.134      -0.978\n",
      "ar.L3            -0.0862      0.028     -3.122      0.002      -0.140      -0.032\n",
      "ma.L1             1.5312      0.020     78.057      0.000       1.493       1.570\n",
      "ma.L2             0.9679      0.017     55.930      0.000       0.934       1.002\n",
      "ma.S.L12         -0.1597      0.051     -3.108      0.002      -0.260      -0.059\n",
      "ma.S.L24         -0.1774      0.036     -4.883      0.000      -0.249      -0.106\n",
      "ma.S.L36         -0.0631      0.018     -3.518      0.000      -0.098      -0.028\n",
      "sigma2         3.226e+12   3.69e-14   8.74e+25      0.000    3.23e+12    3.23e+12\n",
      "===================================================================================\n",
      "Ljung-Box (L1) (Q):                   6.73   Jarque-Bera (JB):                27.88\n",
      "Prob(Q):                              0.01   Prob(JB):                         0.00\n",
      "Heteroskedasticity (H):               0.28   Skew:                             0.54\n",
      "Prob(H) (two-sided):                  0.00   Kurtosis:                         5.09\n",
      "===================================================================================\n",
      "\n",
      "Warnings:\n",
      "[1] Covariance matrix calculated using the outer product of gradients (complex-step).\n",
      "[2] Covariance matrix is singular or near-singular, with condition number 1.86e+40. Standard errors may be unstable.\n"
     ]
    }
   ],
   "source": [
    "#Fit model\n",
    "exog_variables_fit = df_monthly.loc[train_2.index, ['import_export',  'temp']] \n",
    "\n",
    "order = (p, d, q)\n",
    "seasonal_order = (P, D, Q, s) \n",
    "\n",
    "model = SARIMAX(endog=train_2, exog=exog_variables_fit, order=order, seasonal_order=seasonal_order)\n",
    "model_fit = model.fit()\n",
    "\n",
    "print(model_fit.summary())"
   ]
  },
  {
   "cell_type": "code",
   "execution_count": 413,
   "metadata": {},
   "outputs": [],
   "source": [
    "# Make predictions\n",
    "validation_sarimax_predictions = model_fit.predict(start=validation_monthly.index[0], end=validation_monthly.index[-1], exog=validation_exog, disp=-1)"
   ]
  },
  {
   "cell_type": "code",
   "execution_count": 414,
   "metadata": {},
   "outputs": [
    {
     "data": {
      "text/plain": [
       "[<matplotlib.lines.Line2D at 0x205bf7729a0>]"
      ]
     },
     "execution_count": 414,
     "metadata": {},
     "output_type": "execute_result"
    },
    {
     "data": {
      "image/png": "[encoded data removed]",
      "text/plain": [
       "<Figure size 640x480 with 1 Axes>"
      ]
     },
     "metadata": {},
     "output_type": "display_data"
    }
   ],
   "source": [
    "#Check predictions\n",
    "plt.plot(df_monthly['SARIMAX_predict'])\n",
    "plt.plot(df_monthly['nd'])\n",
    "plt.plot(validation_sarimax_predictions)"
   ]
  },
  {
   "cell_type": "code",
   "execution_count": 415,
   "metadata": {},
   "outputs": [
    {
     "data": {
      "image/png": "[encoded data removed]",
      "text/plain": [
       "<Figure size 1000x500 with 1 Axes>"
      ]
     },
     "metadata": {},
     "output_type": "display_data"
    }
   ],
   "source": [
    "plt.figure(figsize=(10, 5))\n",
    "plt.plot(arima_validation, label='ARIMA')\n",
    "plt.plot(sarima_validation, label='SARIMA')\n",
    "plt.plot(validation_sarimax_predictions, label='SARIMAX')\n",
    "plt.plot(validation_monthly['ND'], label='Actual', linestyle='--')\n",
    "\n",
    "plt.legend(loc='center left', bbox_to_anchor=(1, 0.5))\n",
    "\n",
    "plt.title('ND Validation')\n",
    "plt.xlabel('Date')\n",
    "plt.ylabel('ND')\n",
    "sns.despine()\n",
    "\n",
    "# Format x-axis labels to display only day and month\n",
    "date_formatter = mdates.DateFormatter('%d-%b')\n",
    "plt.gca().xaxis.set_major_formatter(date_formatter)\n",
    "\n",
    "plt.show()\n"
   ]
  },
  {
   "cell_type": "code",
   "execution_count": 416,
   "metadata": {},
   "outputs": [
    {
     "data": {
      "text/html": [
       "<div>\n",
       "<style scoped>\n",
       "    .dataframe tbody tr th:only-of-type {\n",
       "        vertical-align: middle;\n",
       "    }\n",
       "\n",
       "    .dataframe tbody tr th {\n",
       "        vertical-align: top;\n",
       "    }\n",
       "\n",
       "    .dataframe thead th {\n",
       "        text-align: right;\n",
       "    }\n",
       "</style>\n",
       "<table border=\"1\" class=\"dataframe\">\n",
       "  <thead>\n",
       "    <tr style=\"text-align: right;\">\n",
       "      <th></th>\n",
       "      <th>model</th>\n",
       "      <th>Train_MAPE</th>\n",
       "      <th>Test_MAPE</th>\n",
       "      <th>Train_MAE</th>\n",
       "      <th>Test_MAE</th>\n",
       "      <th>Validation_MAPE</th>\n",
       "      <th>Validation_MAE</th>\n",
       "    </tr>\n",
       "  </thead>\n",
       "  <tbody>\n",
       "    <tr>\n",
       "      <th>0</th>\n",
       "      <td>Simple_Mean</td>\n",
       "      <td>3.957661</td>\n",
       "      <td>5.488195</td>\n",
       "      <td>1.867551e+06</td>\n",
       "      <td>2.126467e+06</td>\n",
       "      <td>0</td>\n",
       "      <td>0</td>\n",
       "    </tr>\n",
       "    <tr>\n",
       "      <th>1</th>\n",
       "      <td>Rolling_AVG</td>\n",
       "      <td>5.310872</td>\n",
       "      <td>5.135859</td>\n",
       "      <td>2.520438e+06</td>\n",
       "      <td>2.122838e+06</td>\n",
       "      <td>0</td>\n",
       "      <td>0</td>\n",
       "    </tr>\n",
       "    <tr>\n",
       "      <th>2</th>\n",
       "      <td>ARIMA(4,0,2)</td>\n",
       "      <td>12.243213</td>\n",
       "      <td>5.152527</td>\n",
       "      <td>6.198869e+06</td>\n",
       "      <td>1.990700e+06</td>\n",
       "      <td>0</td>\n",
       "      <td>0</td>\n",
       "    </tr>\n",
       "    <tr>\n",
       "      <th>3</th>\n",
       "      <td>SARIMA(3,1,2)x(0,1,3,12)</td>\n",
       "      <td>4.567475</td>\n",
       "      <td>7.047027</td>\n",
       "      <td>2.184182e+06</td>\n",
       "      <td>2.740520e+06</td>\n",
       "      <td>0</td>\n",
       "      <td>0</td>\n",
       "    </tr>\n",
       "    <tr>\n",
       "      <th>4</th>\n",
       "      <td>SARIMAX(3,1,2)x(0,1,3,12)</td>\n",
       "      <td>3.431899</td>\n",
       "      <td>3.730760</td>\n",
       "      <td>1.608049e+06</td>\n",
       "      <td>1.417350e+06</td>\n",
       "      <td>0</td>\n",
       "      <td>0</td>\n",
       "    </tr>\n",
       "  </tbody>\n",
       "</table>\n",
       "</div>"
      ],
      "text/plain": [
       "                       model  Train_MAPE  Test_MAPE     Train_MAE  \\\n",
       "0                Simple_Mean    3.957661   5.488195  1.867551e+06   \n",
       "1                Rolling_AVG    5.310872   5.135859  2.520438e+06   \n",
       "2               ARIMA(4,0,2)   12.243213   5.152527  6.198869e+06   \n",
       "3   SARIMA(3,1,2)x(0,1,3,12)    4.567475   7.047027  2.184182e+06   \n",
       "4  SARIMAX(3,1,2)x(0,1,3,12)    3.431899   3.730760  1.608049e+06   \n",
       "\n",
       "       Test_MAE  Validation_MAPE  Validation_MAE  \n",
       "0  2.126467e+06                0               0  \n",
       "1  2.122838e+06                0               0  \n",
       "2  1.990700e+06                0               0  \n",
       "3  2.740520e+06                0               0  \n",
       "4  1.417350e+06                0               0  "
      ]
     },
     "execution_count": 416,
     "metadata": {},
     "output_type": "execute_result"
    }
   ],
   "source": [
    "#Save results\n",
    "results['Validation_MAPE'] = 0\n",
    "results['Validation_MAE'] = 0\n",
    "\n",
    "results"
   ]
  },
  {
   "cell_type": "code",
   "execution_count": 417,
   "metadata": {},
   "outputs": [
    {
     "name": "stdout",
     "output_type": "stream",
     "text": [
      "ARIMA Validation MAPE: 6.72\n",
      "ARIMA Validation MAE: 2202055\n",
      "SARIMA Validation MAPE: 22.02\n",
      "SARIMA Validation MAE: 7859852\n",
      "SARIMAX Validation MAPE: 5.14\n",
      "SARIMAX Validation MAE: 1591380\n"
     ]
    }
   ],
   "source": [
    "ARIMA_validation_mape = mean_absolute_percentage_error(validation_monthly['ND'], arima_validation)\n",
    "ARIMA_validation_mae = mean_absolute_error(validation_monthly['ND'], arima_validation)\n",
    "SARIMA_validation_mape = mean_absolute_percentage_error(validation_monthly['ND'], sarima_validation)\n",
    "SARIMA_validation_mae = mean_absolute_error(validation_monthly['ND'], sarima_validation)\n",
    "SARIMAX_validation_mape = mean_absolute_percentage_error(validation_monthly['ND'], validation_sarimax_predictions)\n",
    "SARIMAX_validation_mae = mean_absolute_error(validation_monthly['ND'], validation_sarimax_predictions)\n",
    "\n",
    "#Print results\n",
    "print(f\"ARIMA Validation MAPE: {round(ARIMA_validation_mape,2)}\")\n",
    "print(f\"ARIMA Validation MAE: {round(ARIMA_validation_mae)}\")\n",
    "print(f\"SARIMA Validation MAPE: {round(SARIMA_validation_mape,2)}\")\n",
    "print(f\"SARIMA Validation MAE: {round(SARIMA_validation_mae)}\")\n",
    "print(f\"SARIMAX Validation MAPE: {round(SARIMAX_validation_mape,2)}\")\n",
    "print(f\"SARIMAX Validation MAE: {round(SARIMAX_validation_mae)}\")"
   ]
  },
  {
   "cell_type": "code",
   "execution_count": 418,
   "metadata": {},
   "outputs": [
    {
     "data": {
      "text/html": [
       "<div>\n",
       "<style scoped>\n",
       "    .dataframe tbody tr th:only-of-type {\n",
       "        vertical-align: middle;\n",
       "    }\n",
       "\n",
       "    .dataframe tbody tr th {\n",
       "        vertical-align: top;\n",
       "    }\n",
       "\n",
       "    .dataframe thead th {\n",
       "        text-align: right;\n",
       "    }\n",
       "</style>\n",
       "<table border=\"1\" class=\"dataframe\">\n",
       "  <thead>\n",
       "    <tr style=\"text-align: right;\">\n",
       "      <th></th>\n",
       "      <th>model</th>\n",
       "      <th>Train_MAPE</th>\n",
       "      <th>Test_MAPE</th>\n",
       "      <th>Train_MAE</th>\n",
       "      <th>Test_MAE</th>\n",
       "      <th>Validation_MAPE</th>\n",
       "      <th>Validation_MAE</th>\n",
       "    </tr>\n",
       "  </thead>\n",
       "  <tbody>\n",
       "    <tr>\n",
       "      <th>0</th>\n",
       "      <td>Simple_Mean</td>\n",
       "      <td>3.957661</td>\n",
       "      <td>5.488195</td>\n",
       "      <td>1.867551e+06</td>\n",
       "      <td>2.126467e+06</td>\n",
       "      <td>0.000000</td>\n",
       "      <td>0.000000e+00</td>\n",
       "    </tr>\n",
       "    <tr>\n",
       "      <th>1</th>\n",
       "      <td>Rolling_AVG</td>\n",
       "      <td>5.310872</td>\n",
       "      <td>5.135859</td>\n",
       "      <td>2.520438e+06</td>\n",
       "      <td>2.122838e+06</td>\n",
       "      <td>0.000000</td>\n",
       "      <td>0.000000e+00</td>\n",
       "    </tr>\n",
       "    <tr>\n",
       "      <th>2</th>\n",
       "      <td>ARIMA(4,0,2)</td>\n",
       "      <td>12.243213</td>\n",
       "      <td>5.152527</td>\n",
       "      <td>6.198869e+06</td>\n",
       "      <td>1.990700e+06</td>\n",
       "      <td>6.717612</td>\n",
       "      <td>2.202055e+06</td>\n",
       "    </tr>\n",
       "    <tr>\n",
       "      <th>3</th>\n",
       "      <td>SARIMA(3,1,2)x(0,1,3,12)</td>\n",
       "      <td>4.567475</td>\n",
       "      <td>7.047027</td>\n",
       "      <td>2.184182e+06</td>\n",
       "      <td>2.740520e+06</td>\n",
       "      <td>22.023466</td>\n",
       "      <td>7.859852e+06</td>\n",
       "    </tr>\n",
       "    <tr>\n",
       "      <th>4</th>\n",
       "      <td>SARIMAX(3,1,2)x(0,1,3,12)</td>\n",
       "      <td>3.431899</td>\n",
       "      <td>3.730760</td>\n",
       "      <td>1.608049e+06</td>\n",
       "      <td>1.417350e+06</td>\n",
       "      <td>5.137201</td>\n",
       "      <td>1.591380e+06</td>\n",
       "    </tr>\n",
       "  </tbody>\n",
       "</table>\n",
       "</div>"
      ],
      "text/plain": [
       "                       model  Train_MAPE  Test_MAPE     Train_MAE  \\\n",
       "0                Simple_Mean    3.957661   5.488195  1.867551e+06   \n",
       "1                Rolling_AVG    5.310872   5.135859  2.520438e+06   \n",
       "2               ARIMA(4,0,2)   12.243213   5.152527  6.198869e+06   \n",
       "3   SARIMA(3,1,2)x(0,1,3,12)    4.567475   7.047027  2.184182e+06   \n",
       "4  SARIMAX(3,1,2)x(0,1,3,12)    3.431899   3.730760  1.608049e+06   \n",
       "\n",
       "       Test_MAE  Validation_MAPE  Validation_MAE  \n",
       "0  2.126467e+06         0.000000    0.000000e+00  \n",
       "1  2.122838e+06         0.000000    0.000000e+00  \n",
       "2  1.990700e+06         6.717612    2.202055e+06  \n",
       "3  2.740520e+06        22.023466    7.859852e+06  \n",
       "4  1.417350e+06         5.137201    1.591380e+06  "
      ]
     },
     "execution_count": 418,
     "metadata": {},
     "output_type": "execute_result"
    }
   ],
   "source": [
    "results.loc[results['model'] == 'ARIMA(4,0,2)', 'Validation_MAE'] = ARIMA_validation_mae\n",
    "results.loc[results['model'] == 'ARIMA(4,0,2)', 'Validation_MAPE'] = ARIMA_validation_mape\n",
    "results.loc[results['model'] == 'SARIMA(3,1,2)x(0,1,3,12)', 'Validation_MAE'] = SARIMA_validation_mae\n",
    "results.loc[results['model'] == 'SARIMA(3,1,2)x(0,1,3,12)', 'Validation_MAPE'] = SARIMA_validation_mape\n",
    "results.loc[results['model'] == 'SARIMAX(3,1,2)x(0,1,3,12)', 'Validation_MAE'] = SARIMAX_validation_mae\n",
    "results.loc[results['model'] == 'SARIMAX(3,1,2)x(0,1,3,12)', 'Validation_MAPE'] = SARIMAX_validation_mape\n",
    "\n",
    "results"
   ]
  },
  {
   "attachments": {},
   "cell_type": "markdown",
   "metadata": {},
   "source": [
    "As we can observe from the table above, the performance of the models is not satisfactory. Specifically, we notice that the MAPE value for SARIMAX decreases nearly to the level of the Rolling Average baseline model."
   ]
  },
  {
   "attachments": {},
   "cell_type": "markdown",
   "metadata": {},
   "source": [
    "### **5. Results Plots**"
   ]
  },
  {
   "cell_type": "code",
   "execution_count": 419,
   "metadata": {},
   "outputs": [],
   "source": [
    "full_arima = pd.concat([df_monthly['ARIMA_predict'].reset_index(drop=True),\n",
    "                         arima_validation.reset_index(drop=True)], axis=0)\n",
    "full_arima.index = df_monthly.index.append(validation_monthly.index[:5])\n",
    "\n",
    "full_sarima = pd.concat([df_monthly['SARIMA_predict'].reset_index(drop=True),\n",
    "                         sarima_validation.reset_index(drop=True)], axis=0)\n",
    "full_sarima.index = df_monthly.index.append(validation_monthly.index[:5])\n",
    "full_sarima.drop(full_sarima.index[-5], inplace=True)\n",
    "\n",
    "full_sarimax = pd.concat([df_monthly['SARIMAX_predict'].reset_index(drop=True),\n",
    "                         validation_sarimax_predictions.reset_index(drop=True)], axis=0)\n",
    "full_sarimax.index = df_monthly.index.append(validation_monthly.index[:5])"
   ]
  },
  {
   "cell_type": "code",
   "execution_count": 420,
   "metadata": {},
   "outputs": [
    {
     "data": {
      "image/png": "[encoded data removed]",
      "text/plain": [
       "<Figure size 1000x500 with 1 Axes>"
      ]
     },
     "metadata": {},
     "output_type": "display_data"
    }
   ],
   "source": [
    "plt.figure(figsize=(10,5))\n",
    "plt.plot(df_monthly['nd'], label='Original data', linestyle='--')\n",
    "plt.plot(validation_monthly['ND'], label='Actual')\n",
    "plt.plot(full_arima.replace(0, np.nan), label='ARIMA')\n",
    "plt.plot(full_sarima, label='SARIMA')\n",
    "plt.plot(full_sarimax, label='SARIMAX Val')\n",
    "\n",
    "plt.fill_between(validation_monthly.index, plt.ylim()[0], plt.ylim()[1],\n",
    "                 where=(validation_monthly.index >= validation_monthly.index.min()) &\n",
    "                       (validation_monthly.index <= validation_monthly.index.max()),\n",
    "                 color='lightblue', alpha=0.5, label='Validation')\n",
    "\n",
    "plt.xlim(pd.to_datetime('2022-01-01'), validation_monthly.index.max())\n",
    "\n",
    "plt.title('ND Compiled Predictions')\n",
    "plt.xlabel('Date')\n",
    "plt.ylabel('ND')\n",
    "plt.legend(bbox_to_anchor=(1.05, 1), loc='upper left')\n",
    "sns.despine()\n",
    "plt.show()\n"
   ]
  },
  {
   "cell_type": "code",
   "execution_count": 421,
   "metadata": {},
   "outputs": [
    {
     "data": {
      "image/png": "[encoded data removed]",
      "text/plain": [
       "<Figure size 1000x500 with 1 Axes>"
      ]
     },
     "metadata": {},
     "output_type": "display_data"
    }
   ],
   "source": [
    "plt.figure(figsize=(10, 5))\n",
    "plt.plot(df_monthly['nd'], label='Original data', linestyle='--')\n",
    "plt.plot(validation_monthly['ND'], label='Actual')\n",
    "plt.plot(full_arima.replace(0, np.nan), label='ARIMA')\n",
    "plt.plot(full_sarima, label='SARIMA')\n",
    "plt.plot(full_sarimax, label='SARIMAX Val')\n",
    "\n",
    "plt.fill_between(df_monthly.index, plt.ylim()[0], plt.ylim()[1],\n",
    "                 where=(df_monthly.index >= '2009-01-01') &\n",
    "                       (df_monthly.index <= '2020-05-01'),\n",
    "                 color='lightblue', alpha=0.5, label='Train')\n",
    "\n",
    "plt.fill_between(df_monthly.index, plt.ylim()[0], plt.ylim()[1],\n",
    "                 where=(df_monthly.index >= '2020-06-01') &\n",
    "                       (df_monthly.index <= '2023-01-01'),\n",
    "                 color='lightcoral', alpha=0.5, label='Test')\n",
    "\n",
    "plt.fill_between(validation_monthly.index, plt.ylim()[0], plt.ylim()[1],\n",
    "                 where=(validation_monthly.index >= validation_monthly.index.min()) &\n",
    "                       (validation_monthly.index <= validation_monthly.index.max()),\n",
    "                 color='lightgreen', alpha=0.5, label='Validation')\n",
    "\n",
    "plt.title('Compiled Predictions')\n",
    "plt.xlabel('Date')\n",
    "plt.ylabel('ND')\n",
    "plt.legend(bbox_to_anchor=(1.05, 1), loc='upper left')\n",
    "sns.despine()\n",
    "plt.show()"
   ]
  },
  {
   "cell_type": "code",
   "execution_count": 422,
   "metadata": {},
   "outputs": [
    {
     "data": {
      "application/vnd.plotly.v1+json": {
       "config": {
        "plotlyServerURL": "https://plot.ly"
       },
       "data": [
        {
         "line": {
          "dash": "dash"
         },
         "mode": "lines",
         "name": "Original data",
         "type": "scatter",
         "x": [
          "2009-01-01T00:00:00",
          "2009-02-01T00:00:00",
          "2009-03-01T00:00:00",
          "2009-04-01T00:00:00",
          "2009-05-01T00:00:00",
          "2009-06-01T00:00:00",
          "2009-07-01T00:00:00",
          "2009-08-01T00:00:00",
          "2009-09-01T00:00:00",
          "2009-10-01T00:00:00",
          "2009-11-01T00:00:00",
          "2009-12-01T00:00:00",
          "2010-01-01T00:00:00",
          "2010-02-01T00:00:00",
          "2010-03-01T00:00:00",
          "2010-04-01T00:00:00",
          "2010-05-01T00:00:00",
          "2010-06-01T00:00:00",
          "2010-07-01T00:00:00",
          "2010-08-01T00:00:00",
          "2010-09-01T00:00:00",
          "2010-10-01T00:00:00",
          "2010-11-01T00:00:00",
          "2010-12-01T00:00:00",
          "2011-01-01T00:00:00",
          "2011-02-01T00:00:00",
          "2011-03-01T00:00:00",
          "2011-04-01T00:00:00",
          "2011-05-01T00:00:00",
          "2011-06-01T00:00:00",
          "2011-07-01T00:00:00",
          "2011-08-01T00:00:00",
          "2011-09-01T00:00:00",
          "2011-10-01T00:00:00",
          "2011-11-01T00:00:00",
          "2011-12-01T00:00:00",
          "2012-01-01T00:00:00",
          "2012-02-01T00:00:00",
          "2012-03-01T00:00:00",
          "2012-04-01T00:00:00",
          "2012-05-01T00:00:00",
          "2012-06-01T00:00:00",
          "2012-07-01T00:00:00",
          "2012-08-01T00:00:00",
          "2012-09-01T00:00:00",
          "2012-10-01T00:00:00",
          "2012-11-01T00:00:00",
          "2012-12-01T00:00:00",
          "2013-01-01T00:00:00",
          "2013-02-01T00:00:00",
          "2013-03-01T00:00:00",
          "2013-04-01T00:00:00",
          "2013-05-01T00:00:00",
          "2013-06-01T00:00:00",
          "2013-07-01T00:00:00",
          "2013-08-01T00:00:00",
          "2013-09-01T00:00:00",
          "2013-10-01T00:00:00",
          "2013-11-01T00:00:00",
          "2013-12-01T00:00:00",
          "2014-01-01T00:00:00",
          "2014-02-01T00:00:00",
          "2014-03-01T00:00:00",
          "2014-04-01T00:00:00",
          "2014-05-01T00:00:00",
          "2014-06-01T00:00:00",
          "2014-07-01T00:00:00",
          "2014-08-01T00:00:00",
          "2014-09-01T00:00:00",
          "2014-10-01T00:00:00",
          "2014-11-01T00:00:00",
          "2014-12-01T00:00:00",
          "2015-01-01T00:00:00",
          "2015-02-01T00:00:00",
          "2015-03-01T00:00:00",
          "2015-04-01T00:00:00",
          "2015-05-01T00:00:00",
          "2015-06-01T00:00:00",
          "2015-07-01T00:00:00",
          "2015-08-01T00:00:00",
          "2015-09-01T00:00:00",
          "2015-10-01T00:00:00",
          "2015-11-01T00:00:00",
          "2015-12-01T00:00:00",
          "2016-01-01T00:00:00",
          "2016-02-01T00:00:00",
          "2016-03-01T00:00:00",
          "2016-04-01T00:00:00",
          "2016-05-01T00:00:00",
          "2016-06-01T00:00:00",
          "2016-07-01T00:00:00",
          "2016-08-01T00:00:00",
          "2016-09-01T00:00:00",
          "2016-10-01T00:00:00",
          "2016-11-01T00:00:00",
          "2016-12-01T00:00:00",
          "2017-01-01T00:00:00",
          "2017-02-01T00:00:00",
          "2017-03-01T00:00:00",
          "2017-04-01T00:00:00",
          "2017-05-01T00:00:00",
          "2017-06-01T00:00:00",
          "2017-07-01T00:00:00",
          "2017-08-01T00:00:00",
          "2017-09-01T00:00:00",
          "2017-10-01T00:00:00",
          "2017-11-01T00:00:00",
          "2017-12-01T00:00:00",
          "2018-01-01T00:00:00",
          "2018-02-01T00:00:00",
          "2018-03-01T00:00:00",
          "2018-04-01T00:00:00",
          "2018-05-01T00:00:00",
          "2018-06-01T00:00:00",
          "2018-07-01T00:00:00",
          "2018-08-01T00:00:00",
          "2018-09-01T00:00:00",
          "2018-10-01T00:00:00",
          "2018-11-01T00:00:00",
          "2018-12-01T00:00:00",
          "2019-01-01T00:00:00",
          "2019-02-01T00:00:00",
          "2019-03-01T00:00:00",
          "2019-04-01T00:00:00",
          "2019-05-01T00:00:00",
          "2019-06-01T00:00:00",
          "2019-07-01T00:00:00",
          "2019-08-01T00:00:00",
          "2019-09-01T00:00:00",
          "2019-10-01T00:00:00",
          "2019-11-01T00:00:00",
          "2019-12-01T00:00:00",
          "2020-01-01T00:00:00",
          "2020-02-01T00:00:00",
          "2020-03-01T00:00:00",
          "2020-04-01T00:00:00",
          "2020-05-01T00:00:00",
          "2020-06-01T00:00:00",
          "2020-07-01T00:00:00",
          "2020-08-01T00:00:00",
          "2020-09-01T00:00:00",
          "2020-10-01T00:00:00",
          "2020-11-01T00:00:00",
          "2020-12-01T00:00:00",
          "2021-01-01T00:00:00",
          "2021-02-01T00:00:00",
          "2021-03-01T00:00:00",
          "2021-04-01T00:00:00",
          "2021-05-01T00:00:00",
          "2021-06-01T00:00:00",
          "2021-07-01T00:00:00",
          "2021-08-01T00:00:00",
          "2021-09-01T00:00:00",
          "2021-10-01T00:00:00",
          "2021-11-01T00:00:00",
          "2021-12-01T00:00:00",
          "2022-01-01T00:00:00",
          "2022-02-01T00:00:00",
          "2022-03-01T00:00:00",
          "2022-04-01T00:00:00",
          "2022-05-01T00:00:00",
          "2022-06-01T00:00:00",
          "2022-07-01T00:00:00",
          "2022-08-01T00:00:00",
          "2022-09-01T00:00:00",
          "2022-10-01T00:00:00",
          "2022-11-01T00:00:00",
          "2022-12-01T00:00:00",
          "2023-01-01T00:00:00"
         ],
         "y": [
          63238939,
          56073378,
          56519297,
          49311414,
          48437067,
          46910239,
          47750290,
          44152379,
          47440693,
          52115303,
          54093698,
          60551173,
          64167310,
          56810859,
          57720117,
          49843401,
          49267906,
          46469076,
          41082668,
          46202635,
          47584793,
          52366772,
          57182171,
          65015253,
          61790379,
          53644216,
          57306664,
          47343169,
          47616967,
          46441343,
          46651651,
          46893473,
          47041036,
          50420571,
          53439942,
          57182751,
          58529550,
          56600669,
          54160394,
          50360860,
          45012383,
          37942572,
          46523796,
          46157090,
          45947678,
          50672607,
          54854456,
          57682111,
          60099477,
          54304507,
          58919512,
          50873471,
          47331396,
          43812482,
          46182636,
          44914183,
          46115329,
          49759205,
          54033925,
          54780364,
          56938567,
          50410462,
          52285357,
          46387747,
          45609379,
          43056174,
          44616033,
          42917349,
          44813163,
          48174467,
          51361477,
          54507001,
          56502651,
          51752075,
          52488423,
          44704741,
          43401232,
          41324661,
          42305466,
          41901431,
          43196548,
          48320356,
          49273128,
          49330271,
          53601499,
          50030041,
          51102820,
          45072200,
          41478741,
          40675719,
          40215489,
          39768390,
          40662704,
          45858872,
          51092477,
          51592116,
          55131010,
          47131807,
          47685341,
          40975090,
          41074795,
          38040443,
          39067573,
          38893015,
          40287901,
          43429369,
          48603197,
          51766994,
          52634987,
          48286028,
          51614942,
          42945942,
          39446201,
          37451434,
          39468092,
          39003511,
          38666592,
          43933709,
          47395074,
          49024904,
          52732565,
          44509351,
          45440394,
          41082911,
          39777537,
          36926996,
          38304781,
          36783065,
          37548190,
          44288889,
          48517382,
          48382003,
          48814724,
          44418085,
          44080225,
          33159717,
          32156997,
          32651976,
          34744843,
          36152153,
          36758572,
          42804754,
          43337544,
          47962550,
          50260890,
          42792431,
          43914875,
          39664785,
          39310758,
          35989873,
          37287228,
          36797492,
          37446180,
          40560727,
          44898882,
          47642643,
          48750749,
          40887505,
          43485339,
          37399615,
          35482844,
          32909402,
          34644371,
          34719352,
          34708171,
          36760075,
          40300587,
          46331575,
          45692038
         ]
        },
        {
         "mode": "lines",
         "name": "Validation",
         "type": "scatter",
         "x": [
          "2023-01-01T00:00:00",
          "2023-02-01T00:00:00",
          "2023-03-01T00:00:00",
          "2023-04-01T00:00:00",
          "2023-05-01T00:00:00"
         ],
         "y": [
          45692038,
          39747240,
          43182167,
          36750722,
          28149577
         ]
        },
        {
         "mode": "lines",
         "name": "ARIMA",
         "type": "scatter",
         "x": [
          "2009-01-01T00:00:00",
          "2009-02-01T00:00:00",
          "2009-03-01T00:00:00",
          "2009-04-01T00:00:00",
          "2009-05-01T00:00:00",
          "2009-06-01T00:00:00",
          "2009-07-01T00:00:00",
          "2009-08-01T00:00:00",
          "2009-09-01T00:00:00",
          "2009-10-01T00:00:00",
          "2009-11-01T00:00:00",
          "2009-12-01T00:00:00",
          "2010-01-01T00:00:00",
          "2010-02-01T00:00:00",
          "2010-03-01T00:00:00",
          "2010-04-01T00:00:00",
          "2010-05-01T00:00:00",
          "2010-06-01T00:00:00",
          "2010-07-01T00:00:00",
          "2010-08-01T00:00:00",
          "2010-09-01T00:00:00",
          "2010-10-01T00:00:00",
          "2010-11-01T00:00:00",
          "2010-12-01T00:00:00",
          "2011-01-01T00:00:00",
          "2011-02-01T00:00:00",
          "2011-03-01T00:00:00",
          "2011-04-01T00:00:00",
          "2011-05-01T00:00:00",
          "2011-06-01T00:00:00",
          "2011-07-01T00:00:00",
          "2011-08-01T00:00:00",
          "2011-09-01T00:00:00",
          "2011-10-01T00:00:00",
          "2011-11-01T00:00:00",
          "2011-12-01T00:00:00",
          "2012-01-01T00:00:00",
          "2012-02-01T00:00:00",
          "2012-03-01T00:00:00",
          "2012-04-01T00:00:00",
          "2012-05-01T00:00:00",
          "2012-06-01T00:00:00",
          "2012-07-01T00:00:00",
          "2012-08-01T00:00:00",
          "2012-09-01T00:00:00",
          "2012-10-01T00:00:00",
          "2012-11-01T00:00:00",
          "2012-12-01T00:00:00",
          "2013-01-01T00:00:00",
          "2013-02-01T00:00:00",
          "2013-03-01T00:00:00",
          "2013-04-01T00:00:00",
          "2013-05-01T00:00:00",
          "2013-06-01T00:00:00",
          "2013-07-01T00:00:00",
          "2013-08-01T00:00:00",
          "2013-09-01T00:00:00",
          "2013-10-01T00:00:00",
          "2013-11-01T00:00:00",
          "2013-12-01T00:00:00",
          "2014-01-01T00:00:00",
          "2014-02-01T00:00:00",
          "2014-03-01T00:00:00",
          "2014-04-01T00:00:00",
          "2014-05-01T00:00:00",
          "2014-06-01T00:00:00",
          "2014-07-01T00:00:00",
          "2014-08-01T00:00:00",
          "2014-09-01T00:00:00",
          "2014-10-01T00:00:00",
          "2014-11-01T00:00:00",
          "2014-12-01T00:00:00",
          "2015-01-01T00:00:00",
          "2015-02-01T00:00:00",
          "2015-03-01T00:00:00",
          "2015-04-01T00:00:00",
          "2015-05-01T00:00:00",
          "2015-06-01T00:00:00",
          "2015-07-01T00:00:00",
          "2015-08-01T00:00:00",
          "2015-09-01T00:00:00",
          "2015-10-01T00:00:00",
          "2015-11-01T00:00:00",
          "2015-12-01T00:00:00",
          "2016-01-01T00:00:00",
          "2016-02-01T00:00:00",
          "2016-03-01T00:00:00",
          "2016-04-01T00:00:00",
          "2016-05-01T00:00:00",
          "2016-06-01T00:00:00",
          "2016-07-01T00:00:00",
          "2016-08-01T00:00:00",
          "2016-09-01T00:00:00",
          "2016-10-01T00:00:00",
          "2016-11-01T00:00:00",
          "2016-12-01T00:00:00",
          "2017-01-01T00:00:00",
          "2017-02-01T00:00:00",
          "2017-03-01T00:00:00",
          "2017-04-01T00:00:00",
          "2017-05-01T00:00:00",
          "2017-06-01T00:00:00",
          "2017-07-01T00:00:00",
          "2017-08-01T00:00:00",
          "2017-09-01T00:00:00",
          "2017-10-01T00:00:00",
          "2017-11-01T00:00:00",
          "2017-12-01T00:00:00",
          "2018-01-01T00:00:00",
          "2018-02-01T00:00:00",
          "2018-03-01T00:00:00",
          "2018-04-01T00:00:00",
          "2018-05-01T00:00:00",
          "2018-06-01T00:00:00",
          "2018-07-01T00:00:00",
          "2018-08-01T00:00:00",
          "2018-09-01T00:00:00",
          "2018-10-01T00:00:00",
          "2018-11-01T00:00:00",
          "2018-12-01T00:00:00",
          "2019-01-01T00:00:00",
          "2019-02-01T00:00:00",
          "2019-03-01T00:00:00",
          "2019-04-01T00:00:00",
          "2019-05-01T00:00:00",
          "2019-06-01T00:00:00",
          "2019-07-01T00:00:00",
          "2019-08-01T00:00:00",
          "2019-09-01T00:00:00",
          "2019-10-01T00:00:00",
          "2019-11-01T00:00:00",
          "2019-12-01T00:00:00",
          "2020-01-01T00:00:00",
          "2020-02-01T00:00:00",
          "2020-03-01T00:00:00",
          "2020-04-01T00:00:00",
          "2020-05-01T00:00:00",
          "2020-06-01T00:00:00",
          "2020-07-01T00:00:00",
          "2020-08-01T00:00:00",
          "2020-09-01T00:00:00",
          "2020-10-01T00:00:00",
          "2020-11-01T00:00:00",
          "2020-12-01T00:00:00",
          "2021-01-01T00:00:00",
          "2021-02-01T00:00:00",
          "2021-03-01T00:00:00",
          "2021-04-01T00:00:00",
          "2021-05-01T00:00:00",
          "2021-06-01T00:00:00",
          "2021-07-01T00:00:00",
          "2021-08-01T00:00:00",
          "2021-09-01T00:00:00",
          "2021-10-01T00:00:00",
          "2021-11-01T00:00:00",
          "2021-12-01T00:00:00",
          "2022-01-01T00:00:00",
          "2022-02-01T00:00:00",
          "2022-03-01T00:00:00",
          "2022-04-01T00:00:00",
          "2022-05-01T00:00:00",
          "2022-06-01T00:00:00",
          "2022-07-01T00:00:00",
          "2022-08-01T00:00:00",
          "2022-09-01T00:00:00",
          "2022-10-01T00:00:00",
          "2022-11-01T00:00:00",
          "2022-12-01T00:00:00",
          "2023-01-01T00:00:00",
          "2023-01-01T00:00:00",
          "2023-02-01T00:00:00",
          "2023-03-01T00:00:00",
          "2023-04-01T00:00:00",
          "2023-05-01T00:00:00"
         ],
         "y": [
          null,
          null,
          null,
          null,
          null,
          null,
          null,
          null,
          null,
          null,
          null,
          null,
          62173236.47199706,
          55653073.64242181,
          55960439.88723971,
          49100332.03623799,
          47813367.297709145,
          46434387.45025951,
          46844967.05757888,
          41178852.02135534,
          47828825.76229104,
          50505970.2042425,
          54208089.18818913,
          61359776.14607804,
          64058329.58172607,
          55203795.45912321,
          57016229.363042176,
          48199026.61158948,
          46880327.76640243,
          46544612.16149209,
          40490711.61833996,
          46290801.219536506,
          47394381.60257179,
          52861472.18740577,
          54580445.07414449,
          62072707.47310921,
          59729765.00483137,
          52191035.22597289,
          56040681.252930015,
          46064674.38656542,
          49913119.72445851,
          42973249.15013481,
          42248737.53279741,
          47943236.61046178,
          45657937.19733755,
          48489326.340794325,
          53556941.78686383,
          57516494.38979395,
          57199371.42477548,
          56363127.38240285,
          53317508.50451457,
          51365539.13212218,
          43503720.00690007,
          38987313.34542117,
          48207115.71144174,
          44362134.78712581,
          45089447.70483204,
          50381507.88490998,
          53364857.424644426,
          56663681.696194,
          58731532.21077878,
          52383976.8580445,
          56392337.86112332,
          48071426.50055801,
          45388855.24608445,
          42050363.40422275,
          45340439.82872624,
          44305233.23041897,
          44420753.1321853,
          48059065.25075739,
          53265717.87494241,
          53524965.76525524,
          55549214.92945916,
          49386739.94006559,
          52955021.91173985,
          45583213.09186179,
          43623219.42808055,
          41906684.0558038,
          43717978.115666986,
          40898652.18954143,
          43634991.07845232,
          47429637.8186594,
          50779582.18110892,
          52492880.588826194,
          54204024.80218886,
          50331418.70060881,
          50678731.59768675,
          43664204.94536219,
          43427311.92257689,
          39604328.72517735,
          41082122.44311286,
          40743177.92982494,
          42020847.40429095,
          46239899.92595253,
          47641145.32271725,
          49854698.2095056,
          53660207.53361601,
          49692516.66686313,
          49442208.31346837,
          43174081.51743198,
          38898247.41917429,
          40041266.16374754,
          38926298.30682667,
          38639859.07085954,
          39206369.07766087,
          45391864.10258023,
          49842263.25929533,
          49553894.40883872,
          54282438.7977853,
          46105067.55120922,
          47644182.28601152,
          40965845.82694238,
          41456453.2689442,
          37435372.24314406,
          37321894.77592387,
          37781946.78469064,
          40795753.85817398,
          42300260.13952287,
          46888122.18384717,
          50867601.09846772,
          52175369.09415189,
          46825210.87589261,
          48592322.08748224,
          41352716.21121881,
          38276598.66699436,
          35500150.61957246,
          39358986.42086079,
          39101715.80154386,
          35858939.53518031,
          42148191.18856612,
          48385647.86136156,
          48948331.27408606,
          50314853.30056406,
          42773536.86544146,
          45910578.82907884,
          38899352.52950665,
          35668353.67190272,
          34515656.8106757,
          36541326.32447722,
          34761267.58070597,
          37084185.53976478,
          43837702.08680773,
          46604246.85911519,
          47145023.51072584,
          48661375.80180768,
          43080019.55002165,
          42258229.99453156,
          32723557.861756176,
          31523466.82372971,
          30765424.5343317,
          33654491.67831327,
          35896903.52091156,
          35326068.017487526,
          41127460.565252416,
          42923581.21560196,
          47177583.71172713,
          48425774.19524535,
          41824605.562552966,
          43550506.68936233,
          38165695.28890888,
          37771727.4511858,
          35574021.40050181,
          36368662.587010205,
          35028632.099259354,
          36576380.22079822,
          40084635.573333286,
          43358297.70931546,
          46232310.65555421,
          48313210.39773087,
          48313210.39773087,
          39854191.74187284,
          41792906.142204925,
          36604597.015648425,
          34896342.04921263
         ]
        },
        {
         "mode": "lines",
         "name": "SARIMA",
         "type": "scatter",
         "x": [
          "2009-01-01T00:00:00",
          "2009-02-01T00:00:00",
          "2009-03-01T00:00:00",
          "2009-04-01T00:00:00",
          "2009-05-01T00:00:00",
          "2009-06-01T00:00:00",
          "2009-07-01T00:00:00",
          "2009-08-01T00:00:00",
          "2009-09-01T00:00:00",
          "2009-10-01T00:00:00",
          "2009-11-01T00:00:00",
          "2009-12-01T00:00:00",
          "2010-01-01T00:00:00",
          "2010-02-01T00:00:00",
          "2010-03-01T00:00:00",
          "2010-04-01T00:00:00",
          "2010-05-01T00:00:00",
          "2010-06-01T00:00:00",
          "2010-07-01T00:00:00",
          "2010-08-01T00:00:00",
          "2010-09-01T00:00:00",
          "2010-10-01T00:00:00",
          "2010-11-01T00:00:00",
          "2010-12-01T00:00:00",
          "2011-01-01T00:00:00",
          "2011-02-01T00:00:00",
          "2011-03-01T00:00:00",
          "2011-04-01T00:00:00",
          "2011-05-01T00:00:00",
          "2011-06-01T00:00:00",
          "2011-07-01T00:00:00",
          "2011-08-01T00:00:00",
          "2011-09-01T00:00:00",
          "2011-10-01T00:00:00",
          "2011-11-01T00:00:00",
          "2011-12-01T00:00:00",
          "2012-01-01T00:00:00",
          "2012-02-01T00:00:00",
          "2012-03-01T00:00:00",
          "2012-04-01T00:00:00",
          "2012-05-01T00:00:00",
          "2012-06-01T00:00:00",
          "2012-07-01T00:00:00",
          "2012-08-01T00:00:00",
          "2012-09-01T00:00:00",
          "2012-10-01T00:00:00",
          "2012-11-01T00:00:00",
          "2012-12-01T00:00:00",
          "2013-01-01T00:00:00",
          "2013-02-01T00:00:00",
          "2013-03-01T00:00:00",
          "2013-04-01T00:00:00",
          "2013-05-01T00:00:00",
          "2013-06-01T00:00:00",
          "2013-07-01T00:00:00",
          "2013-08-01T00:00:00",
          "2013-09-01T00:00:00",
          "2013-10-01T00:00:00",
          "2013-11-01T00:00:00",
          "2013-12-01T00:00:00",
          "2014-01-01T00:00:00",
          "2014-02-01T00:00:00",
          "2014-03-01T00:00:00",
          "2014-04-01T00:00:00",
          "2014-05-01T00:00:00",
          "2014-06-01T00:00:00",
          "2014-07-01T00:00:00",
          "2014-08-01T00:00:00",
          "2014-09-01T00:00:00",
          "2014-10-01T00:00:00",
          "2014-11-01T00:00:00",
          "2014-12-01T00:00:00",
          "2015-01-01T00:00:00",
          "2015-02-01T00:00:00",
          "2015-03-01T00:00:00",
          "2015-04-01T00:00:00",
          "2015-05-01T00:00:00",
          "2015-06-01T00:00:00",
          "2015-07-01T00:00:00",
          "2015-08-01T00:00:00",
          "2015-09-01T00:00:00",
          "2015-10-01T00:00:00",
          "2015-11-01T00:00:00",
          "2015-12-01T00:00:00",
          "2016-01-01T00:00:00",
          "2016-02-01T00:00:00",
          "2016-03-01T00:00:00",
          "2016-04-01T00:00:00",
          "2016-05-01T00:00:00",
          "2016-06-01T00:00:00",
          "2016-07-01T00:00:00",
          "2016-08-01T00:00:00",
          "2016-09-01T00:00:00",
          "2016-10-01T00:00:00",
          "2016-11-01T00:00:00",
          "2016-12-01T00:00:00",
          "2017-01-01T00:00:00",
          "2017-02-01T00:00:00",
          "2017-03-01T00:00:00",
          "2017-04-01T00:00:00",
          "2017-05-01T00:00:00",
          "2017-06-01T00:00:00",
          "2017-07-01T00:00:00",
          "2017-08-01T00:00:00",
          "2017-09-01T00:00:00",
          "2017-10-01T00:00:00",
          "2017-11-01T00:00:00",
          "2017-12-01T00:00:00",
          "2018-01-01T00:00:00",
          "2018-02-01T00:00:00",
          "2018-03-01T00:00:00",
          "2018-04-01T00:00:00",
          "2018-05-01T00:00:00",
          "2018-06-01T00:00:00",
          "2018-07-01T00:00:00",
          "2018-08-01T00:00:00",
          "2018-09-01T00:00:00",
          "2018-10-01T00:00:00",
          "2018-11-01T00:00:00",
          "2018-12-01T00:00:00",
          "2019-01-01T00:00:00",
          "2019-02-01T00:00:00",
          "2019-03-01T00:00:00",
          "2019-04-01T00:00:00",
          "2019-05-01T00:00:00",
          "2019-06-01T00:00:00",
          "2019-07-01T00:00:00",
          "2019-08-01T00:00:00",
          "2019-09-01T00:00:00",
          "2019-10-01T00:00:00",
          "2019-11-01T00:00:00",
          "2019-12-01T00:00:00",
          "2020-01-01T00:00:00",
          "2020-02-01T00:00:00",
          "2020-03-01T00:00:00",
          "2020-04-01T00:00:00",
          "2020-05-01T00:00:00",
          "2020-06-01T00:00:00",
          "2020-07-01T00:00:00",
          "2020-08-01T00:00:00",
          "2020-09-01T00:00:00",
          "2020-10-01T00:00:00",
          "2020-11-01T00:00:00",
          "2020-12-01T00:00:00",
          "2021-01-01T00:00:00",
          "2021-02-01T00:00:00",
          "2021-03-01T00:00:00",
          "2021-04-01T00:00:00",
          "2021-05-01T00:00:00",
          "2021-06-01T00:00:00",
          "2021-07-01T00:00:00",
          "2021-08-01T00:00:00",
          "2021-09-01T00:00:00",
          "2021-10-01T00:00:00",
          "2021-11-01T00:00:00",
          "2021-12-01T00:00:00",
          "2022-01-01T00:00:00",
          "2022-02-01T00:00:00",
          "2022-03-01T00:00:00",
          "2022-04-01T00:00:00",
          "2022-05-01T00:00:00",
          "2022-06-01T00:00:00",
          "2022-07-01T00:00:00",
          "2022-08-01T00:00:00",
          "2022-09-01T00:00:00",
          "2022-10-01T00:00:00",
          "2022-11-01T00:00:00",
          "2022-12-01T00:00:00",
          "2023-02-01T00:00:00",
          "2023-03-01T00:00:00",
          "2023-04-01T00:00:00",
          "2023-05-01T00:00:00"
         ],
         "y": [
          61357528.003485255,
          61357528.003485255,
          54544045.15380776,
          58307818.83408052,
          48618369.08677866,
          48262727.48420364,
          48267578.832565725,
          46015272.55244684,
          45542855.45060968,
          47162688.08448724,
          50967162.14802846,
          55927536.29689138,
          57669417.35859522,
          59411298.42029906,
          59499781.50134181,
          49015250.1698214,
          50639322.73795264,
          48161255.10724282,
          45458597.83237527,
          40597048.91814447,
          47082368.17037398,
          51775114.44284722,
          55411410.029138446,
          61109656.48313493,
          64881100.28679375,
          55035536.10898639,
          54330931.49882817,
          52834709.09505234,
          44837660.32395775,
          47326376.53553812,
          41244201.70342212,
          50123516.27348839,
          49757263.93024928,
          48723591.23102482,
          55338622.21570942,
          59961920.80119619,
          60883410.1532277,
          53421271.304703735,
          58295976.86488835,
          46190470.773140654,
          51446936.1416828,
          42654828.56425704,
          40154760.37264916,
          45422069.13766296,
          45555199.23540964,
          50485265.661763735,
          51408381.29612077,
          58800098.53859541,
          64742513.17216955,
          56333035.34688964,
          54258002.03101973,
          54084582.88013565,
          46403587.72858117,
          43098191.32413844,
          47751565.92235927,
          47624866.6768359,
          45191728.23224369,
          49231707.664604194,
          55172866.425352536,
          56081920.62736177,
          59968081.32523425,
          51428424.82941066,
          53389560.435433805,
          45989219.71219367,
          43198618.25141236,
          43089203.348458365,
          44574008.10060252,
          42646567.594571605,
          45227183.252495855,
          47750116.62484308,
          51284360.18845273,
          54327841.68805702,
          57603048.23697276,
          51187490.301818594,
          53169138.85295275,
          45984910.95897505,
          44993678.712049626,
          40171428.01534345,
          42839389.14044157,
          42027596.77027702,
          42361095.20262042,
          47351601.35508815,
          51068124.56296495,
          52436050.39986215,
          54067650.36242929,
          48044119.50860978,
          51382704.742909566,
          43956653.526976325,
          42572459.56396543,
          40094145.48115823,
          41197669.18976424,
          40120349.30821239,
          41446133.69319655,
          44478124.52015514,
          48165710.064892255,
          51601153.67465331,
          56146133.10886745,
          51813859.65658411,
          47826939.96218655,
          42298252.11477925,
          37997909.21451751,
          39070539.92650116,
          38847540.506052025,
          38077453.717742845,
          39928580.05464663,
          45128327.38276943,
          47773604.1768398,
          50729745.39317597,
          55365704.13195693,
          45093240.98929585,
          49652507.45422945,
          44083899.82574085,
          43222267.99387345,
          36618792.22906289,
          38204616.81581582,
          39896856.93562017,
          39837533.525798105,
          42020774.1740024,
          48489732.60876864,
          49842811.29465455,
          51784437.03025709,
          48308747.054054,
          47190414.134674825,
          38221001.50984291,
          36908888.02432785,
          38093663.43741135,
          38757160.12914725,
          37365959.4082657,
          37453065.06332865,
          42145779.51595436,
          47580625.44030581,
          50371762.20887229,
          52147801.847861,
          41794590.14775994,
          44947407.78887683,
          39113948.04580736,
          32709661.63080115,
          29017001.727723207,
          30310207.02774855,
          29299321.948592424,
          29929984.620199088,
          36135443.06353941,
          40093657.25090695,
          40644512.0073544,
          42215081.52404349,
          37471827.77661941,
          38064737.9656765,
          27882017.280649453,
          26283515.99385269,
          23803497.01999716,
          24748799.658579275,
          24157074.53218712,
          24956495.332394764,
          30042293.42474316,
          34201335.88689204,
          35206050.96760848,
          37643075.62298716,
          32662940.771675237,
          33333810.980190963,
          24936182.779669423,
          23119395.30861837,
          20551745.07168944,
          21884418.542426027,
          21017275.289172277,
          21947021.810688674,
          26950516.05538939,
          30732329.409705475,
          32256666.33666648,
          47492862.13574769,
          48781109.67926979,
          42742065.49181621,
          41105583.73821583
         ]
        },
        {
         "mode": "lines",
         "name": "SARIMAX Val",
         "type": "scatter",
         "x": [
          "2009-01-01T00:00:00",
          "2009-02-01T00:00:00",
          "2009-03-01T00:00:00",
          "2009-04-01T00:00:00",
          "2009-05-01T00:00:00",
          "2009-06-01T00:00:00",
          "2009-07-01T00:00:00",
          "2009-08-01T00:00:00",
          "2009-09-01T00:00:00",
          "2009-10-01T00:00:00",
          "2009-11-01T00:00:00",
          "2009-12-01T00:00:00",
          "2010-01-01T00:00:00",
          "2010-02-01T00:00:00",
          "2010-03-01T00:00:00",
          "2010-04-01T00:00:00",
          "2010-05-01T00:00:00",
          "2010-06-01T00:00:00",
          "2010-07-01T00:00:00",
          "2010-08-01T00:00:00",
          "2010-09-01T00:00:00",
          "2010-10-01T00:00:00",
          "2010-11-01T00:00:00",
          "2010-12-01T00:00:00",
          "2011-01-01T00:00:00",
          "2011-02-01T00:00:00",
          "2011-03-01T00:00:00",
          "2011-04-01T00:00:00",
          "2011-05-01T00:00:00",
          "2011-06-01T00:00:00",
          "2011-07-01T00:00:00",
          "2011-08-01T00:00:00",
          "2011-09-01T00:00:00",
          "2011-10-01T00:00:00",
          "2011-11-01T00:00:00",
          "2011-12-01T00:00:00",
          "2012-01-01T00:00:00",
          "2012-02-01T00:00:00",
          "2012-03-01T00:00:00",
          "2012-04-01T00:00:00",
          "2012-05-01T00:00:00",
          "2012-06-01T00:00:00",
          "2012-07-01T00:00:00",
          "2012-08-01T00:00:00",
          "2012-09-01T00:00:00",
          "2012-10-01T00:00:00",
          "2012-11-01T00:00:00",
          "2012-12-01T00:00:00",
          "2013-01-01T00:00:00",
          "2013-02-01T00:00:00",
          "2013-03-01T00:00:00",
          "2013-04-01T00:00:00",
          "2013-05-01T00:00:00",
          "2013-06-01T00:00:00",
          "2013-07-01T00:00:00",
          "2013-08-01T00:00:00",
          "2013-09-01T00:00:00",
          "2013-10-01T00:00:00",
          "2013-11-01T00:00:00",
          "2013-12-01T00:00:00",
          "2014-01-01T00:00:00",
          "2014-02-01T00:00:00",
          "2014-03-01T00:00:00",
          "2014-04-01T00:00:00",
          "2014-05-01T00:00:00",
          "2014-06-01T00:00:00",
          "2014-07-01T00:00:00",
          "2014-08-01T00:00:00",
          "2014-09-01T00:00:00",
          "2014-10-01T00:00:00",
          "2014-11-01T00:00:00",
          "2014-12-01T00:00:00",
          "2015-01-01T00:00:00",
          "2015-02-01T00:00:00",
          "2015-03-01T00:00:00",
          "2015-04-01T00:00:00",
          "2015-05-01T00:00:00",
          "2015-06-01T00:00:00",
          "2015-07-01T00:00:00",
          "2015-08-01T00:00:00",
          "2015-09-01T00:00:00",
          "2015-10-01T00:00:00",
          "2015-11-01T00:00:00",
          "2015-12-01T00:00:00",
          "2016-01-01T00:00:00",
          "2016-02-01T00:00:00",
          "2016-03-01T00:00:00",
          "2016-04-01T00:00:00",
          "2016-05-01T00:00:00",
          "2016-06-01T00:00:00",
          "2016-07-01T00:00:00",
          "2016-08-01T00:00:00",
          "2016-09-01T00:00:00",
          "2016-10-01T00:00:00",
          "2016-11-01T00:00:00",
          "2016-12-01T00:00:00",
          "2017-01-01T00:00:00",
          "2017-02-01T00:00:00",
          "2017-03-01T00:00:00",
          "2017-04-01T00:00:00",
          "2017-05-01T00:00:00",
          "2017-06-01T00:00:00",
          "2017-07-01T00:00:00",
          "2017-08-01T00:00:00",
          "2017-09-01T00:00:00",
          "2017-10-01T00:00:00",
          "2017-11-01T00:00:00",
          "2017-12-01T00:00:00",
          "2018-01-01T00:00:00",
          "2018-02-01T00:00:00",
          "2018-03-01T00:00:00",
          "2018-04-01T00:00:00",
          "2018-05-01T00:00:00",
          "2018-06-01T00:00:00",
          "2018-07-01T00:00:00",
          "2018-08-01T00:00:00",
          "2018-09-01T00:00:00",
          "2018-10-01T00:00:00",
          "2018-11-01T00:00:00",
          "2018-12-01T00:00:00",
          "2019-01-01T00:00:00",
          "2019-02-01T00:00:00",
          "2019-03-01T00:00:00",
          "2019-04-01T00:00:00",
          "2019-05-01T00:00:00",
          "2019-06-01T00:00:00",
          "2019-07-01T00:00:00",
          "2019-08-01T00:00:00",
          "2019-09-01T00:00:00",
          "2019-10-01T00:00:00",
          "2019-11-01T00:00:00",
          "2019-12-01T00:00:00",
          "2020-01-01T00:00:00",
          "2020-02-01T00:00:00",
          "2020-03-01T00:00:00",
          "2020-04-01T00:00:00",
          "2020-05-01T00:00:00",
          "2020-06-01T00:00:00",
          "2020-07-01T00:00:00",
          "2020-08-01T00:00:00",
          "2020-09-01T00:00:00",
          "2020-10-01T00:00:00",
          "2020-11-01T00:00:00",
          "2020-12-01T00:00:00",
          "2021-01-01T00:00:00",
          "2021-02-01T00:00:00",
          "2021-03-01T00:00:00",
          "2021-04-01T00:00:00",
          "2021-05-01T00:00:00",
          "2021-06-01T00:00:00",
          "2021-07-01T00:00:00",
          "2021-08-01T00:00:00",
          "2021-09-01T00:00:00",
          "2021-10-01T00:00:00",
          "2021-11-01T00:00:00",
          "2021-12-01T00:00:00",
          "2022-01-01T00:00:00",
          "2022-02-01T00:00:00",
          "2022-03-01T00:00:00",
          "2022-04-01T00:00:00",
          "2022-05-01T00:00:00",
          "2022-06-01T00:00:00",
          "2022-07-01T00:00:00",
          "2022-08-01T00:00:00",
          "2022-09-01T00:00:00",
          "2022-10-01T00:00:00",
          "2022-11-01T00:00:00",
          "2022-12-01T00:00:00",
          "2023-01-01T00:00:00",
          "2023-01-01T00:00:00",
          "2023-02-01T00:00:00",
          "2023-03-01T00:00:00",
          "2023-04-01T00:00:00",
          "2023-05-01T00:00:00"
         ],
         "y": [
          59315566.05325434,
          59315566.05325434,
          52244685.32469043,
          53540933.34751277,
          49648834.63530697,
          43744708.83017925,
          48836347.60233887,
          46588153.06843688,
          45777059.973332696,
          51991867.43748266,
          52051457.35973294,
          60073636.26254847,
          59425446.32884026,
          58777256.39513206,
          60136003.3568006,
          48735839.275753,
          48605236.8345146,
          48650898.32652627,
          43715837.99035483,
          41816170.10660098,
          47779864.68428002,
          51137788.25086372,
          58466587.40594022,
          61244894.97933843,
          62950700.12464587,
          55118197.69369059,
          54219245.54829746,
          50871645.73137674,
          46953612.19661045,
          47444505.97708202,
          41390840.01392192,
          49072492.546662696,
          49275554.18523839,
          49371072.47957996,
          54037840.23355386,
          60348531.40631801,
          60693181.86953125,
          55585591.95771027,
          55802862.90339866,
          50358315.573151246,
          47776919.17091806,
          43853891.84559732,
          38790242.46354566,
          44594617.27312201,
          47323927.25320508,
          51511868.03353029,
          52639058.88780262,
          57917442.029432975,
          64336550.63627757,
          55963694.30100506,
          57465250.71337772,
          49823451.90148885,
          46593243.99780954,
          40140954.465539135,
          47248608.17541365,
          49244558.95167868,
          45236972.57055376,
          49095907.44411202,
          56061565.87653386,
          55418024.75247664,
          58471804.619954765,
          50900422.02695507,
          52776779.1049284,
          46438407.87752749,
          43703269.19508851,
          42973171.89891423,
          45557044.17841692,
          44242041.08086556,
          42651023.7622769,
          48753980.59857051,
          51290588.39183485,
          54648110.98122632,
          57695699.75373429,
          50889839.38612224,
          53192123.32791524,
          45726751.94793908,
          44925029.32567553,
          40036767.38696914,
          43949862.42279945,
          39060006.77444703,
          45025298.4747065,
          46044987.02222896,
          50669424.20163482,
          50785560.19863413,
          53554007.968544014,
          49135020.90262554,
          51266807.76166569,
          45008454.49706069,
          40477341.05021028,
          40049226.74188065,
          42286392.283707656,
          39813956.66766296,
          40183362.212890096,
          47531969.59962397,
          48814548.26080671,
          50972467.3687736,
          55491274.9162779,
          49546622.91016704,
          47635202.31954952,
          41684032.29983847,
          38150606.642752334,
          40209233.73324461,
          38242159.9163497,
          39219051.08217951,
          40512075.18158014,
          43053250.05202981,
          49630984.84515612,
          50159650.92736752,
          53335403.69929463,
          47500168.638908766,
          50161521.15852851,
          42669960.16653441,
          41398241.71665687,
          36029339.230132654,
          37690703.40418073,
          40715313.64606065,
          41134824.78841589,
          42384046.47970542,
          46829324.02875041,
          50571215.34948863,
          52173254.6593034,
          44250486.3481466,
          48327984.25906668,
          39150139.51236457,
          39858781.52419876,
          37664645.713197246,
          38625574.95873961,
          36469807.89548431,
          36260317.153100565,
          44223567.44755293,
          47814676.5831361,
          49067413.15180936,
          50636467.81512439,
          43441784.23716356,
          45033763.02011749,
          38424692.81328552,
          36884804.50918826,
          35477185.99803233,
          38800080.71078748,
          35475470.02336933,
          36622737.76893513,
          42081501.10647358,
          44977486.43307618,
          47802449.79259309,
          49775411.36220057,
          43676736.56695995,
          43650012.06771216,
          39691344.363836594,
          37848559.879362345,
          33107866.63140096,
          34276931.172311485,
          33994956.92561987,
          33719021.89143836,
          39779610.61731456,
          44650965.037539706,
          46155922.07288158,
          47125125.81283566,
          41824416.62010334,
          42286539.19897043,
          38235806.2425525,
          37030993.63429215,
          34169989.35356207,
          35327095.354484215,
          32830385.22881093,
          35059391.39151702,
          39366136.10131475,
          43563165.90043632,
          46531047.89876088,
          46372535.4699362,
          46374698.45344192,
          40355245.795708805,
          42407071.06711555,
          36677769.72308569,
          33967764.574938804
         ]
        }
       ],
       "layout": {
        "legend": {
         "x": 1.05,
         "y": 1
        },
        "showlegend": true,
        "template": {
         "data": {
          "bar": [
           {
            "error_x": {
             "color": "#2a3f5f"
            },
            "error_y": {
             "color": "#2a3f5f"
            },
            "marker": {
             "line": {
              "color": "#E5ECF6",
              "width": 0.5
             }
            },
            "type": "bar"
           }
          ],
          "barpolar": [
           {
            "marker": {
             "line": {
              "color": "#E5ECF6",
              "width": 0.5
             }
            },
            "type": "barpolar"
           }
          ],
          "carpet": [
           {
            "aaxis": {
             "endlinecolor": "#2a3f5f",
             "gridcolor": "white",
             "linecolor": "white",
             "minorgridcolor": "white",
             "startlinecolor": "#2a3f5f"
            },
            "baxis": {
             "endlinecolor": "#2a3f5f",
             "gridcolor": "white",
             "linecolor": "white",
             "minorgridcolor": "white",
             "startlinecolor": "#2a3f5f"
            },
            "type": "carpet"
           }
          ],
          "choropleth": [
           {
            "colorbar": {
             "outlinewidth": 0,
             "ticks": ""
            },
            "type": "choropleth"
           }
          ],
          "contour": [
           {
            "colorbar": {
             "outlinewidth": 0,
             "ticks": ""
            },
            "colorscale": [
             [
              0,
              "#0d0887"
             ],
             [
              0.1111111111111111,
              "#46039f"
             ],
             [
              0.2222222222222222,
              "#7201a8"
             ],
             [
              0.3333333333333333,
              "#9c179e"
             ],
             [
              0.4444444444444444,
              "#bd3786"
             ],
             [
              0.5555555555555556,
              "#d8576b"
             ],
             [
              0.6666666666666666,
              "#ed7953"
             ],
             [
              0.7777777777777778,
              "#fb9f3a"
             ],
             [
              0.8888888888888888,
              "#fdca26"
             ],
             [
              1,
              "#f0f921"
             ]
            ],
            "type": "contour"
           }
          ],
          "contourcarpet": [
           {
            "colorbar": {
             "outlinewidth": 0,
             "ticks": ""
            },
            "type": "contourcarpet"
           }
          ],
          "heatmap": [
           {
            "colorbar": {
             "outlinewidth": 0,
             "ticks": ""
            },
            "colorscale": [
             [
              0,
              "#0d0887"
             ],
             [
              0.1111111111111111,
              "#46039f"
             ],
             [
              0.2222222222222222,
              "#7201a8"
             ],
             [
              0.3333333333333333,
              "#9c179e"
             ],
             [
              0.4444444444444444,
              "#bd3786"
             ],
             [
              0.5555555555555556,
              "#d8576b"
             ],
             [
              0.6666666666666666,
              "#ed7953"
             ],
             [
              0.7777777777777778,
              "#fb9f3a"
             ],
             [
              0.8888888888888888,
              "#fdca26"
             ],
             [
              1,
              "#f0f921"
             ]
            ],
            "type": "heatmap"
           }
          ],
          "heatmapgl": [
           {
            "colorbar": {
             "outlinewidth": 0,
             "ticks": ""
            },
            "colorscale": [
             [
              0,
              "#0d0887"
             ],
             [
              0.1111111111111111,
              "#46039f"
             ],
             [
              0.2222222222222222,
              "#7201a8"
             ],
             [
              0.3333333333333333,
              "#9c179e"
             ],
             [
              0.4444444444444444,
              "#bd3786"
             ],
             [
              0.5555555555555556,
              "#d8576b"
             ],
             [
              0.6666666666666666,
              "#ed7953"
             ],
             [
              0.7777777777777778,
              "#fb9f3a"
             ],
             [
              0.8888888888888888,
              "#fdca26"
             ],
             [
              1,
              "#f0f921"
             ]
            ],
            "type": "heatmapgl"
           }
          ],
          "histogram": [
           {
            "marker": {
             "colorbar": {
              "outlinewidth": 0,
              "ticks": ""
             }
            },
            "type": "histogram"
           }
          ],
          "histogram2d": [
           {
            "colorbar": {
             "outlinewidth": 0,
             "ticks": ""
            },
            "colorscale": [
             [
              0,
              "#0d0887"
             ],
             [
              0.1111111111111111,
              "#46039f"
             ],
             [
              0.2222222222222222,
              "#7201a8"
             ],
             [
              0.3333333333333333,
              "#9c179e"
             ],
             [
              0.4444444444444444,
              "#bd3786"
             ],
             [
              0.5555555555555556,
              "#d8576b"
             ],
             [
              0.6666666666666666,
              "#ed7953"
             ],
             [
              0.7777777777777778,
              "#fb9f3a"
             ],
             [
              0.8888888888888888,
              "#fdca26"
             ],
             [
              1,
              "#f0f921"
             ]
            ],
            "type": "histogram2d"
           }
          ],
          "histogram2dcontour": [
           {
            "colorbar": {
             "outlinewidth": 0,
             "ticks": ""
            },
            "colorscale": [
             [
              0,
              "#0d0887"
             ],
             [
              0.1111111111111111,
              "#46039f"
             ],
             [
              0.2222222222222222,
              "#7201a8"
             ],
             [
              0.3333333333333333,
              "#9c179e"
             ],
             [
              0.4444444444444444,
              "#bd3786"
             ],
             [
              0.5555555555555556,
              "#d8576b"
             ],
             [
              0.6666666666666666,
              "#ed7953"
             ],
             [
              0.7777777777777778,
              "#fb9f3a"
             ],
             [
              0.8888888888888888,
              "#fdca26"
             ],
             [
              1,
              "#f0f921"
             ]
            ],
            "type": "histogram2dcontour"
           }
          ],
          "mesh3d": [
           {
            "colorbar": {
             "outlinewidth": 0,
             "ticks": ""
            },
            "type": "mesh3d"
           }
          ],
          "parcoords": [
           {
            "line": {
             "colorbar": {
              "outlinewidth": 0,
              "ticks": ""
             }
            },
            "type": "parcoords"
           }
          ],
          "pie": [
           {
            "automargin": true,
            "type": "pie"
           }
          ],
          "scatter": [
           {
            "marker": {
             "colorbar": {
              "outlinewidth": 0,
              "ticks": ""
             }
            },
            "type": "scatter"
           }
          ],
          "scatter3d": [
           {
            "line": {
             "colorbar": {
              "outlinewidth": 0,
              "ticks": ""
             }
            },
            "marker": {
             "colorbar": {
              "outlinewidth": 0,
              "ticks": ""
             }
            },
            "type": "scatter3d"
           }
          ],
          "scattercarpet": [
           {
            "marker": {
             "colorbar": {
              "outlinewidth": 0,
              "ticks": ""
             }
            },
            "type": "scattercarpet"
           }
          ],
          "scattergeo": [
           {
            "marker": {
             "colorbar": {
              "outlinewidth": 0,
              "ticks": ""
             }
            },
            "type": "scattergeo"
           }
          ],
          "scattergl": [
           {
            "marker": {
             "colorbar": {
              "outlinewidth": 0,
              "ticks": ""
             }
            },
            "type": "scattergl"
           }
          ],
          "scattermapbox": [
           {
            "marker": {
             "colorbar": {
              "outlinewidth": 0,
              "ticks": ""
             }
            },
            "type": "scattermapbox"
           }
          ],
          "scatterpolar": [
           {
            "marker": {
             "colorbar": {
              "outlinewidth": 0,
              "ticks": ""
             }
            },
            "type": "scatterpolar"
           }
          ],
          "scatterpolargl": [
           {
            "marker": {
             "colorbar": {
              "outlinewidth": 0,
              "ticks": ""
             }
            },
            "type": "scatterpolargl"
           }
          ],
          "scatterternary": [
           {
            "marker": {
             "colorbar": {
              "outlinewidth": 0,
              "ticks": ""
             }
            },
            "type": "scatterternary"
           }
          ],
          "surface": [
           {
            "colorbar": {
             "outlinewidth": 0,
             "ticks": ""
            },
            "colorscale": [
             [
              0,
              "#0d0887"
             ],
             [
              0.1111111111111111,
              "#46039f"
             ],
             [
              0.2222222222222222,
              "#7201a8"
             ],
             [
              0.3333333333333333,
              "#9c179e"
             ],
             [
              0.4444444444444444,
              "#bd3786"
             ],
             [
              0.5555555555555556,
              "#d8576b"
             ],
             [
              0.6666666666666666,
              "#ed7953"
             ],
             [
              0.7777777777777778,
              "#fb9f3a"
             ],
             [
              0.8888888888888888,
              "#fdca26"
             ],
             [
              1,
              "#f0f921"
             ]
            ],
            "type": "surface"
           }
          ],
          "table": [
           {
            "cells": {
             "fill": {
              "color": "#EBF0F8"
             },
             "line": {
              "color": "white"
             }
            },
            "header": {
             "fill": {
              "color": "#C8D4E3"
             },
             "line": {
              "color": "white"
             }
            },
            "type": "table"
           }
          ]
         },
         "layout": {
          "annotationdefaults": {
           "arrowcolor": "#2a3f5f",
           "arrowhead": 0,
           "arrowwidth": 1
          },
          "coloraxis": {
           "colorbar": {
            "outlinewidth": 0,
            "ticks": ""
           }
          },
          "colorscale": {
           "diverging": [
            [
             0,
             "#8e0152"
            ],
            [
             0.1,
             "#c51b7d"
            ],
            [
             0.2,
             "#de77ae"
            ],
            [
             0.3,
             "#f1b6da"
            ],
            [
             0.4,
             "#fde0ef"
            ],
            [
             0.5,
             "#f7f7f7"
            ],
            [
             0.6,
             "#e6f5d0"
            ],
            [
             0.7,
             "#b8e186"
            ],
            [
             0.8,
             "#7fbc41"
            ],
            [
             0.9,
             "#4d9221"
            ],
            [
             1,
             "#276419"
            ]
           ],
           "sequential": [
            [
             0,
             "#0d0887"
            ],
            [
             0.1111111111111111,
             "#46039f"
            ],
            [
             0.2222222222222222,
             "#7201a8"
            ],
            [
             0.3333333333333333,
             "#9c179e"
            ],
            [
             0.4444444444444444,
             "#bd3786"
            ],
            [
             0.5555555555555556,
             "#d8576b"
            ],
            [
             0.6666666666666666,
             "#ed7953"
            ],
            [
             0.7777777777777778,
             "#fb9f3a"
            ],
            [
             0.8888888888888888,
             "#fdca26"
            ],
            [
             1,
             "#f0f921"
            ]
           ],
           "sequentialminus": [
            [
             0,
             "#0d0887"
            ],
            [
             0.1111111111111111,
             "#46039f"
            ],
            [
             0.2222222222222222,
             "#7201a8"
            ],
            [
             0.3333333333333333,
             "#9c179e"
            ],
            [
             0.4444444444444444,
             "#bd3786"
            ],
            [
             0.5555555555555556,
             "#d8576b"
            ],
            [
             0.6666666666666666,
             "#ed7953"
            ],
            [
             0.7777777777777778,
             "#fb9f3a"
            ],
            [
             0.8888888888888888,
             "#fdca26"
            ],
            [
             1,
             "#f0f921"
            ]
           ]
          },
          "colorway": [
           "#636efa",
           "#EF553B",
           "#00cc96",
           "#ab63fa",
           "#FFA15A",
           "#19d3f3",
           "#FF6692",
           "#B6E880",
           "#FF97FF",
           "#FECB52"
          ],
          "font": {
           "color": "#2a3f5f"
          },
          "geo": {
           "bgcolor": "white",
           "lakecolor": "white",
           "landcolor": "#E5ECF6",
           "showlakes": true,
           "showland": true,
           "subunitcolor": "white"
          },
          "hoverlabel": {
           "align": "left"
          },
          "hovermode": "closest",
          "mapbox": {
           "style": "light"
          },
          "paper_bgcolor": "white",
          "plot_bgcolor": "#E5ECF6",
          "polar": {
           "angularaxis": {
            "gridcolor": "white",
            "linecolor": "white",
            "ticks": ""
           },
           "bgcolor": "#E5ECF6",
           "radialaxis": {
            "gridcolor": "white",
            "linecolor": "white",
            "ticks": ""
           }
          },
          "scene": {
           "xaxis": {
            "backgroundcolor": "#E5ECF6",
            "gridcolor": "white",
            "gridwidth": 2,
            "linecolor": "white",
            "showbackground": true,
            "ticks": "",
            "zerolinecolor": "white"
           },
           "yaxis": {
            "backgroundcolor": "#E5ECF6",
            "gridcolor": "white",
            "gridwidth": 2,
            "linecolor": "white",
            "showbackground": true,
            "ticks": "",
            "zerolinecolor": "white"
           },
           "zaxis": {
            "backgroundcolor": "#E5ECF6",
            "gridcolor": "white",
            "gridwidth": 2,
            "linecolor": "white",
            "showbackground": true,
            "ticks": "",
            "zerolinecolor": "white"
           }
          },
          "shapedefaults": {
           "line": {
            "color": "#2a3f5f"
           }
          },
          "ternary": {
           "aaxis": {
            "gridcolor": "white",
            "linecolor": "white",
            "ticks": ""
           },
           "baxis": {
            "gridcolor": "white",
            "linecolor": "white",
            "ticks": ""
           },
           "bgcolor": "#E5ECF6",
           "caxis": {
            "gridcolor": "white",
            "linecolor": "white",
            "ticks": ""
           }
          },
          "title": {
           "x": 0.05
          },
          "xaxis": {
           "automargin": true,
           "gridcolor": "white",
           "linecolor": "white",
           "ticks": "",
           "title": {
            "standoff": 15
           },
           "zerolinecolor": "white",
           "zerolinewidth": 2
          },
          "yaxis": {
           "automargin": true,
           "gridcolor": "white",
           "linecolor": "white",
           "ticks": "",
           "title": {
            "standoff": 15
           },
           "zerolinecolor": "white",
           "zerolinewidth": 2
          }
         }
        },
        "title": {
         "text": "<b>Compiled Predictions</b>",
         "x": 0.5,
         "xanchor": "center",
         "y": 0.95,
         "yanchor": "top"
        },
        "xaxis": {
         "rangeslider": {
          "visible": true
         },
         "title": {
          "text": "Date"
         }
        },
        "yaxis": {
         "title": {
          "text": "ND"
         }
        }
       }
      }
     },
     "metadata": {},
     "output_type": "display_data"
    }
   ],
   "source": [
    "fig = go.Figure()\n",
    "\n",
    "fig.add_trace(go.Scatter(x=df_monthly.index, y=df_monthly['nd'], name='Original data', mode='lines', line=dict(dash='dash')))\n",
    "fig.add_trace(go.Scatter(x=validation_monthly.index, y=validation_monthly['ND'], name='Validation', mode='lines'))\n",
    "fig.add_trace(go.Scatter(x=full_arima.index, y=full_arima.replace(0, float('nan')), name='ARIMA', mode='lines'))\n",
    "fig.add_trace(go.Scatter(x=full_sarima.index, y=full_sarima, name='SARIMA', mode='lines'))\n",
    "fig.add_trace(go.Scatter(x=full_sarimax.index, y=full_sarimax, name='SARIMAX Val', mode='lines'))\n",
    "\n",
    "fig.update_layout(\n",
    "    title={'text': '<b>Compiled Predictions</b>', 'x': 0.5,'xanchor': 'center', 'y': 0.95,'yanchor': 'top'},\n",
    "    xaxis_title='Date',\n",
    "    yaxis_title='ND',\n",
    "    legend=dict(x=1.05, y=1),\n",
    "    showlegend=True,\n",
    "    xaxis_rangeslider_visible=True)\n",
    "fig.show()\n"
   ]
  },
  {
   "cell_type": "code",
   "execution_count": 423,
   "metadata": {},
   "outputs": [
    {
     "data": {
      "application/vnd.plotly.v1+json": {
       "config": {
        "plotlyServerURL": "https://plot.ly"
       },
       "data": [
        {
         "line": {
          "dash": "dash"
         },
         "name": "Original data",
         "type": "scatter",
         "x": [
          "2009-01-01T00:00:00",
          "2009-02-01T00:00:00",
          "2009-03-01T00:00:00",
          "2009-04-01T00:00:00",
          "2009-05-01T00:00:00",
          "2009-06-01T00:00:00",
          "2009-07-01T00:00:00",
          "2009-08-01T00:00:00",
          "2009-09-01T00:00:00",
          "2009-10-01T00:00:00",
          "2009-11-01T00:00:00",
          "2009-12-01T00:00:00",
          "2010-01-01T00:00:00",
          "2010-02-01T00:00:00",
          "2010-03-01T00:00:00",
          "2010-04-01T00:00:00",
          "2010-05-01T00:00:00",
          "2010-06-01T00:00:00",
          "2010-07-01T00:00:00",
          "2010-08-01T00:00:00",
          "2010-09-01T00:00:00",
          "2010-10-01T00:00:00",
          "2010-11-01T00:00:00",
          "2010-12-01T00:00:00",
          "2011-01-01T00:00:00",
          "2011-02-01T00:00:00",
          "2011-03-01T00:00:00",
          "2011-04-01T00:00:00",
          "2011-05-01T00:00:00",
          "2011-06-01T00:00:00",
          "2011-07-01T00:00:00",
          "2011-08-01T00:00:00",
          "2011-09-01T00:00:00",
          "2011-10-01T00:00:00",
          "2011-11-01T00:00:00",
          "2011-12-01T00:00:00",
          "2012-01-01T00:00:00",
          "2012-02-01T00:00:00",
          "2012-03-01T00:00:00",
          "2012-04-01T00:00:00",
          "2012-05-01T00:00:00",
          "2012-06-01T00:00:00",
          "2012-07-01T00:00:00",
          "2012-08-01T00:00:00",
          "2012-09-01T00:00:00",
          "2012-10-01T00:00:00",
          "2012-11-01T00:00:00",
          "2012-12-01T00:00:00",
          "2013-01-01T00:00:00",
          "2013-02-01T00:00:00",
          "2013-03-01T00:00:00",
          "2013-04-01T00:00:00",
          "2013-05-01T00:00:00",
          "2013-06-01T00:00:00",
          "2013-07-01T00:00:00",
          "2013-08-01T00:00:00",
          "2013-09-01T00:00:00",
          "2013-10-01T00:00:00",
          "2013-11-01T00:00:00",
          "2013-12-01T00:00:00",
          "2014-01-01T00:00:00",
          "2014-02-01T00:00:00",
          "2014-03-01T00:00:00",
          "2014-04-01T00:00:00",
          "2014-05-01T00:00:00",
          "2014-06-01T00:00:00",
          "2014-07-01T00:00:00",
          "2014-08-01T00:00:00",
          "2014-09-01T00:00:00",
          "2014-10-01T00:00:00",
          "2014-11-01T00:00:00",
          "2014-12-01T00:00:00",
          "2015-01-01T00:00:00",
          "2015-02-01T00:00:00",
          "2015-03-01T00:00:00",
          "2015-04-01T00:00:00",
          "2015-05-01T00:00:00",
          "2015-06-01T00:00:00",
          "2015-07-01T00:00:00",
          "2015-08-01T00:00:00",
          "2015-09-01T00:00:00",
          "2015-10-01T00:00:00",
          "2015-11-01T00:00:00",
          "2015-12-01T00:00:00",
          "2016-01-01T00:00:00",
          "2016-02-01T00:00:00",
          "2016-03-01T00:00:00",
          "2016-04-01T00:00:00",
          "2016-05-01T00:00:00",
          "2016-06-01T00:00:00",
          "2016-07-01T00:00:00",
          "2016-08-01T00:00:00",
          "2016-09-01T00:00:00",
          "2016-10-01T00:00:00",
          "2016-11-01T00:00:00",
          "2016-12-01T00:00:00",
          "2017-01-01T00:00:00",
          "2017-02-01T00:00:00",
          "2017-03-01T00:00:00",
          "2017-04-01T00:00:00",
          "2017-05-01T00:00:00",
          "2017-06-01T00:00:00",
          "2017-07-01T00:00:00",
          "2017-08-01T00:00:00",
          "2017-09-01T00:00:00",
          "2017-10-01T00:00:00",
          "2017-11-01T00:00:00",
          "2017-12-01T00:00:00",
          "2018-01-01T00:00:00",
          "2018-02-01T00:00:00",
          "2018-03-01T00:00:00",
          "2018-04-01T00:00:00",
          "2018-05-01T00:00:00",
          "2018-06-01T00:00:00",
          "2018-07-01T00:00:00",
          "2018-08-01T00:00:00",
          "2018-09-01T00:00:00",
          "2018-10-01T00:00:00",
          "2018-11-01T00:00:00",
          "2018-12-01T00:00:00",
          "2019-01-01T00:00:00",
          "2019-02-01T00:00:00",
          "2019-03-01T00:00:00",
          "2019-04-01T00:00:00",
          "2019-05-01T00:00:00",
          "2019-06-01T00:00:00",
          "2019-07-01T00:00:00",
          "2019-08-01T00:00:00",
          "2019-09-01T00:00:00",
          "2019-10-01T00:00:00",
          "2019-11-01T00:00:00",
          "2019-12-01T00:00:00",
          "2020-01-01T00:00:00",
          "2020-02-01T00:00:00",
          "2020-03-01T00:00:00",
          "2020-04-01T00:00:00",
          "2020-05-01T00:00:00",
          "2020-06-01T00:00:00",
          "2020-07-01T00:00:00",
          "2020-08-01T00:00:00",
          "2020-09-01T00:00:00",
          "2020-10-01T00:00:00",
          "2020-11-01T00:00:00",
          "2020-12-01T00:00:00",
          "2021-01-01T00:00:00",
          "2021-02-01T00:00:00",
          "2021-03-01T00:00:00",
          "2021-04-01T00:00:00",
          "2021-05-01T00:00:00",
          "2021-06-01T00:00:00",
          "2021-07-01T00:00:00",
          "2021-08-01T00:00:00",
          "2021-09-01T00:00:00",
          "2021-10-01T00:00:00",
          "2021-11-01T00:00:00",
          "2021-12-01T00:00:00",
          "2022-01-01T00:00:00",
          "2022-02-01T00:00:00",
          "2022-03-01T00:00:00",
          "2022-04-01T00:00:00",
          "2022-05-01T00:00:00",
          "2022-06-01T00:00:00",
          "2022-07-01T00:00:00",
          "2022-08-01T00:00:00",
          "2022-09-01T00:00:00",
          "2022-10-01T00:00:00",
          "2022-11-01T00:00:00",
          "2022-12-01T00:00:00",
          "2023-01-01T00:00:00"
         ],
         "y": [
          63238939,
          56073378,
          56519297,
          49311414,
          48437067,
          46910239,
          47750290,
          44152379,
          47440693,
          52115303,
          54093698,
          60551173,
          64167310,
          56810859,
          57720117,
          49843401,
          49267906,
          46469076,
          41082668,
          46202635,
          47584793,
          52366772,
          57182171,
          65015253,
          61790379,
          53644216,
          57306664,
          47343169,
          47616967,
          46441343,
          46651651,
          46893473,
          47041036,
          50420571,
          53439942,
          57182751,
          58529550,
          56600669,
          54160394,
          50360860,
          45012383,
          37942572,
          46523796,
          46157090,
          45947678,
          50672607,
          54854456,
          57682111,
          60099477,
          54304507,
          58919512,
          50873471,
          47331396,
          43812482,
          46182636,
          44914183,
          46115329,
          49759205,
          54033925,
          54780364,
          56938567,
          50410462,
          52285357,
          46387747,
          45609379,
          43056174,
          44616033,
          42917349,
          44813163,
          48174467,
          51361477,
          54507001,
          56502651,
          51752075,
          52488423,
          44704741,
          43401232,
          41324661,
          42305466,
          41901431,
          43196548,
          48320356,
          49273128,
          49330271,
          53601499,
          50030041,
          51102820,
          45072200,
          41478741,
          40675719,
          40215489,
          39768390,
          40662704,
          45858872,
          51092477,
          51592116,
          55131010,
          47131807,
          47685341,
          40975090,
          41074795,
          38040443,
          39067573,
          38893015,
          40287901,
          43429369,
          48603197,
          51766994,
          52634987,
          48286028,
          51614942,
          42945942,
          39446201,
          37451434,
          39468092,
          39003511,
          38666592,
          43933709,
          47395074,
          49024904,
          52732565,
          44509351,
          45440394,
          41082911,
          39777537,
          36926996,
          38304781,
          36783065,
          37548190,
          44288889,
          48517382,
          48382003,
          48814724,
          44418085,
          44080225,
          33159717,
          32156997,
          32651976,
          34744843,
          36152153,
          36758572,
          42804754,
          43337544,
          47962550,
          50260890,
          42792431,
          43914875,
          39664785,
          39310758,
          35989873,
          37287228,
          36797492,
          37446180,
          40560727,
          44898882,
          47642643,
          48750749,
          40887505,
          43485339,
          37399615,
          35482844,
          32909402,
          34644371,
          34719352,
          34708171,
          36760075,
          40300587,
          46331575,
          45692038
         ]
        },
        {
         "mode": "lines",
         "name": "Validation",
         "type": "scatter",
         "x": [
          "2023-01-01T00:00:00",
          "2023-02-01T00:00:00",
          "2023-03-01T00:00:00",
          "2023-04-01T00:00:00",
          "2023-05-01T00:00:00"
         ],
         "y": [
          45692038,
          39747240,
          43182167,
          36750722,
          28149577
         ]
        },
        {
         "name": "ARIMA",
         "type": "scatter",
         "x": [
          "2009-01-01T00:00:00",
          "2009-02-01T00:00:00",
          "2009-03-01T00:00:00",
          "2009-04-01T00:00:00",
          "2009-05-01T00:00:00",
          "2009-06-01T00:00:00",
          "2009-07-01T00:00:00",
          "2009-08-01T00:00:00",
          "2009-09-01T00:00:00",
          "2009-10-01T00:00:00",
          "2009-11-01T00:00:00",
          "2009-12-01T00:00:00",
          "2010-01-01T00:00:00",
          "2010-02-01T00:00:00",
          "2010-03-01T00:00:00",
          "2010-04-01T00:00:00",
          "2010-05-01T00:00:00",
          "2010-06-01T00:00:00",
          "2010-07-01T00:00:00",
          "2010-08-01T00:00:00",
          "2010-09-01T00:00:00",
          "2010-10-01T00:00:00",
          "2010-11-01T00:00:00",
          "2010-12-01T00:00:00",
          "2011-01-01T00:00:00",
          "2011-02-01T00:00:00",
          "2011-03-01T00:00:00",
          "2011-04-01T00:00:00",
          "2011-05-01T00:00:00",
          "2011-06-01T00:00:00",
          "2011-07-01T00:00:00",
          "2011-08-01T00:00:00",
          "2011-09-01T00:00:00",
          "2011-10-01T00:00:00",
          "2011-11-01T00:00:00",
          "2011-12-01T00:00:00",
          "2012-01-01T00:00:00",
          "2012-02-01T00:00:00",
          "2012-03-01T00:00:00",
          "2012-04-01T00:00:00",
          "2012-05-01T00:00:00",
          "2012-06-01T00:00:00",
          "2012-07-01T00:00:00",
          "2012-08-01T00:00:00",
          "2012-09-01T00:00:00",
          "2012-10-01T00:00:00",
          "2012-11-01T00:00:00",
          "2012-12-01T00:00:00",
          "2013-01-01T00:00:00",
          "2013-02-01T00:00:00",
          "2013-03-01T00:00:00",
          "2013-04-01T00:00:00",
          "2013-05-01T00:00:00",
          "2013-06-01T00:00:00",
          "2013-07-01T00:00:00",
          "2013-08-01T00:00:00",
          "2013-09-01T00:00:00",
          "2013-10-01T00:00:00",
          "2013-11-01T00:00:00",
          "2013-12-01T00:00:00",
          "2014-01-01T00:00:00",
          "2014-02-01T00:00:00",
          "2014-03-01T00:00:00",
          "2014-04-01T00:00:00",
          "2014-05-01T00:00:00",
          "2014-06-01T00:00:00",
          "2014-07-01T00:00:00",
          "2014-08-01T00:00:00",
          "2014-09-01T00:00:00",
          "2014-10-01T00:00:00",
          "2014-11-01T00:00:00",
          "2014-12-01T00:00:00",
          "2015-01-01T00:00:00",
          "2015-02-01T00:00:00",
          "2015-03-01T00:00:00",
          "2015-04-01T00:00:00",
          "2015-05-01T00:00:00",
          "2015-06-01T00:00:00",
          "2015-07-01T00:00:00",
          "2015-08-01T00:00:00",
          "2015-09-01T00:00:00",
          "2015-10-01T00:00:00",
          "2015-11-01T00:00:00",
          "2015-12-01T00:00:00",
          "2016-01-01T00:00:00",
          "2016-02-01T00:00:00",
          "2016-03-01T00:00:00",
          "2016-04-01T00:00:00",
          "2016-05-01T00:00:00",
          "2016-06-01T00:00:00",
          "2016-07-01T00:00:00",
          "2016-08-01T00:00:00",
          "2016-09-01T00:00:00",
          "2016-10-01T00:00:00",
          "2016-11-01T00:00:00",
          "2016-12-01T00:00:00",
          "2017-01-01T00:00:00",
          "2017-02-01T00:00:00",
          "2017-03-01T00:00:00",
          "2017-04-01T00:00:00",
          "2017-05-01T00:00:00",
          "2017-06-01T00:00:00",
          "2017-07-01T00:00:00",
          "2017-08-01T00:00:00",
          "2017-09-01T00:00:00",
          "2017-10-01T00:00:00",
          "2017-11-01T00:00:00",
          "2017-12-01T00:00:00",
          "2018-01-01T00:00:00",
          "2018-02-01T00:00:00",
          "2018-03-01T00:00:00",
          "2018-04-01T00:00:00",
          "2018-05-01T00:00:00",
          "2018-06-01T00:00:00",
          "2018-07-01T00:00:00",
          "2018-08-01T00:00:00",
          "2018-09-01T00:00:00",
          "2018-10-01T00:00:00",
          "2018-11-01T00:00:00",
          "2018-12-01T00:00:00",
          "2019-01-01T00:00:00",
          "2019-02-01T00:00:00",
          "2019-03-01T00:00:00",
          "2019-04-01T00:00:00",
          "2019-05-01T00:00:00",
          "2019-06-01T00:00:00",
          "2019-07-01T00:00:00",
          "2019-08-01T00:00:00",
          "2019-09-01T00:00:00",
          "2019-10-01T00:00:00",
          "2019-11-01T00:00:00",
          "2019-12-01T00:00:00",
          "2020-01-01T00:00:00",
          "2020-02-01T00:00:00",
          "2020-03-01T00:00:00",
          "2020-04-01T00:00:00",
          "2020-05-01T00:00:00",
          "2020-06-01T00:00:00",
          "2020-07-01T00:00:00",
          "2020-08-01T00:00:00",
          "2020-09-01T00:00:00",
          "2020-10-01T00:00:00",
          "2020-11-01T00:00:00",
          "2020-12-01T00:00:00",
          "2021-01-01T00:00:00",
          "2021-02-01T00:00:00",
          "2021-03-01T00:00:00",
          "2021-04-01T00:00:00",
          "2021-05-01T00:00:00",
          "2021-06-01T00:00:00",
          "2021-07-01T00:00:00",
          "2021-08-01T00:00:00",
          "2021-09-01T00:00:00",
          "2021-10-01T00:00:00",
          "2021-11-01T00:00:00",
          "2021-12-01T00:00:00",
          "2022-01-01T00:00:00",
          "2022-02-01T00:00:00",
          "2022-03-01T00:00:00",
          "2022-04-01T00:00:00",
          "2022-05-01T00:00:00",
          "2022-06-01T00:00:00",
          "2022-07-01T00:00:00",
          "2022-08-01T00:00:00",
          "2022-09-01T00:00:00",
          "2022-10-01T00:00:00",
          "2022-11-01T00:00:00",
          "2022-12-01T00:00:00",
          "2023-01-01T00:00:00",
          "2023-01-01T00:00:00",
          "2023-02-01T00:00:00",
          "2023-03-01T00:00:00",
          "2023-04-01T00:00:00",
          "2023-05-01T00:00:00"
         ],
         "y": [
          null,
          null,
          null,
          null,
          null,
          null,
          null,
          null,
          null,
          null,
          null,
          null,
          62173236.47199706,
          55653073.64242181,
          55960439.88723971,
          49100332.03623799,
          47813367.297709145,
          46434387.45025951,
          46844967.05757888,
          41178852.02135534,
          47828825.76229104,
          50505970.2042425,
          54208089.18818913,
          61359776.14607804,
          64058329.58172607,
          55203795.45912321,
          57016229.363042176,
          48199026.61158948,
          46880327.76640243,
          46544612.16149209,
          40490711.61833996,
          46290801.219536506,
          47394381.60257179,
          52861472.18740577,
          54580445.07414449,
          62072707.47310921,
          59729765.00483137,
          52191035.22597289,
          56040681.252930015,
          46064674.38656542,
          49913119.72445851,
          42973249.15013481,
          42248737.53279741,
          47943236.61046178,
          45657937.19733755,
          48489326.340794325,
          53556941.78686383,
          57516494.38979395,
          57199371.42477548,
          56363127.38240285,
          53317508.50451457,
          51365539.13212218,
          43503720.00690007,
          38987313.34542117,
          48207115.71144174,
          44362134.78712581,
          45089447.70483204,
          50381507.88490998,
          53364857.424644426,
          56663681.696194,
          58731532.21077878,
          52383976.8580445,
          56392337.86112332,
          48071426.50055801,
          45388855.24608445,
          42050363.40422275,
          45340439.82872624,
          44305233.23041897,
          44420753.1321853,
          48059065.25075739,
          53265717.87494241,
          53524965.76525524,
          55549214.92945916,
          49386739.94006559,
          52955021.91173985,
          45583213.09186179,
          43623219.42808055,
          41906684.0558038,
          43717978.115666986,
          40898652.18954143,
          43634991.07845232,
          47429637.8186594,
          50779582.18110892,
          52492880.588826194,
          54204024.80218886,
          50331418.70060881,
          50678731.59768675,
          43664204.94536219,
          43427311.92257689,
          39604328.72517735,
          41082122.44311286,
          40743177.92982494,
          42020847.40429095,
          46239899.92595253,
          47641145.32271725,
          49854698.2095056,
          53660207.53361601,
          49692516.66686313,
          49442208.31346837,
          43174081.51743198,
          38898247.41917429,
          40041266.16374754,
          38926298.30682667,
          38639859.07085954,
          39206369.07766087,
          45391864.10258023,
          49842263.25929533,
          49553894.40883872,
          54282438.7977853,
          46105067.55120922,
          47644182.28601152,
          40965845.82694238,
          41456453.2689442,
          37435372.24314406,
          37321894.77592387,
          37781946.78469064,
          40795753.85817398,
          42300260.13952287,
          46888122.18384717,
          50867601.09846772,
          52175369.09415189,
          46825210.87589261,
          48592322.08748224,
          41352716.21121881,
          38276598.66699436,
          35500150.61957246,
          39358986.42086079,
          39101715.80154386,
          35858939.53518031,
          42148191.18856612,
          48385647.86136156,
          48948331.27408606,
          50314853.30056406,
          42773536.86544146,
          45910578.82907884,
          38899352.52950665,
          35668353.67190272,
          34515656.8106757,
          36541326.32447722,
          34761267.58070597,
          37084185.53976478,
          43837702.08680773,
          46604246.85911519,
          47145023.51072584,
          48661375.80180768,
          43080019.55002165,
          42258229.99453156,
          32723557.861756176,
          31523466.82372971,
          30765424.5343317,
          33654491.67831327,
          35896903.52091156,
          35326068.017487526,
          41127460.565252416,
          42923581.21560196,
          47177583.71172713,
          48425774.19524535,
          41824605.562552966,
          43550506.68936233,
          38165695.28890888,
          37771727.4511858,
          35574021.40050181,
          36368662.587010205,
          35028632.099259354,
          36576380.22079822,
          40084635.573333286,
          43358297.70931546,
          46232310.65555421,
          48313210.39773087,
          48313210.39773087,
          39854191.74187284,
          41792906.142204925,
          36604597.015648425,
          34896342.04921263
         ]
        },
        {
         "name": "SARIMA",
         "type": "scatter",
         "x": [
          "2009-01-01T00:00:00",
          "2009-02-01T00:00:00",
          "2009-03-01T00:00:00",
          "2009-04-01T00:00:00",
          "2009-05-01T00:00:00",
          "2009-06-01T00:00:00",
          "2009-07-01T00:00:00",
          "2009-08-01T00:00:00",
          "2009-09-01T00:00:00",
          "2009-10-01T00:00:00",
          "2009-11-01T00:00:00",
          "2009-12-01T00:00:00",
          "2010-01-01T00:00:00",
          "2010-02-01T00:00:00",
          "2010-03-01T00:00:00",
          "2010-04-01T00:00:00",
          "2010-05-01T00:00:00",
          "2010-06-01T00:00:00",
          "2010-07-01T00:00:00",
          "2010-08-01T00:00:00",
          "2010-09-01T00:00:00",
          "2010-10-01T00:00:00",
          "2010-11-01T00:00:00",
          "2010-12-01T00:00:00",
          "2011-01-01T00:00:00",
          "2011-02-01T00:00:00",
          "2011-03-01T00:00:00",
          "2011-04-01T00:00:00",
          "2011-05-01T00:00:00",
          "2011-06-01T00:00:00",
          "2011-07-01T00:00:00",
          "2011-08-01T00:00:00",
          "2011-09-01T00:00:00",
          "2011-10-01T00:00:00",
          "2011-11-01T00:00:00",
          "2011-12-01T00:00:00",
          "2012-01-01T00:00:00",
          "2012-02-01T00:00:00",
          "2012-03-01T00:00:00",
          "2012-04-01T00:00:00",
          "2012-05-01T00:00:00",
          "2012-06-01T00:00:00",
          "2012-07-01T00:00:00",
          "2012-08-01T00:00:00",
          "2012-09-01T00:00:00",
          "2012-10-01T00:00:00",
          "2012-11-01T00:00:00",
          "2012-12-01T00:00:00",
          "2013-01-01T00:00:00",
          "2013-02-01T00:00:00",
          "2013-03-01T00:00:00",
          "2013-04-01T00:00:00",
          "2013-05-01T00:00:00",
          "2013-06-01T00:00:00",
          "2013-07-01T00:00:00",
          "2013-08-01T00:00:00",
          "2013-09-01T00:00:00",
          "2013-10-01T00:00:00",
          "2013-11-01T00:00:00",
          "2013-12-01T00:00:00",
          "2014-01-01T00:00:00",
          "2014-02-01T00:00:00",
          "2014-03-01T00:00:00",
          "2014-04-01T00:00:00",
          "2014-05-01T00:00:00",
          "2014-06-01T00:00:00",
          "2014-07-01T00:00:00",
          "2014-08-01T00:00:00",
          "2014-09-01T00:00:00",
          "2014-10-01T00:00:00",
          "2014-11-01T00:00:00",
          "2014-12-01T00:00:00",
          "2015-01-01T00:00:00",
          "2015-02-01T00:00:00",
          "2015-03-01T00:00:00",
          "2015-04-01T00:00:00",
          "2015-05-01T00:00:00",
          "2015-06-01T00:00:00",
          "2015-07-01T00:00:00",
          "2015-08-01T00:00:00",
          "2015-09-01T00:00:00",
          "2015-10-01T00:00:00",
          "2015-11-01T00:00:00",
          "2015-12-01T00:00:00",
          "2016-01-01T00:00:00",
          "2016-02-01T00:00:00",
          "2016-03-01T00:00:00",
          "2016-04-01T00:00:00",
          "2016-05-01T00:00:00",
          "2016-06-01T00:00:00",
          "2016-07-01T00:00:00",
          "2016-08-01T00:00:00",
          "2016-09-01T00:00:00",
          "2016-10-01T00:00:00",
          "2016-11-01T00:00:00",
          "2016-12-01T00:00:00",
          "2017-01-01T00:00:00",
          "2017-02-01T00:00:00",
          "2017-03-01T00:00:00",
          "2017-04-01T00:00:00",
          "2017-05-01T00:00:00",
          "2017-06-01T00:00:00",
          "2017-07-01T00:00:00",
          "2017-08-01T00:00:00",
          "2017-09-01T00:00:00",
          "2017-10-01T00:00:00",
          "2017-11-01T00:00:00",
          "2017-12-01T00:00:00",
          "2018-01-01T00:00:00",
          "2018-02-01T00:00:00",
          "2018-03-01T00:00:00",
          "2018-04-01T00:00:00",
          "2018-05-01T00:00:00",
          "2018-06-01T00:00:00",
          "2018-07-01T00:00:00",
          "2018-08-01T00:00:00",
          "2018-09-01T00:00:00",
          "2018-10-01T00:00:00",
          "2018-11-01T00:00:00",
          "2018-12-01T00:00:00",
          "2019-01-01T00:00:00",
          "2019-02-01T00:00:00",
          "2019-03-01T00:00:00",
          "2019-04-01T00:00:00",
          "2019-05-01T00:00:00",
          "2019-06-01T00:00:00",
          "2019-07-01T00:00:00",
          "2019-08-01T00:00:00",
          "2019-09-01T00:00:00",
          "2019-10-01T00:00:00",
          "2019-11-01T00:00:00",
          "2019-12-01T00:00:00",
          "2020-01-01T00:00:00",
          "2020-02-01T00:00:00",
          "2020-03-01T00:00:00",
          "2020-04-01T00:00:00",
          "2020-05-01T00:00:00",
          "2020-06-01T00:00:00",
          "2020-07-01T00:00:00",
          "2020-08-01T00:00:00",
          "2020-09-01T00:00:00",
          "2020-10-01T00:00:00",
          "2020-11-01T00:00:00",
          "2020-12-01T00:00:00",
          "2021-01-01T00:00:00",
          "2021-02-01T00:00:00",
          "2021-03-01T00:00:00",
          "2021-04-01T00:00:00",
          "2021-05-01T00:00:00",
          "2021-06-01T00:00:00",
          "2021-07-01T00:00:00",
          "2021-08-01T00:00:00",
          "2021-09-01T00:00:00",
          "2021-10-01T00:00:00",
          "2021-11-01T00:00:00",
          "2021-12-01T00:00:00",
          "2022-01-01T00:00:00",
          "2022-02-01T00:00:00",
          "2022-03-01T00:00:00",
          "2022-04-01T00:00:00",
          "2022-05-01T00:00:00",
          "2022-06-01T00:00:00",
          "2022-07-01T00:00:00",
          "2022-08-01T00:00:00",
          "2022-09-01T00:00:00",
          "2022-10-01T00:00:00",
          "2022-11-01T00:00:00",
          "2022-12-01T00:00:00",
          "2023-02-01T00:00:00",
          "2023-03-01T00:00:00",
          "2023-04-01T00:00:00",
          "2023-05-01T00:00:00"
         ],
         "y": [
          61357528.003485255,
          61357528.003485255,
          54544045.15380776,
          58307818.83408052,
          48618369.08677866,
          48262727.48420364,
          48267578.832565725,
          46015272.55244684,
          45542855.45060968,
          47162688.08448724,
          50967162.14802846,
          55927536.29689138,
          57669417.35859522,
          59411298.42029906,
          59499781.50134181,
          49015250.1698214,
          50639322.73795264,
          48161255.10724282,
          45458597.83237527,
          40597048.91814447,
          47082368.17037398,
          51775114.44284722,
          55411410.029138446,
          61109656.48313493,
          64881100.28679375,
          55035536.10898639,
          54330931.49882817,
          52834709.09505234,
          44837660.32395775,
          47326376.53553812,
          41244201.70342212,
          50123516.27348839,
          49757263.93024928,
          48723591.23102482,
          55338622.21570942,
          59961920.80119619,
          60883410.1532277,
          53421271.304703735,
          58295976.86488835,
          46190470.773140654,
          51446936.1416828,
          42654828.56425704,
          40154760.37264916,
          45422069.13766296,
          45555199.23540964,
          50485265.661763735,
          51408381.29612077,
          58800098.53859541,
          64742513.17216955,
          56333035.34688964,
          54258002.03101973,
          54084582.88013565,
          46403587.72858117,
          43098191.32413844,
          47751565.92235927,
          47624866.6768359,
          45191728.23224369,
          49231707.664604194,
          55172866.425352536,
          56081920.62736177,
          59968081.32523425,
          51428424.82941066,
          53389560.435433805,
          45989219.71219367,
          43198618.25141236,
          43089203.348458365,
          44574008.10060252,
          42646567.594571605,
          45227183.252495855,
          47750116.62484308,
          51284360.18845273,
          54327841.68805702,
          57603048.23697276,
          51187490.301818594,
          53169138.85295275,
          45984910.95897505,
          44993678.712049626,
          40171428.01534345,
          42839389.14044157,
          42027596.77027702,
          42361095.20262042,
          47351601.35508815,
          51068124.56296495,
          52436050.39986215,
          54067650.36242929,
          48044119.50860978,
          51382704.742909566,
          43956653.526976325,
          42572459.56396543,
          40094145.48115823,
          41197669.18976424,
          40120349.30821239,
          41446133.69319655,
          44478124.52015514,
          48165710.064892255,
          51601153.67465331,
          56146133.10886745,
          51813859.65658411,
          47826939.96218655,
          42298252.11477925,
          37997909.21451751,
          39070539.92650116,
          38847540.506052025,
          38077453.717742845,
          39928580.05464663,
          45128327.38276943,
          47773604.1768398,
          50729745.39317597,
          55365704.13195693,
          45093240.98929585,
          49652507.45422945,
          44083899.82574085,
          43222267.99387345,
          36618792.22906289,
          38204616.81581582,
          39896856.93562017,
          39837533.525798105,
          42020774.1740024,
          48489732.60876864,
          49842811.29465455,
          51784437.03025709,
          48308747.054054,
          47190414.134674825,
          38221001.50984291,
          36908888.02432785,
          38093663.43741135,
          38757160.12914725,
          37365959.4082657,
          37453065.06332865,
          42145779.51595436,
          47580625.44030581,
          50371762.20887229,
          52147801.847861,
          41794590.14775994,
          44947407.78887683,
          39113948.04580736,
          32709661.63080115,
          29017001.727723207,
          30310207.02774855,
          29299321.948592424,
          29929984.620199088,
          36135443.06353941,
          40093657.25090695,
          40644512.0073544,
          42215081.52404349,
          37471827.77661941,
          38064737.9656765,
          27882017.280649453,
          26283515.99385269,
          23803497.01999716,
          24748799.658579275,
          24157074.53218712,
          24956495.332394764,
          30042293.42474316,
          34201335.88689204,
          35206050.96760848,
          37643075.62298716,
          32662940.771675237,
          33333810.980190963,
          24936182.779669423,
          23119395.30861837,
          20551745.07168944,
          21884418.542426027,
          21017275.289172277,
          21947021.810688674,
          26950516.05538939,
          30732329.409705475,
          32256666.33666648,
          47492862.13574769,
          48781109.67926979,
          42742065.49181621,
          41105583.73821583
         ]
        },
        {
         "name": "SARIMAX Val",
         "type": "scatter",
         "x": [
          "2009-01-01T00:00:00",
          "2009-02-01T00:00:00",
          "2009-03-01T00:00:00",
          "2009-04-01T00:00:00",
          "2009-05-01T00:00:00",
          "2009-06-01T00:00:00",
          "2009-07-01T00:00:00",
          "2009-08-01T00:00:00",
          "2009-09-01T00:00:00",
          "2009-10-01T00:00:00",
          "2009-11-01T00:00:00",
          "2009-12-01T00:00:00",
          "2010-01-01T00:00:00",
          "2010-02-01T00:00:00",
          "2010-03-01T00:00:00",
          "2010-04-01T00:00:00",
          "2010-05-01T00:00:00",
          "2010-06-01T00:00:00",
          "2010-07-01T00:00:00",
          "2010-08-01T00:00:00",
          "2010-09-01T00:00:00",
          "2010-10-01T00:00:00",
          "2010-11-01T00:00:00",
          "2010-12-01T00:00:00",
          "2011-01-01T00:00:00",
          "2011-02-01T00:00:00",
          "2011-03-01T00:00:00",
          "2011-04-01T00:00:00",
          "2011-05-01T00:00:00",
          "2011-06-01T00:00:00",
          "2011-07-01T00:00:00",
          "2011-08-01T00:00:00",
          "2011-09-01T00:00:00",
          "2011-10-01T00:00:00",
          "2011-11-01T00:00:00",
          "2011-12-01T00:00:00",
          "2012-01-01T00:00:00",
          "2012-02-01T00:00:00",
          "2012-03-01T00:00:00",
          "2012-04-01T00:00:00",
          "2012-05-01T00:00:00",
          "2012-06-01T00:00:00",
          "2012-07-01T00:00:00",
          "2012-08-01T00:00:00",
          "2012-09-01T00:00:00",
          "2012-10-01T00:00:00",
          "2012-11-01T00:00:00",
          "2012-12-01T00:00:00",
          "2013-01-01T00:00:00",
          "2013-02-01T00:00:00",
          "2013-03-01T00:00:00",
          "2013-04-01T00:00:00",
          "2013-05-01T00:00:00",
          "2013-06-01T00:00:00",
          "2013-07-01T00:00:00",
          "2013-08-01T00:00:00",
          "2013-09-01T00:00:00",
          "2013-10-01T00:00:00",
          "2013-11-01T00:00:00",
          "2013-12-01T00:00:00",
          "2014-01-01T00:00:00",
          "2014-02-01T00:00:00",
          "2014-03-01T00:00:00",
          "2014-04-01T00:00:00",
          "2014-05-01T00:00:00",
          "2014-06-01T00:00:00",
          "2014-07-01T00:00:00",
          "2014-08-01T00:00:00",
          "2014-09-01T00:00:00",
          "2014-10-01T00:00:00",
          "2014-11-01T00:00:00",
          "2014-12-01T00:00:00",
          "2015-01-01T00:00:00",
          "2015-02-01T00:00:00",
          "2015-03-01T00:00:00",
          "2015-04-01T00:00:00",
          "2015-05-01T00:00:00",
          "2015-06-01T00:00:00",
          "2015-07-01T00:00:00",
          "2015-08-01T00:00:00",
          "2015-09-01T00:00:00",
          "2015-10-01T00:00:00",
          "2015-11-01T00:00:00",
          "2015-12-01T00:00:00",
          "2016-01-01T00:00:00",
          "2016-02-01T00:00:00",
          "2016-03-01T00:00:00",
          "2016-04-01T00:00:00",
          "2016-05-01T00:00:00",
          "2016-06-01T00:00:00",
          "2016-07-01T00:00:00",
          "2016-08-01T00:00:00",
          "2016-09-01T00:00:00",
          "2016-10-01T00:00:00",
          "2016-11-01T00:00:00",
          "2016-12-01T00:00:00",
          "2017-01-01T00:00:00",
          "2017-02-01T00:00:00",
          "2017-03-01T00:00:00",
          "2017-04-01T00:00:00",
          "2017-05-01T00:00:00",
          "2017-06-01T00:00:00",
          "2017-07-01T00:00:00",
          "2017-08-01T00:00:00",
          "2017-09-01T00:00:00",
          "2017-10-01T00:00:00",
          "2017-11-01T00:00:00",
          "2017-12-01T00:00:00",
          "2018-01-01T00:00:00",
          "2018-02-01T00:00:00",
          "2018-03-01T00:00:00",
          "2018-04-01T00:00:00",
          "2018-05-01T00:00:00",
          "2018-06-01T00:00:00",
          "2018-07-01T00:00:00",
          "2018-08-01T00:00:00",
          "2018-09-01T00:00:00",
          "2018-10-01T00:00:00",
          "2018-11-01T00:00:00",
          "2018-12-01T00:00:00",
          "2019-01-01T00:00:00",
          "2019-02-01T00:00:00",
          "2019-03-01T00:00:00",
          "2019-04-01T00:00:00",
          "2019-05-01T00:00:00",
          "2019-06-01T00:00:00",
          "2019-07-01T00:00:00",
          "2019-08-01T00:00:00",
          "2019-09-01T00:00:00",
          "2019-10-01T00:00:00",
          "2019-11-01T00:00:00",
          "2019-12-01T00:00:00",
          "2020-01-01T00:00:00",
          "2020-02-01T00:00:00",
          "2020-03-01T00:00:00",
          "2020-04-01T00:00:00",
          "2020-05-01T00:00:00",
          "2020-06-01T00:00:00",
          "2020-07-01T00:00:00",
          "2020-08-01T00:00:00",
          "2020-09-01T00:00:00",
          "2020-10-01T00:00:00",
          "2020-11-01T00:00:00",
          "2020-12-01T00:00:00",
          "2021-01-01T00:00:00",
          "2021-02-01T00:00:00",
          "2021-03-01T00:00:00",
          "2021-04-01T00:00:00",
          "2021-05-01T00:00:00",
          "2021-06-01T00:00:00",
          "2021-07-01T00:00:00",
          "2021-08-01T00:00:00",
          "2021-09-01T00:00:00",
          "2021-10-01T00:00:00",
          "2021-11-01T00:00:00",
          "2021-12-01T00:00:00",
          "2022-01-01T00:00:00",
          "2022-02-01T00:00:00",
          "2022-03-01T00:00:00",
          "2022-04-01T00:00:00",
          "2022-05-01T00:00:00",
          "2022-06-01T00:00:00",
          "2022-07-01T00:00:00",
          "2022-08-01T00:00:00",
          "2022-09-01T00:00:00",
          "2022-10-01T00:00:00",
          "2022-11-01T00:00:00",
          "2022-12-01T00:00:00",
          "2023-01-01T00:00:00",
          "2023-01-01T00:00:00",
          "2023-02-01T00:00:00",
          "2023-03-01T00:00:00",
          "2023-04-01T00:00:00",
          "2023-05-01T00:00:00"
         ],
         "y": [
          59315566.05325434,
          59315566.05325434,
          52244685.32469043,
          53540933.34751277,
          49648834.63530697,
          43744708.83017925,
          48836347.60233887,
          46588153.06843688,
          45777059.973332696,
          51991867.43748266,
          52051457.35973294,
          60073636.26254847,
          59425446.32884026,
          58777256.39513206,
          60136003.3568006,
          48735839.275753,
          48605236.8345146,
          48650898.32652627,
          43715837.99035483,
          41816170.10660098,
          47779864.68428002,
          51137788.25086372,
          58466587.40594022,
          61244894.97933843,
          62950700.12464587,
          55118197.69369059,
          54219245.54829746,
          50871645.73137674,
          46953612.19661045,
          47444505.97708202,
          41390840.01392192,
          49072492.546662696,
          49275554.18523839,
          49371072.47957996,
          54037840.23355386,
          60348531.40631801,
          60693181.86953125,
          55585591.95771027,
          55802862.90339866,
          50358315.573151246,
          47776919.17091806,
          43853891.84559732,
          38790242.46354566,
          44594617.27312201,
          47323927.25320508,
          51511868.03353029,
          52639058.88780262,
          57917442.029432975,
          64336550.63627757,
          55963694.30100506,
          57465250.71337772,
          49823451.90148885,
          46593243.99780954,
          40140954.465539135,
          47248608.17541365,
          49244558.95167868,
          45236972.57055376,
          49095907.44411202,
          56061565.87653386,
          55418024.75247664,
          58471804.619954765,
          50900422.02695507,
          52776779.1049284,
          46438407.87752749,
          43703269.19508851,
          42973171.89891423,
          45557044.17841692,
          44242041.08086556,
          42651023.7622769,
          48753980.59857051,
          51290588.39183485,
          54648110.98122632,
          57695699.75373429,
          50889839.38612224,
          53192123.32791524,
          45726751.94793908,
          44925029.32567553,
          40036767.38696914,
          43949862.42279945,
          39060006.77444703,
          45025298.4747065,
          46044987.02222896,
          50669424.20163482,
          50785560.19863413,
          53554007.968544014,
          49135020.90262554,
          51266807.76166569,
          45008454.49706069,
          40477341.05021028,
          40049226.74188065,
          42286392.283707656,
          39813956.66766296,
          40183362.212890096,
          47531969.59962397,
          48814548.26080671,
          50972467.3687736,
          55491274.9162779,
          49546622.91016704,
          47635202.31954952,
          41684032.29983847,
          38150606.642752334,
          40209233.73324461,
          38242159.9163497,
          39219051.08217951,
          40512075.18158014,
          43053250.05202981,
          49630984.84515612,
          50159650.92736752,
          53335403.69929463,
          47500168.638908766,
          50161521.15852851,
          42669960.16653441,
          41398241.71665687,
          36029339.230132654,
          37690703.40418073,
          40715313.64606065,
          41134824.78841589,
          42384046.47970542,
          46829324.02875041,
          50571215.34948863,
          52173254.6593034,
          44250486.3481466,
          48327984.25906668,
          39150139.51236457,
          39858781.52419876,
          37664645.713197246,
          38625574.95873961,
          36469807.89548431,
          36260317.153100565,
          44223567.44755293,
          47814676.5831361,
          49067413.15180936,
          50636467.81512439,
          43441784.23716356,
          45033763.02011749,
          38424692.81328552,
          36884804.50918826,
          35477185.99803233,
          38800080.71078748,
          35475470.02336933,
          36622737.76893513,
          42081501.10647358,
          44977486.43307618,
          47802449.79259309,
          49775411.36220057,
          43676736.56695995,
          43650012.06771216,
          39691344.363836594,
          37848559.879362345,
          33107866.63140096,
          34276931.172311485,
          33994956.92561987,
          33719021.89143836,
          39779610.61731456,
          44650965.037539706,
          46155922.07288158,
          47125125.81283566,
          41824416.62010334,
          42286539.19897043,
          38235806.2425525,
          37030993.63429215,
          34169989.35356207,
          35327095.354484215,
          32830385.22881093,
          35059391.39151702,
          39366136.10131475,
          43563165.90043632,
          46531047.89876088,
          46372535.4699362,
          46374698.45344192,
          40355245.795708805,
          42407071.06711555,
          36677769.72308569,
          33967764.574938804
         ]
        }
       ],
       "layout": {
        "annotations": [
         {
          "font": {
           "color": "black"
          },
          "showarrow": false,
          "text": "Train",
          "x": "2015-06-01",
          "y": 65015253
         },
         {
          "font": {
           "color": "black"
          },
          "showarrow": false,
          "text": "Test",
          "x": "2021-01-01",
          "y": 65015253
         },
         {
          "font": {
           "color": "black"
          },
          "showarrow": false,
          "text": "Validation",
          "x": "2023-01-01T00:00:00",
          "y": 65015253
         }
        ],
        "legend": {
         "x": 1.05,
         "y": 1
        },
        "shapes": [
         {
          "fillcolor": "lightblue",
          "layer": "below",
          "line": {
           "width": 0
          },
          "name": "Train",
          "opacity": 0.5,
          "type": "rect",
          "x0": "2009-01-01",
          "x1": "2020-05-01",
          "y0": 32156997,
          "y1": 65015253
         },
         {
          "fillcolor": "lightcoral",
          "layer": "below",
          "line": {
           "width": 0
          },
          "name": "Test",
          "opacity": 0.5,
          "type": "rect",
          "x0": "2020-06-01",
          "x1": "2023-01-01",
          "y0": 32156997,
          "y1": 65015253
         },
         {
          "fillcolor": "lightgreen",
          "layer": "below",
          "line": {
           "width": 0
          },
          "name": "Validation",
          "opacity": 0.5,
          "type": "rect",
          "x0": "2023-01-01T00:00:00",
          "x1": "2023-05-01T00:00:00",
          "y0": 32156997,
          "y1": 65015253
         }
        ],
        "showlegend": true,
        "template": {
         "data": {
          "bar": [
           {
            "error_x": {
             "color": "#2a3f5f"
            },
            "error_y": {
             "color": "#2a3f5f"
            },
            "marker": {
             "line": {
              "color": "#E5ECF6",
              "width": 0.5
             }
            },
            "type": "bar"
           }
          ],
          "barpolar": [
           {
            "marker": {
             "line": {
              "color": "#E5ECF6",
              "width": 0.5
             }
            },
            "type": "barpolar"
           }
          ],
          "carpet": [
           {
            "aaxis": {
             "endlinecolor": "#2a3f5f",
             "gridcolor": "white",
             "linecolor": "white",
             "minorgridcolor": "white",
             "startlinecolor": "#2a3f5f"
            },
            "baxis": {
             "endlinecolor": "#2a3f5f",
             "gridcolor": "white",
             "linecolor": "white",
             "minorgridcolor": "white",
             "startlinecolor": "#2a3f5f"
            },
            "type": "carpet"
           }
          ],
          "choropleth": [
           {
            "colorbar": {
             "outlinewidth": 0,
             "ticks": ""
            },
            "type": "choropleth"
           }
          ],
          "contour": [
           {
            "colorbar": {
             "outlinewidth": 0,
             "ticks": ""
            },
            "colorscale": [
             [
              0,
              "#0d0887"
             ],
             [
              0.1111111111111111,
              "#46039f"
             ],
             [
              0.2222222222222222,
              "#7201a8"
             ],
             [
              0.3333333333333333,
              "#9c179e"
             ],
             [
              0.4444444444444444,
              "#bd3786"
             ],
             [
              0.5555555555555556,
              "#d8576b"
             ],
             [
              0.6666666666666666,
              "#ed7953"
             ],
             [
              0.7777777777777778,
              "#fb9f3a"
             ],
             [
              0.8888888888888888,
              "#fdca26"
             ],
             [
              1,
              "#f0f921"
             ]
            ],
            "type": "contour"
           }
          ],
          "contourcarpet": [
           {
            "colorbar": {
             "outlinewidth": 0,
             "ticks": ""
            },
            "type": "contourcarpet"
           }
          ],
          "heatmap": [
           {
            "colorbar": {
             "outlinewidth": 0,
             "ticks": ""
            },
            "colorscale": [
             [
              0,
              "#0d0887"
             ],
             [
              0.1111111111111111,
              "#46039f"
             ],
             [
              0.2222222222222222,
              "#7201a8"
             ],
             [
              0.3333333333333333,
              "#9c179e"
             ],
             [
              0.4444444444444444,
              "#bd3786"
             ],
             [
              0.5555555555555556,
              "#d8576b"
             ],
             [
              0.6666666666666666,
              "#ed7953"
             ],
             [
              0.7777777777777778,
              "#fb9f3a"
             ],
             [
              0.8888888888888888,
              "#fdca26"
             ],
             [
              1,
              "#f0f921"
             ]
            ],
            "type": "heatmap"
           }
          ],
          "heatmapgl": [
           {
            "colorbar": {
             "outlinewidth": 0,
             "ticks": ""
            },
            "colorscale": [
             [
              0,
              "#0d0887"
             ],
             [
              0.1111111111111111,
              "#46039f"
             ],
             [
              0.2222222222222222,
              "#7201a8"
             ],
             [
              0.3333333333333333,
              "#9c179e"
             ],
             [
              0.4444444444444444,
              "#bd3786"
             ],
             [
              0.5555555555555556,
              "#d8576b"
             ],
             [
              0.6666666666666666,
              "#ed7953"
             ],
             [
              0.7777777777777778,
              "#fb9f3a"
             ],
             [
              0.8888888888888888,
              "#fdca26"
             ],
             [
              1,
              "#f0f921"
             ]
            ],
            "type": "heatmapgl"
           }
          ],
          "histogram": [
           {
            "marker": {
             "colorbar": {
              "outlinewidth": 0,
              "ticks": ""
             }
            },
            "type": "histogram"
           }
          ],
          "histogram2d": [
           {
            "colorbar": {
             "outlinewidth": 0,
             "ticks": ""
            },
            "colorscale": [
             [
              0,
              "#0d0887"
             ],
             [
              0.1111111111111111,
              "#46039f"
             ],
             [
              0.2222222222222222,
              "#7201a8"
             ],
             [
              0.3333333333333333,
              "#9c179e"
             ],
             [
              0.4444444444444444,
              "#bd3786"
             ],
             [
              0.5555555555555556,
              "#d8576b"
             ],
             [
              0.6666666666666666,
              "#ed7953"
             ],
             [
              0.7777777777777778,
              "#fb9f3a"
             ],
             [
              0.8888888888888888,
              "#fdca26"
             ],
             [
              1,
              "#f0f921"
             ]
            ],
            "type": "histogram2d"
           }
          ],
          "histogram2dcontour": [
           {
            "colorbar": {
             "outlinewidth": 0,
             "ticks": ""
            },
            "colorscale": [
             [
              0,
              "#0d0887"
             ],
             [
              0.1111111111111111,
              "#46039f"
             ],
             [
              0.2222222222222222,
              "#7201a8"
             ],
             [
              0.3333333333333333,
              "#9c179e"
             ],
             [
              0.4444444444444444,
              "#bd3786"
             ],
             [
              0.5555555555555556,
              "#d8576b"
             ],
             [
              0.6666666666666666,
              "#ed7953"
             ],
             [
              0.7777777777777778,
              "#fb9f3a"
             ],
             [
              0.8888888888888888,
              "#fdca26"
             ],
             [
              1,
              "#f0f921"
             ]
            ],
            "type": "histogram2dcontour"
           }
          ],
          "mesh3d": [
           {
            "colorbar": {
             "outlinewidth": 0,
             "ticks": ""
            },
            "type": "mesh3d"
           }
          ],
          "parcoords": [
           {
            "line": {
             "colorbar": {
              "outlinewidth": 0,
              "ticks": ""
             }
            },
            "type": "parcoords"
           }
          ],
          "pie": [
           {
            "automargin": true,
            "type": "pie"
           }
          ],
          "scatter": [
           {
            "marker": {
             "colorbar": {
              "outlinewidth": 0,
              "ticks": ""
             }
            },
            "type": "scatter"
           }
          ],
          "scatter3d": [
           {
            "line": {
             "colorbar": {
              "outlinewidth": 0,
              "ticks": ""
             }
            },
            "marker": {
             "colorbar": {
              "outlinewidth": 0,
              "ticks": ""
             }
            },
            "type": "scatter3d"
           }
          ],
          "scattercarpet": [
           {
            "marker": {
             "colorbar": {
              "outlinewidth": 0,
              "ticks": ""
             }
            },
            "type": "scattercarpet"
           }
          ],
          "scattergeo": [
           {
            "marker": {
             "colorbar": {
              "outlinewidth": 0,
              "ticks": ""
             }
            },
            "type": "scattergeo"
           }
          ],
          "scattergl": [
           {
            "marker": {
             "colorbar": {
              "outlinewidth": 0,
              "ticks": ""
             }
            },
            "type": "scattergl"
           }
          ],
          "scattermapbox": [
           {
            "marker": {
             "colorbar": {
              "outlinewidth": 0,
              "ticks": ""
             }
            },
            "type": "scattermapbox"
           }
          ],
          "scatterpolar": [
           {
            "marker": {
             "colorbar": {
              "outlinewidth": 0,
              "ticks": ""
             }
            },
            "type": "scatterpolar"
           }
          ],
          "scatterpolargl": [
           {
            "marker": {
             "colorbar": {
              "outlinewidth": 0,
              "ticks": ""
             }
            },
            "type": "scatterpolargl"
           }
          ],
          "scatterternary": [
           {
            "marker": {
             "colorbar": {
              "outlinewidth": 0,
              "ticks": ""
             }
            },
            "type": "scatterternary"
           }
          ],
          "surface": [
           {
            "colorbar": {
             "outlinewidth": 0,
             "ticks": ""
            },
            "colorscale": [
             [
              0,
              "#0d0887"
             ],
             [
              0.1111111111111111,
              "#46039f"
             ],
             [
              0.2222222222222222,
              "#7201a8"
             ],
             [
              0.3333333333333333,
              "#9c179e"
             ],
             [
              0.4444444444444444,
              "#bd3786"
             ],
             [
              0.5555555555555556,
              "#d8576b"
             ],
             [
              0.6666666666666666,
              "#ed7953"
             ],
             [
              0.7777777777777778,
              "#fb9f3a"
             ],
             [
              0.8888888888888888,
              "#fdca26"
             ],
             [
              1,
              "#f0f921"
             ]
            ],
            "type": "surface"
           }
          ],
          "table": [
           {
            "cells": {
             "fill": {
              "color": "#EBF0F8"
             },
             "line": {
              "color": "white"
             }
            },
            "header": {
             "fill": {
              "color": "#C8D4E3"
             },
             "line": {
              "color": "white"
             }
            },
            "type": "table"
           }
          ]
         },
         "layout": {
          "annotationdefaults": {
           "arrowcolor": "#2a3f5f",
           "arrowhead": 0,
           "arrowwidth": 1
          },
          "coloraxis": {
           "colorbar": {
            "outlinewidth": 0,
            "ticks": ""
           }
          },
          "colorscale": {
           "diverging": [
            [
             0,
             "#8e0152"
            ],
            [
             0.1,
             "#c51b7d"
            ],
            [
             0.2,
             "#de77ae"
            ],
            [
             0.3,
             "#f1b6da"
            ],
            [
             0.4,
             "#fde0ef"
            ],
            [
             0.5,
             "#f7f7f7"
            ],
            [
             0.6,
             "#e6f5d0"
            ],
            [
             0.7,
             "#b8e186"
            ],
            [
             0.8,
             "#7fbc41"
            ],
            [
             0.9,
             "#4d9221"
            ],
            [
             1,
             "#276419"
            ]
           ],
           "sequential": [
            [
             0,
             "#0d0887"
            ],
            [
             0.1111111111111111,
             "#46039f"
            ],
            [
             0.2222222222222222,
             "#7201a8"
            ],
            [
             0.3333333333333333,
             "#9c179e"
            ],
            [
             0.4444444444444444,
             "#bd3786"
            ],
            [
             0.5555555555555556,
             "#d8576b"
            ],
            [
             0.6666666666666666,
             "#ed7953"
            ],
            [
             0.7777777777777778,
             "#fb9f3a"
            ],
            [
             0.8888888888888888,
             "#fdca26"
            ],
            [
             1,
             "#f0f921"
            ]
           ],
           "sequentialminus": [
            [
             0,
             "#0d0887"
            ],
            [
             0.1111111111111111,
             "#46039f"
            ],
            [
             0.2222222222222222,
             "#7201a8"
            ],
            [
             0.3333333333333333,
             "#9c179e"
            ],
            [
             0.4444444444444444,
             "#bd3786"
            ],
            [
             0.5555555555555556,
             "#d8576b"
            ],
            [
             0.6666666666666666,
             "#ed7953"
            ],
            [
             0.7777777777777778,
             "#fb9f3a"
            ],
            [
             0.8888888888888888,
             "#fdca26"
            ],
            [
             1,
             "#f0f921"
            ]
           ]
          },
          "colorway": [
           "#636efa",
           "#EF553B",
           "#00cc96",
           "#ab63fa",
           "#FFA15A",
           "#19d3f3",
           "#FF6692",
           "#B6E880",
           "#FF97FF",
           "#FECB52"
          ],
          "font": {
           "color": "#2a3f5f"
          },
          "geo": {
           "bgcolor": "white",
           "lakecolor": "white",
           "landcolor": "#E5ECF6",
           "showlakes": true,
           "showland": true,
           "subunitcolor": "white"
          },
          "hoverlabel": {
           "align": "left"
          },
          "hovermode": "closest",
          "mapbox": {
           "style": "light"
          },
          "paper_bgcolor": "white",
          "plot_bgcolor": "#E5ECF6",
          "polar": {
           "angularaxis": {
            "gridcolor": "white",
            "linecolor": "white",
            "ticks": ""
           },
           "bgcolor": "#E5ECF6",
           "radialaxis": {
            "gridcolor": "white",
            "linecolor": "white",
            "ticks": ""
           }
          },
          "scene": {
           "xaxis": {
            "backgroundcolor": "#E5ECF6",
            "gridcolor": "white",
            "gridwidth": 2,
            "linecolor": "white",
            "showbackground": true,
            "ticks": "",
            "zerolinecolor": "white"
           },
           "yaxis": {
            "backgroundcolor": "#E5ECF6",
            "gridcolor": "white",
            "gridwidth": 2,
            "linecolor": "white",
            "showbackground": true,
            "ticks": "",
            "zerolinecolor": "white"
           },
           "zaxis": {
            "backgroundcolor": "#E5ECF6",
            "gridcolor": "white",
            "gridwidth": 2,
            "linecolor": "white",
            "showbackground": true,
            "ticks": "",
            "zerolinecolor": "white"
           }
          },
          "shapedefaults": {
           "line": {
            "color": "#2a3f5f"
           }
          },
          "ternary": {
           "aaxis": {
            "gridcolor": "white",
            "linecolor": "white",
            "ticks": ""
           },
           "baxis": {
            "gridcolor": "white",
            "linecolor": "white",
            "ticks": ""
           },
           "bgcolor": "#E5ECF6",
           "caxis": {
            "gridcolor": "white",
            "linecolor": "white",
            "ticks": ""
           }
          },
          "title": {
           "x": 0.05
          },
          "xaxis": {
           "automargin": true,
           "gridcolor": "white",
           "linecolor": "white",
           "ticks": "",
           "title": {
            "standoff": 15
           },
           "zerolinecolor": "white",
           "zerolinewidth": 2
          },
          "yaxis": {
           "automargin": true,
           "gridcolor": "white",
           "linecolor": "white",
           "ticks": "",
           "title": {
            "standoff": 15
           },
           "zerolinecolor": "white",
           "zerolinewidth": 2
          }
         }
        },
        "title": {
         "text": "<b>Compiled Predictions</b>",
         "x": 0.5,
         "xanchor": "center",
         "y": 0.95,
         "yanchor": "top"
        },
        "xaxis": {
         "rangeslider": {
          "visible": true
         },
         "title": {
          "text": "Date"
         }
        },
        "yaxis": {
         "title": {
          "text": "ND"
         }
        }
       }
      }
     },
     "metadata": {},
     "output_type": "display_data"
    }
   ],
   "source": [
    "fig = go.Figure()\n",
    "\n",
    "fig.add_trace(go.Scatter(x=df_monthly.index, y=df_monthly['nd'], name='Original data', line=dict(dash='dash')))\n",
    "fig.add_trace(go.Scatter(x=validation_monthly.index, y=validation_monthly['ND'], name='Validation', mode='lines'))\n",
    "fig.add_trace(go.Scatter(x=full_arima.index, y=full_arima.replace(0, None), name='ARIMA'))\n",
    "fig.add_trace(go.Scatter(x=full_sarima.index, y=full_sarima, name='SARIMA'))\n",
    "fig.add_trace(go.Scatter(x=full_sarimax.index, y=full_sarimax, name='SARIMAX Val'))\n",
    "\n",
    "# Add shaded regions\n",
    "fig.add_shape(type='rect', x0='2009-01-01', x1='2020-05-01', y0=fig.data[0].y.min(),\n",
    "              y1=fig.data[0].y.max(), fillcolor='lightblue', opacity=0.5, layer='below', line_width=0, name='Train')\n",
    "fig.add_shape(type='rect', x0='2020-06-01', x1='2023-01-01', y0=fig.data[0].y.min(),\n",
    "              y1=fig.data[0].y.max(), fillcolor='lightcoral', opacity=0.5, layer='below', line_width=0, name='Test')\n",
    "fig.add_shape(type='rect', x0=validation_monthly.index.min(), x1=validation_monthly.index.max(), y0=fig.data[0].y.min(), y1=fig.data[0].y.max(),\n",
    "              fillcolor='lightgreen', opacity=0.5, layer='below', line_width=0, name='Validation')\n",
    "\n",
    "fig.add_annotation(x='2015-06-01', y=fig.data[0].y.max(), text='Train', showarrow=False, font=dict(color='black'))\n",
    "fig.add_annotation(x='2021-01-01', y=fig.data[0].y.max(), text='Test', showarrow=False, font=dict(color='black'))\n",
    "fig.add_annotation(x=validation_monthly.index.min(), y=fig.data[0].y.max(), text='Validation', showarrow=False, font=dict(color='black'))\n",
    "\n",
    "fig.update_layout(\n",
    "    title={\n",
    "        'text': '<b>Compiled Predictions</b>',\n",
    "        'x': 0.5,\n",
    "        'xanchor': 'center',\n",
    "        'y': 0.95,\n",
    "        'yanchor': 'top'},\n",
    "    xaxis_title='Date',\n",
    "    yaxis_title='ND',\n",
    "    legend=dict(x=1.05, y=1),\n",
    "    showlegend=True,\n",
    "    xaxis_rangeslider_visible=True)\n",
    "\n",
    "fig.show()"
   ]
  },
  {
   "cell_type": "code",
   "execution_count": 424,
   "metadata": {},
   "outputs": [
    {
     "data": {
      "application/vnd.plotly.v1+json": {
       "config": {
        "plotlyServerURL": "https://plot.ly"
       },
       "data": [
        {
         "name": "ARIMA",
         "type": "scatter",
         "x": [
          "2023-01-01T00:00:00",
          "2023-02-01T00:00:00",
          "2023-03-01T00:00:00",
          "2023-04-01T00:00:00",
          "2023-05-01T00:00:00"
         ],
         "y": [
          48313210.39773087,
          39854191.74187284,
          41792906.142204925,
          36604597.015648425,
          34896342.04921263
         ]
        },
        {
         "name": "SARIMA",
         "type": "scatter",
         "x": [
          "2023-01-01T00:00:00",
          "2023-02-01T00:00:00",
          "2023-03-01T00:00:00",
          "2023-04-01T00:00:00",
          "2023-05-01T00:00:00"
         ],
         "y": [
          52699383.22429919,
          47492862.13574769,
          48781109.67926979,
          42742065.49181621,
          41105583.73821583
         ]
        },
        {
         "name": "SARIMAX",
         "type": "scatter",
         "x": [
          "2023-01-01T00:00:00",
          "2023-02-01T00:00:00",
          "2023-03-01T00:00:00",
          "2023-04-01T00:00:00",
          "2023-05-01T00:00:00"
         ],
         "y": [
          46374698.45344192,
          40355245.795708805,
          42407071.06711555,
          36677769.72308569,
          33967764.574938804
         ]
        },
        {
         "line": {
          "dash": "dash"
         },
         "mode": "lines",
         "name": "ND",
         "type": "scatter",
         "x": [
          "2023-01-01T00:00:00",
          "2023-02-01T00:00:00",
          "2023-03-01T00:00:00",
          "2023-04-01T00:00:00",
          "2023-05-01T00:00:00"
         ],
         "y": [
          45692038,
          39747240,
          43182167,
          36750722,
          28149577
         ]
        }
       ],
       "layout": {
        "legend": {
         "x": 1,
         "y": 0.5
        },
        "template": {
         "data": {
          "bar": [
           {
            "error_x": {
             "color": "#2a3f5f"
            },
            "error_y": {
             "color": "#2a3f5f"
            },
            "marker": {
             "line": {
              "color": "#E5ECF6",
              "width": 0.5
             }
            },
            "type": "bar"
           }
          ],
          "barpolar": [
           {
            "marker": {
             "line": {
              "color": "#E5ECF6",
              "width": 0.5
             }
            },
            "type": "barpolar"
           }
          ],
          "carpet": [
           {
            "aaxis": {
             "endlinecolor": "#2a3f5f",
             "gridcolor": "white",
             "linecolor": "white",
             "minorgridcolor": "white",
             "startlinecolor": "#2a3f5f"
            },
            "baxis": {
             "endlinecolor": "#2a3f5f",
             "gridcolor": "white",
             "linecolor": "white",
             "minorgridcolor": "white",
             "startlinecolor": "#2a3f5f"
            },
            "type": "carpet"
           }
          ],
          "choropleth": [
           {
            "colorbar": {
             "outlinewidth": 0,
             "ticks": ""
            },
            "type": "choropleth"
           }
          ],
          "contour": [
           {
            "colorbar": {
             "outlinewidth": 0,
             "ticks": ""
            },
            "colorscale": [
             [
              0,
              "#0d0887"
             ],
             [
              0.1111111111111111,
              "#46039f"
             ],
             [
              0.2222222222222222,
              "#7201a8"
             ],
             [
              0.3333333333333333,
              "#9c179e"
             ],
             [
              0.4444444444444444,
              "#bd3786"
             ],
             [
              0.5555555555555556,
              "#d8576b"
             ],
             [
              0.6666666666666666,
              "#ed7953"
             ],
             [
              0.7777777777777778,
              "#fb9f3a"
             ],
             [
              0.8888888888888888,
              "#fdca26"
             ],
             [
              1,
              "#f0f921"
             ]
            ],
            "type": "contour"
           }
          ],
          "contourcarpet": [
           {
            "colorbar": {
             "outlinewidth": 0,
             "ticks": ""
            },
            "type": "contourcarpet"
           }
          ],
          "heatmap": [
           {
            "colorbar": {
             "outlinewidth": 0,
             "ticks": ""
            },
            "colorscale": [
             [
              0,
              "#0d0887"
             ],
             [
              0.1111111111111111,
              "#46039f"
             ],
             [
              0.2222222222222222,
              "#7201a8"
             ],
             [
              0.3333333333333333,
              "#9c179e"
             ],
             [
              0.4444444444444444,
              "#bd3786"
             ],
             [
              0.5555555555555556,
              "#d8576b"
             ],
             [
              0.6666666666666666,
              "#ed7953"
             ],
             [
              0.7777777777777778,
              "#fb9f3a"
             ],
             [
              0.8888888888888888,
              "#fdca26"
             ],
             [
              1,
              "#f0f921"
             ]
            ],
            "type": "heatmap"
           }
          ],
          "heatmapgl": [
           {
            "colorbar": {
             "outlinewidth": 0,
             "ticks": ""
            },
            "colorscale": [
             [
              0,
              "#0d0887"
             ],
             [
              0.1111111111111111,
              "#46039f"
             ],
             [
              0.2222222222222222,
              "#7201a8"
             ],
             [
              0.3333333333333333,
              "#9c179e"
             ],
             [
              0.4444444444444444,
              "#bd3786"
             ],
             [
              0.5555555555555556,
              "#d8576b"
             ],
             [
              0.6666666666666666,
              "#ed7953"
             ],
             [
              0.7777777777777778,
              "#fb9f3a"
             ],
             [
              0.8888888888888888,
              "#fdca26"
             ],
             [
              1,
              "#f0f921"
             ]
            ],
            "type": "heatmapgl"
           }
          ],
          "histogram": [
           {
            "marker": {
             "colorbar": {
              "outlinewidth": 0,
              "ticks": ""
             }
            },
            "type": "histogram"
           }
          ],
          "histogram2d": [
           {
            "colorbar": {
             "outlinewidth": 0,
             "ticks": ""
            },
            "colorscale": [
             [
              0,
              "#0d0887"
             ],
             [
              0.1111111111111111,
              "#46039f"
             ],
             [
              0.2222222222222222,
              "#7201a8"
             ],
             [
              0.3333333333333333,
              "#9c179e"
             ],
             [
              0.4444444444444444,
              "#bd3786"
             ],
             [
              0.5555555555555556,
              "#d8576b"
             ],
             [
              0.6666666666666666,
              "#ed7953"
             ],
             [
              0.7777777777777778,
              "#fb9f3a"
             ],
             [
              0.8888888888888888,
              "#fdca26"
             ],
             [
              1,
              "#f0f921"
             ]
            ],
            "type": "histogram2d"
           }
          ],
          "histogram2dcontour": [
           {
            "colorbar": {
             "outlinewidth": 0,
             "ticks": ""
            },
            "colorscale": [
             [
              0,
              "#0d0887"
             ],
             [
              0.1111111111111111,
              "#46039f"
             ],
             [
              0.2222222222222222,
              "#7201a8"
             ],
             [
              0.3333333333333333,
              "#9c179e"
             ],
             [
              0.4444444444444444,
              "#bd3786"
             ],
             [
              0.5555555555555556,
              "#d8576b"
             ],
             [
              0.6666666666666666,
              "#ed7953"
             ],
             [
              0.7777777777777778,
              "#fb9f3a"
             ],
             [
              0.8888888888888888,
              "#fdca26"
             ],
             [
              1,
              "#f0f921"
             ]
            ],
            "type": "histogram2dcontour"
           }
          ],
          "mesh3d": [
           {
            "colorbar": {
             "outlinewidth": 0,
             "ticks": ""
            },
            "type": "mesh3d"
           }
          ],
          "parcoords": [
           {
            "line": {
             "colorbar": {
              "outlinewidth": 0,
              "ticks": ""
             }
            },
            "type": "parcoords"
           }
          ],
          "pie": [
           {
            "automargin": true,
            "type": "pie"
           }
          ],
          "scatter": [
           {
            "marker": {
             "colorbar": {
              "outlinewidth": 0,
              "ticks": ""
             }
            },
            "type": "scatter"
           }
          ],
          "scatter3d": [
           {
            "line": {
             "colorbar": {
              "outlinewidth": 0,
              "ticks": ""
             }
            },
            "marker": {
             "colorbar": {
              "outlinewidth": 0,
              "ticks": ""
             }
            },
            "type": "scatter3d"
           }
          ],
          "scattercarpet": [
           {
            "marker": {
             "colorbar": {
              "outlinewidth": 0,
              "ticks": ""
             }
            },
            "type": "scattercarpet"
           }
          ],
          "scattergeo": [
           {
            "marker": {
             "colorbar": {
              "outlinewidth": 0,
              "ticks": ""
             }
            },
            "type": "scattergeo"
           }
          ],
          "scattergl": [
           {
            "marker": {
             "colorbar": {
              "outlinewidth": 0,
              "ticks": ""
             }
            },
            "type": "scattergl"
           }
          ],
          "scattermapbox": [
           {
            "marker": {
             "colorbar": {
              "outlinewidth": 0,
              "ticks": ""
             }
            },
            "type": "scattermapbox"
           }
          ],
          "scatterpolar": [
           {
            "marker": {
             "colorbar": {
              "outlinewidth": 0,
              "ticks": ""
             }
            },
            "type": "scatterpolar"
           }
          ],
          "scatterpolargl": [
           {
            "marker": {
             "colorbar": {
              "outlinewidth": 0,
              "ticks": ""
             }
            },
            "type": "scatterpolargl"
           }
          ],
          "scatterternary": [
           {
            "marker": {
             "colorbar": {
              "outlinewidth": 0,
              "ticks": ""
             }
            },
            "type": "scatterternary"
           }
          ],
          "surface": [
           {
            "colorbar": {
             "outlinewidth": 0,
             "ticks": ""
            },
            "colorscale": [
             [
              0,
              "#0d0887"
             ],
             [
              0.1111111111111111,
              "#46039f"
             ],
             [
              0.2222222222222222,
              "#7201a8"
             ],
             [
              0.3333333333333333,
              "#9c179e"
             ],
             [
              0.4444444444444444,
              "#bd3786"
             ],
             [
              0.5555555555555556,
              "#d8576b"
             ],
             [
              0.6666666666666666,
              "#ed7953"
             ],
             [
              0.7777777777777778,
              "#fb9f3a"
             ],
             [
              0.8888888888888888,
              "#fdca26"
             ],
             [
              1,
              "#f0f921"
             ]
            ],
            "type": "surface"
           }
          ],
          "table": [
           {
            "cells": {
             "fill": {
              "color": "#EBF0F8"
             },
             "line": {
              "color": "white"
             }
            },
            "header": {
             "fill": {
              "color": "#C8D4E3"
             },
             "line": {
              "color": "white"
             }
            },
            "type": "table"
           }
          ]
         },
         "layout": {
          "annotationdefaults": {
           "arrowcolor": "#2a3f5f",
           "arrowhead": 0,
           "arrowwidth": 1
          },
          "coloraxis": {
           "colorbar": {
            "outlinewidth": 0,
            "ticks": ""
           }
          },
          "colorscale": {
           "diverging": [
            [
             0,
             "#8e0152"
            ],
            [
             0.1,
             "#c51b7d"
            ],
            [
             0.2,
             "#de77ae"
            ],
            [
             0.3,
             "#f1b6da"
            ],
            [
             0.4,
             "#fde0ef"
            ],
            [
             0.5,
             "#f7f7f7"
            ],
            [
             0.6,
             "#e6f5d0"
            ],
            [
             0.7,
             "#b8e186"
            ],
            [
             0.8,
             "#7fbc41"
            ],
            [
             0.9,
             "#4d9221"
            ],
            [
             1,
             "#276419"
            ]
           ],
           "sequential": [
            [
             0,
             "#0d0887"
            ],
            [
             0.1111111111111111,
             "#46039f"
            ],
            [
             0.2222222222222222,
             "#7201a8"
            ],
            [
             0.3333333333333333,
             "#9c179e"
            ],
            [
             0.4444444444444444,
             "#bd3786"
            ],
            [
             0.5555555555555556,
             "#d8576b"
            ],
            [
             0.6666666666666666,
             "#ed7953"
            ],
            [
             0.7777777777777778,
             "#fb9f3a"
            ],
            [
             0.8888888888888888,
             "#fdca26"
            ],
            [
             1,
             "#f0f921"
            ]
           ],
           "sequentialminus": [
            [
             0,
             "#0d0887"
            ],
            [
             0.1111111111111111,
             "#46039f"
            ],
            [
             0.2222222222222222,
             "#7201a8"
            ],
            [
             0.3333333333333333,
             "#9c179e"
            ],
            [
             0.4444444444444444,
             "#bd3786"
            ],
            [
             0.5555555555555556,
             "#d8576b"
            ],
            [
             0.6666666666666666,
             "#ed7953"
            ],
            [
             0.7777777777777778,
             "#fb9f3a"
            ],
            [
             0.8888888888888888,
             "#fdca26"
            ],
            [
             1,
             "#f0f921"
            ]
           ]
          },
          "colorway": [
           "#636efa",
           "#EF553B",
           "#00cc96",
           "#ab63fa",
           "#FFA15A",
           "#19d3f3",
           "#FF6692",
           "#B6E880",
           "#FF97FF",
           "#FECB52"
          ],
          "font": {
           "color": "#2a3f5f"
          },
          "geo": {
           "bgcolor": "white",
           "lakecolor": "white",
           "landcolor": "#E5ECF6",
           "showlakes": true,
           "showland": true,
           "subunitcolor": "white"
          },
          "hoverlabel": {
           "align": "left"
          },
          "hovermode": "closest",
          "mapbox": {
           "style": "light"
          },
          "paper_bgcolor": "white",
          "plot_bgcolor": "#E5ECF6",
          "polar": {
           "angularaxis": {
            "gridcolor": "white",
            "linecolor": "white",
            "ticks": ""
           },
           "bgcolor": "#E5ECF6",
           "radialaxis": {
            "gridcolor": "white",
            "linecolor": "white",
            "ticks": ""
           }
          },
          "scene": {
           "xaxis": {
            "backgroundcolor": "#E5ECF6",
            "gridcolor": "white",
            "gridwidth": 2,
            "linecolor": "white",
            "showbackground": true,
            "ticks": "",
            "zerolinecolor": "white"
           },
           "yaxis": {
            "backgroundcolor": "#E5ECF6",
            "gridcolor": "white",
            "gridwidth": 2,
            "linecolor": "white",
            "showbackground": true,
            "ticks": "",
            "zerolinecolor": "white"
           },
           "zaxis": {
            "backgroundcolor": "#E5ECF6",
            "gridcolor": "white",
            "gridwidth": 2,
            "linecolor": "white",
            "showbackground": true,
            "ticks": "",
            "zerolinecolor": "white"
           }
          },
          "shapedefaults": {
           "line": {
            "color": "#2a3f5f"
           }
          },
          "ternary": {
           "aaxis": {
            "gridcolor": "white",
            "linecolor": "white",
            "ticks": ""
           },
           "baxis": {
            "gridcolor": "white",
            "linecolor": "white",
            "ticks": ""
           },
           "bgcolor": "#E5ECF6",
           "caxis": {
            "gridcolor": "white",
            "linecolor": "white",
            "ticks": ""
           }
          },
          "title": {
           "x": 0.05
          },
          "xaxis": {
           "automargin": true,
           "gridcolor": "white",
           "linecolor": "white",
           "ticks": "",
           "title": {
            "standoff": 15
           },
           "zerolinecolor": "white",
           "zerolinewidth": 2
          },
          "yaxis": {
           "automargin": true,
           "gridcolor": "white",
           "linecolor": "white",
           "ticks": "",
           "title": {
            "standoff": 15
           },
           "zerolinecolor": "white",
           "zerolinewidth": 2
          }
         }
        },
        "title": {
         "text": "<b>ND Validation</b>",
         "x": 0.5,
         "xanchor": "center",
         "y": 0.95,
         "yanchor": "top"
        },
        "xaxis": {
         "tickformat": "%d-%b",
         "title": {
          "text": "Date"
         }
        },
        "yaxis": {
         "title": {
          "text": "ND"
         }
        }
       }
      }
     },
     "metadata": {},
     "output_type": "display_data"
    }
   ],
   "source": [
    "fig = go.Figure()\n",
    "\n",
    "fig.add_trace(go.Scatter(x=validation_monthly.index, y=arima_validation, name='ARIMA'))\n",
    "fig.add_trace(go.Scatter(x=validation_monthly.index, y=sarima_validation, name='SARIMA'))\n",
    "fig.add_trace(go.Scatter(x=validation_monthly.index, y=validation_sarimax_predictions, name='SARIMAX'))\n",
    "fig.add_trace(go.Scatter(x=validation_monthly.index, y=validation_monthly['ND'], name='ND', mode='lines', line=dict(dash='dash')))\n",
    "\n",
    "fig.update_layout(\n",
    "    title={\n",
    "        'text': '<b>ND Validation</b>',\n",
    "        'x': 0.5,\n",
    "        'y': 0.95,\n",
    "        'xanchor': 'center',\n",
    "        'yanchor': 'top',\n",
    "    },\n",
    "    xaxis_title='Date',\n",
    "    yaxis_title='ND',\n",
    "    legend=dict(x=1, y=0.5),\n",
    "    xaxis=dict(\n",
    "        tickformat='%d-%b'\n",
    "    )\n",
    ")\n",
    "\n",
    "fig.show()"
   ]
  }
 ],
 "metadata": {
  "kernelspec": {
   "display_name": "sro_capstone",
   "language": "python",
   "name": "python3"
  },
  "language_info": {
   "codemirror_mode": {
    "name": "ipython",
    "version": 3
   },
   "file_extension": ".py",
   "mimetype": "text/x-python",
   "name": "python",
   "nbconvert_exporter": "python",
   "pygments_lexer": "ipython3",
   "version": "3.8.16"
  },
  "orig_nbformat": 4
 },
 "nbformat": 4,
 "nbformat_minor": 2
}
