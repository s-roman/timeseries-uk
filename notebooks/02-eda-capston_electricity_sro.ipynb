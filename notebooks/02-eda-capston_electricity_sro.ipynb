{
 "cells": [
  {
   "attachments": {},
   "cell_type": "markdown",
   "id": "d030f45b",
   "metadata": {},
   "source": [
    "# **Exploratory Data Analysis (EDA)**\n",
    "\n",
    "This notebook aims to gain insights into the patterns, trends, and characteristics of our dataset. Through data exploration and visualization, our objective is to understand the underlying patterns, detect anomalies, and better understand energy demand behavior in the UK. We will utilize visualizations, statistical analysis, and decomposition techniques to delve into the dataset and uncover valuable insights. This exploration will lay the groundwork for subsequent analysis and modeling, empowering us to make informed decisions and accurate predictions."
   ]
  },
  {
   "attachments": {},
   "cell_type": "markdown",
   "id": "9a405a9d",
   "metadata": {},
   "source": [
    "## **Table of Contents**\n",
    "\n",
    "1. Imports and Data Load\n",
    "2. General Visualization\n",
    "4. Data Preview\n",
    "    - National Demand (target variable)\n",
    "    - Desagregated Energy Demand/Consumption\n",
    "    - Wind and Solar energy\n",
    "    - Import and export flows\n",
    "5. Data Decomposition \n",
    "    - Seasonal Plot\n",
    "    - Trend Seasonal Decomposition\n",
    "6. Data Saving"
   ]
  },
  {
   "attachments": {},
   "cell_type": "markdown",
   "id": "a9842e70",
   "metadata": {},
   "source": [
    "### **1. Imports and Data Load**"
   ]
  },
  {
   "cell_type": "code",
   "execution_count": null,
   "id": "c875e286",
   "metadata": {},
   "outputs": [],
   "source": [
    "#Import all relevant libraries\n",
    "import pandas as pd\n",
    "import numpy as np\n",
    "\n",
    "import seaborn as sns\n",
    "import matplotlib.pyplot as plt\n",
    "import plotly.express as px\n",
    "import plotly.graph_objs as go\n",
    "from plotly.subplots import make_subplots\n",
    "from statsmodels.graphics.tsaplots import month_plot\n",
    "\n",
    "from statsmodels.tsa.seasonal import seasonal_decompose\n",
    "\n",
    "from datetime import datetime, timedelta"
   ]
  },
  {
   "cell_type": "code",
   "execution_count": null,
   "id": "606d1d07",
   "metadata": {},
   "outputs": [],
   "source": [
    "import warnings\n",
    "warnings.simplefilter(action='ignore', category=FutureWarning)"
   ]
  },
  {
   "cell_type": "code",
   "execution_count": null,
   "id": "9d6d4de9",
   "metadata": {},
   "outputs": [],
   "source": [
    "#read csv and make firts column the index \n",
    "df = pd.read_csv('../data/historic_demand_2009_2023_cleaned.csv', index_col=0)\n",
    "df_monthly = pd.read_csv('../data/monthly_historic_demand_2009_2023_cleaned.csv', index_col=0)"
   ]
  },
  {
   "cell_type": "code",
   "execution_count": null,
   "id": "c20182d6",
   "metadata": {},
   "outputs": [],
   "source": [
    "#Check the read was ok\n",
    "df.head(3).T"
   ]
  },
  {
   "cell_type": "code",
   "execution_count": null,
   "id": "ac65ad6f",
   "metadata": {},
   "outputs": [],
   "source": [
    "#Check index type, when save to a csv the index type is not stored\n",
    "print(type(df.index))\n",
    "print(type(df_monthly.index))"
   ]
  },
  {
   "cell_type": "code",
   "execution_count": null,
   "id": "76ff224d",
   "metadata": {},
   "outputs": [],
   "source": [
    "#Make the index datetime \n",
    "df = df.set_index(pd.to_datetime(df.index))\n",
    "df_monthly = df_monthly.set_index(pd.to_datetime(df_monthly.index))\n",
    "\n",
    "#Sanity check of index characteristics \n",
    "print(f\"Index data type of df is: {type(df.index)}\")\n",
    "print(f\"Index data type of df_monthly is: {type(df_monthly.index)}\")\n",
    "print(f\"Index in increasing order: {df.index.is_monotonic_increasing}, {df_monthly.index.is_monotonic_increasing}\")\n",
    "print(f\"Index with unique values: {df.index.is_unique}, {df_monthly.index.is_unique}\")"
   ]
  },
  {
   "attachments": {},
   "cell_type": "markdown",
   "id": "e2ae3320",
   "metadata": {},
   "source": [
    "### **2. General Visualization**\n",
    "\n",
    "In thise section we are going to visualize several columns to understand how data is distributed, identify patterns and look for missing or unusual values. "
   ]
  },
  {
   "cell_type": "code",
   "execution_count": null,
   "id": "5841402e",
   "metadata": {},
   "outputs": [],
   "source": [
    "#Create list for visualization purposes\n",
    "df_list = ['df', 'df_daily', 'df_monthly']"
   ]
  },
  {
   "attachments": {},
   "cell_type": "markdown",
   "id": "bd72d7f1",
   "metadata": {},
   "source": [
    "#### **National Demand Analysis** (Target variable)\n",
    "\n"
   ]
  },
  {
   "cell_type": "code",
   "execution_count": null,
   "id": "c372488e",
   "metadata": {},
   "outputs": [],
   "source": [
    "#National Demand (nd) over time\n",
    "fig = make_subplots(rows=3, cols=1, subplot_titles=df_list)\n",
    "\n",
    "for i, df_name in enumerate(df_list):\n",
    "    fig.add_trace(go.Scatter(x=eval(df_name).index, y=eval(df_name)['nd'], mode='lines'), row=i+1, col=1)\n",
    "    fig.update_yaxes(title_text='MW', row=i+1, col=1)\n",
    "\n",
    "fig.update_layout(title='<b>National Demand</b>',  title_x=0.5,  height=800, width=1000, xaxis_title='Date', showlegend=False)\n",
    "\n",
    "fig.show()"
   ]
  },
  {
   "attachments": {},
   "cell_type": "markdown",
   "id": "6eb3cad3",
   "metadata": {},
   "source": [
    "National demand exhibits a slight downward trend and clear seasonality. However, the variability or dispersion of the data appears to be lower in the later years.\n",
    "\n",
    "In the df_monthly plot, we can observe that in July 2010 and 2012, the data displays sharp downward and upward curves. These fluctuations become smoother over time as the years progress."
   ]
  },
  {
   "attachments": {},
   "cell_type": "markdown",
   "id": "05eaa4c0",
   "metadata": {},
   "source": [
    "#### **Desagregated energy demand**\n",
    "\n",
    "The plot below displays the aggregate energy demand in the UK. The purple line represents the total energy demand of the system (TSD), the red line represents the National Demand (our target variable), and the green line represents the demand in England and Wales. These variables exhibit a high degree of collinearity as they contain overlapping information. However, it is important to note that there are subtle differences between National Demand and Transmission System Demand (TSD). TSD includes the energy consumed by the system for operational purposes, accounting for the slight variations between the purple and red plot lines."
   ]
  },
  {
   "cell_type": "code",
   "execution_count": null,
   "id": "5985e547",
   "metadata": {},
   "outputs": [],
   "source": [
    "fig = go.Figure()\n",
    "\n",
    "fig.add_trace(go.Scatter(x=df_monthly.index, y=df_monthly['tsd'], name='Transmitting System Demand'))\n",
    "fig.add_trace(go.Scatter(x=df_monthly.index, y=df_monthly['nd'], name='National Demand'))\n",
    "fig.add_trace(go.Scatter(x=df_monthly.index, y=df_monthly['england_wales_demand'], name='England Wales Demand'))\n",
    "\n",
    "fig.update_layout(title='<b>Desagregated Electricity Demand</b>', title_x=0.5, xaxis_title='Time', yaxis_title='Demand (MW)')\n",
    "fig.update_xaxes(rangeslider_visible=True)\n",
    "fig.show()\n"
   ]
  },
  {
   "attachments": {},
   "cell_type": "markdown",
   "id": "a55bf2cf",
   "metadata": {},
   "source": [
    "#### **Wind and Solar**"
   ]
  },
  {
   "cell_type": "code",
   "execution_count": null,
   "id": "8938a8ac",
   "metadata": {},
   "outputs": [],
   "source": [
    "#Plot solar and wind generation and capacity\n",
    "fig = go.Figure()\n",
    "\n",
    "fig.add_trace(go.Scatter(x=df_monthly.index, y=df_monthly['embedded_wind_generation'], name='Wind Generation'))\n",
    "fig.add_trace(go.Scatter(x=df_monthly.index, y=df_monthly['embedded_wind_capacity'], name='Wind Capacity'))\n",
    "fig.add_trace(go.Scatter(x=df_monthly.index, y=df_monthly['embedded_solar_generation'], name='Solar Generation'))\n",
    "fig.add_trace(go.Scatter(x=df_monthly.index, y=df_monthly['embedded_solar_capacity'], name='Solar Capacity'))\n",
    "fig.update_layout(title='<b>Wind and Solar generation and capacity</b>', title_x=0.5, xaxis_title='Time', yaxis_title='MW')\n",
    "fig.update_xaxes(rangeslider_visible=True)\n",
    "fig.show()"
   ]
  },
  {
   "attachments": {},
   "cell_type": "markdown",
   "id": "c9c58d72",
   "metadata": {},
   "source": [
    "The plot above displays four columns related to wind and solar energy sources. We can observe a gradual increase in generation for both sources, which plateaus after 2016. In terms of capacity, solar energy experienced substantial and rapid growth in 2015, followed by stabilization around 2018. Interestingly, it is notable that the generation does not proportionally increase despite the growth in capacity. Furthermore, it is worth mentioning that the highs and lows of solar and wind generation appear to be asynchronous. This means that when one source is generating at a high level, the other source tends to have a lower generation, and vice versa."
   ]
  },
  {
   "attachments": {},
   "cell_type": "markdown",
   "id": "c6709916",
   "metadata": {},
   "source": [
    "#### **Import and export flows**"
   ]
  },
  {
   "attachments": {},
   "cell_type": "markdown",
   "id": "17bedda9",
   "metadata": {},
   "source": [
    "From the data description we know that `ifa_flow`, `ifa2_flow`, `britned_flow`, `moyle_flow`,`east_west_flow` and `nemo_flow` all are import/export columns so we will merge them in a single column. "
   ]
  },
  {
   "cell_type": "code",
   "execution_count": null,
   "id": "4c184226",
   "metadata": {},
   "outputs": [],
   "source": [
    "df_monthly['import_export'] = (\n",
    "    df_monthly['ifa_flow'] +\n",
    "    df_monthly['ifa2_flow'] +\n",
    "    df_monthly['britned_flow'] +\n",
    "    df_monthly['moyle_flow'] +\n",
    "    df_monthly['east_west_flow'] +\n",
    "    df_monthly['nemo_flow']\n",
    ")"
   ]
  },
  {
   "cell_type": "code",
   "execution_count": null,
   "id": "10c094e2",
   "metadata": {},
   "outputs": [],
   "source": [
    "#Sanity check\n",
    "total_import_export_monthly = (\n",
    "    df_monthly['ifa_flow'] +\n",
    "    df_monthly['ifa2_flow'] +\n",
    "    df_monthly['britned_flow'] +\n",
    "    df_monthly['moyle_flow'] +\n",
    "    df_monthly['east_west_flow'] +\n",
    "    df_monthly['nemo_flow']\n",
    ")\n",
    "\n",
    "total_import_export_monthly_sum = total_import_export_monthly.sum() #Add values \n",
    "print(total_import_export_monthly_sum - df_monthly['import_export'].sum()) "
   ]
  },
  {
   "cell_type": "code",
   "execution_count": null,
   "id": "9845b56d",
   "metadata": {},
   "outputs": [],
   "source": [
    "#Check results\n",
    "fig, axes = plt.subplots(2, 1, figsize=(10, 5))\n",
    "\n",
    "axes[0].plot(df_daily['import_export'])\n",
    "axes[0].set_title('Daily Import/Export')\n",
    "axes[1].plot(df_monthly['import_export'])\n",
    "axes[1].set_title('Monthly Import/Export')\n",
    "plt.tight_layout()\n",
    "\n",
    "plt.show()"
   ]
  },
  {
   "cell_type": "code",
   "execution_count": null,
   "id": "d574996d",
   "metadata": {},
   "outputs": [],
   "source": [
    "fig = go.Figure()\n",
    "\n",
    "fig.add_trace(go.Scatter(x=df_monthly.index, y=df_monthly['ifa_flow'], name='IFA'))\n",
    "fig.add_trace(go.Scatter(x=df_monthly.index, y=df_monthly['ifa2_flow'], name='IFA2'))\n",
    "fig.add_trace(go.Scatter(x=df_monthly.index, y=df_monthly['britned_flow'], name='BRITNED'))\n",
    "fig.add_trace(go.Scatter(x=df_monthly.index, y=df_monthly['moyle_flow'], name='MOYLE'))\n",
    "fig.add_trace(go.Scatter(x=df_monthly.index, y=df_monthly['east_west_flow'], name='EAST-WEST'))\n",
    "fig.add_trace(go.Scatter(x=df_monthly.index, y=df_monthly['nemo_flow'], name='NEMO'))\n",
    "fig.add_trace(go.Scatter(x=df_monthly.index, y=df_monthly['import_export'], name='Consolidated Import-Export'))\n",
    "fig.update_layout(title='<b>Import and Export Flows</b>', title_x=0.5, xaxis_title='Time', yaxis_title='MW')\n",
    "fig.update_xaxes(rangeslider_visible=True)\n",
    "fig.show()"
   ]
  },
  {
   "cell_type": "code",
   "execution_count": null,
   "id": "2e69e92b",
   "metadata": {},
   "outputs": [],
   "source": [
    "#Drop added columns \n",
    "\n",
    "df_monthly.drop(columns=['ifa_flow', 'ifa2_flow', 'britned_flow', 'moyle_flow','east_west_flow', 'nemo_flow'], inplace=True)\n",
    "df_monthly.columns"
   ]
  },
  {
   "attachments": {},
   "cell_type": "markdown",
   "id": "9c80a25e",
   "metadata": {},
   "source": [
    "### **4. Data Decomposition**\n",
    "To understand energy consumption patters we are going to plot a breakdown of National Demand by hour, weeks and months. "
   ]
  },
  {
   "cell_type": "code",
   "execution_count": null,
   "id": "3f142c39",
   "metadata": {},
   "outputs": [],
   "source": [
    "#Create features to plot\n",
    "df['hour'] = df.index.hour\n",
    "df['day_week'] = df.index.dayofweek\n",
    "df['month'] = df.index.month"
   ]
  },
  {
   "cell_type": "code",
   "execution_count": null,
   "id": "9fefa0c8",
   "metadata": {},
   "outputs": [],
   "source": [
    "#plot energy consumption by hour \n",
    "fig, ax = plt.subplots(figsize=(10, 4))\n",
    "sns.boxplot(data=df, x='hour', y='nd')\n",
    "sns.despine()\n",
    "ax.set_title(\"MW by hour\")\n",
    "plt.show()"
   ]
  },
  {
   "attachments": {},
   "cell_type": "markdown",
   "id": "95728ead",
   "metadata": {},
   "source": [
    "Energy consumtion during the first hours of the day is low, raching it lowest point at 4 AM, afterwars it rises from 5 to 9 AM when it stabilizes until 3 PM when it surges to reach a high peak at 6 PM and finally steadily declines until midgnight. "
   ]
  },
  {
   "cell_type": "code",
   "execution_count": null,
   "id": "cd2e0982",
   "metadata": {},
   "outputs": [],
   "source": [
    "#plot energy consumption by week\n",
    "fig, ax = plt.subplots(figsize=(10, 4))\n",
    "sns.boxplot(data=df, x='day_week', y='nd')\n",
    "sns.despine()\n",
    "ax.set_title(\"MW by day of Week\")\n",
    "ax.set_xticklabels(['Mon', 'Tue', 'Wed', 'Thur', 'Fri', 'Sat', 'Sun'])\n",
    "plt.show()\n"
   ]
  },
  {
   "attachments": {},
   "cell_type": "markdown",
   "id": "c3db8588",
   "metadata": {},
   "source": [
    "Energy consumption is fairly similar from monday to friday, the weekend present a lower energy consumtion. "
   ]
  },
  {
   "cell_type": "code",
   "execution_count": null,
   "id": "bdc05ca4",
   "metadata": {},
   "outputs": [],
   "source": [
    "#plot energy consumption by year\n",
    "fig, ax = plt.subplots(figsize=(10,4))\n",
    "sns.boxplot(data=df, x='month', y='nd')\n",
    "sns.despine()\n",
    "ax.set_title(\"MW by month\")\n",
    "plt.show()"
   ]
  },
  {
   "attachments": {},
   "cell_type": "markdown",
   "id": "d095e14a",
   "metadata": {},
   "source": [
    "Energy consumption through the year has a clear seasonal pattern with low consumption in the warmer months and high consumption in the cold winter months. "
   ]
  },
  {
   "attachments": {},
   "cell_type": "markdown",
   "id": "a0abee48",
   "metadata": {},
   "source": [
    "### **Seasonal Plot**\n",
    "\n",
    "Another important aspect to analyze in time series data is the presence of seasonality and the components of the series. In the following plots, we will visualize the monthly consumption and the decomposition of the National Demand column, providing valuable insights into the data."
   ]
  },
  {
   "cell_type": "code",
   "execution_count": null,
   "id": "5ccf75f6",
   "metadata": {},
   "outputs": [],
   "source": [
    "plt.figure(figsize=(15, 5))\n",
    "\n",
    "month_plot(df_monthly[\"nd\"], ax=plt.gca())\n",
    "\n",
    "plt.title(\"Seasonal National Demand per Month\")\n",
    "sns.despine()\n",
    "plt.show()"
   ]
  },
  {
   "attachments": {},
   "cell_type": "markdown",
   "id": "674f901d",
   "metadata": {},
   "source": [
    "The monthly trend of the energy consumption has a U shape with its highest points on January and December and the lowest point of energy consumption in the summer month of June. \n",
    "\n",
    "Its intereseting to notice the upward trend of or the later years in April, May and June. "
   ]
  },
  {
   "attachments": {},
   "cell_type": "markdown",
   "id": "9ba30902",
   "metadata": {},
   "source": [
    "### **Trend Season Decomposition**\n",
    "\n",
    "We will employ an additive method for the seasonal decomposition.\n",
    "\n",
    "The seasonal decomposition can be described as follows:\n",
    "$$\n",
    "yt = St + Tt + Rt\n",
    "$$\n",
    "In the equation above, yt represents the observation at a certain period t (`nd` at period t). St represents the seasonal component of the series, which in our case is an annual pattern. Tt represents the trend of the series, which in the case of energy is ascending. Rt represents the random component of the data, which we expect to exhibit no clear pattern, seasonality, or trend. The elements being decomposed are added together because they do not have a multiplicative effect on each other; their sum constitutes the data."
   ]
  },
  {
   "cell_type": "code",
   "execution_count": null,
   "id": "b0242e88",
   "metadata": {},
   "outputs": [],
   "source": [
    "# decompose the time series using df_monthly\n",
    "decomposition_nd = seasonal_decompose(df_monthly['nd'], model='additive')"
   ]
  },
  {
   "cell_type": "code",
   "execution_count": null,
   "id": "bcac2270",
   "metadata": {},
   "outputs": [],
   "source": [
    "#Save results\n",
    "df_monthly[\"trend_nd\"] = decomposition_nd.trend\n",
    "df_monthly[\"seasonal_nd\"] = decomposition_nd.seasonal\n",
    "df_monthly[\"residual_nd\"] = decomposition_nd.resid"
   ]
  },
  {
   "cell_type": "code",
   "execution_count": null,
   "id": "85cb349d",
   "metadata": {},
   "outputs": [],
   "source": [
    "#Plot resutls\n",
    "cols = [\"trend_nd\", \"seasonal_nd\", \"residual_nd\"]\n",
    "\n",
    "fig = make_subplots(rows=3, cols=1, subplot_titles=cols)\n",
    "\n",
    "for i, col in enumerate(cols):\n",
    "    fig.add_trace(\n",
    "        go.Scatter(x=df_monthly.index, y=df_monthly[col]),\n",
    "        row=i+1,\n",
    "        col=1\n",
    "    )\n",
    "\n",
    "fig.update_layout(title=\"<b>National Demand Decomposition</b>\", title_x=0.5, height=800, width=1050, showlegend=False)\n",
    "fig.show()\n"
   ]
  },
  {
   "attachments": {},
   "cell_type": "markdown",
   "id": "af48208f",
   "metadata": {},
   "source": [
    "From the plot above we can conclude the following:\n",
    "\n",
    "- **Trend:** The National Demand for energy shows a decreasing trend with occasional small upward bumps. The decline in energy consumption has been steady since 2013. \n",
    "\n",
    "- **Seasonality:**  The National Demand column exhibits a clear seasonal pattern that aligns with weather seasons. There is high demand during the cold months of winter and low energy consumption during summer, with the lowest point occurring in June. March shows a slight increase from the downward slope of the seasonal pattern, which could be attributed to Easter.\n",
    "\n",
    "- **Residuals:** The residual component appears to be random, with generally low variation, except for a few steep high and low peaks."
   ]
  },
  {
   "attachments": {},
   "cell_type": "markdown",
   "id": "dc7ad0a9",
   "metadata": {},
   "source": [
    "### **5. Data Saving**"
   ]
  },
  {
   "cell_type": "code",
   "execution_count": null,
   "id": "85340f07",
   "metadata": {},
   "outputs": [],
   "source": [
    "df.to_csv('../data/historic_demand_2009_2023_prepro.csv', index=True)\n",
    "df_monthly.to_csv('../data/monthly_historic_demand_2009_2023_prepro.csv', index=True)"
   ]
  }
 ],
 "metadata": {
  "kernelspec": {
   "display_name": "Python 3 (ipykernel)",
   "language": "python",
   "name": "python3"
  },
  "language_info": {
   "codemirror_mode": {
    "name": "ipython",
    "version": 3
   },
   "file_extension": ".py",
   "mimetype": "text/x-python",
   "name": "python",
   "nbconvert_exporter": "python",
   "pygments_lexer": "ipython3",
   "version": "3.8.16"
  }
 },
 "nbformat": 4,
 "nbformat_minor": 5
}
